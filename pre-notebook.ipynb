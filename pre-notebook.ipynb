{
 "cells": [
  {
   "cell_type": "code",
   "execution_count": null,
   "metadata": {},
   "outputs": [],
   "source": [
    "# Install gdown if necessary\n",
    "!pip install --upgrade gdown\n",
    "\n",
    "# Download the first file\n",
    "!gdown --id 1-09P6omwx14-KUrm2W1D6ChZrWtwPHFc -O downloaded_file1.ext\n",
    "\n",
    "# Download the second file\n",
    "!gdown --id 1Q54QP7ma3emCNY1DUcpa07hHqS6pxV01 -O downloaded_file2.ext"
   ]
  }
 ],
 "metadata": {
  "language_info": {
   "name": "python"
  }
 },
 "nbformat": 4,
 "nbformat_minor": 2
}
