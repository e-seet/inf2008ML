{
 "cells": [
  {
   "cell_type": "markdown",
   "metadata": {},
   "source": [
    "Load Data source\n",
    "\n",
    "https://techassessment.blob.core.windows.net/aiap-pys-2/noshow.db\n"
   ]
  },
  {
   "cell_type": "code",
   "execution_count": 337,
   "metadata": {},
   "outputs": [
    {
     "name": "stdout",
     "output_type": "stream",
     "text": [
      "Database downloaded to data/noshow.db\n"
     ]
    }
   ],
   "source": [
    "# download ad import the data\n",
    "import requests\n",
    "\n",
    "url = \"https://techassessment.blob.core.windows.net/aiap-pys-2/noshow.db\"\n",
    "file_path = \"data/noshow.db\"\n",
    "\n",
    "# Download the database\n",
    "response = requests.get(url)\n",
    "with open(file_path, \"wb\") as file:\n",
    "    file.write(response.content)\n",
    "\t\n",
    "print(f\"Database downloaded to {file_path}\")\n"
   ]
  },
  {
   "cell_type": "code",
   "execution_count": 338,
   "metadata": {},
   "outputs": [
    {
     "name": "stdout",
     "output_type": "stream",
     "text": [
      "Tables in the database:      name\n",
      "0  noshow\n",
      "   booking_id  no_show   branch booking_month arrival_month  arrival_day  \\\n",
      "0       94113      0.0   Changi      November          June         25.0   \n",
      "1       86543      0.0  Orchard        August      November         28.0   \n",
      "2       75928      0.0   Changi         March      February          7.0   \n",
      "3       66947      1.0  Orchard     September       October          1.0   \n",
      "4      106390      0.0  Orchard         March          June         20.0   \n",
      "\n",
      "  checkout_month  checkout_day    country first_time    room         price  \\\n",
      "0           June          27.0  Singapore        Yes  Single   SGD$ 492.98   \n",
      "1       November          29.0  Indonesia        Yes    King  SGD$ 1351.22   \n",
      "2       February          11.0      India        Yes  Single          None   \n",
      "3        October           3.0      China        Yes  Single   SGD$ 666.04   \n",
      "4           June          24.0  Australia        Yes   Queen   USD$ 665.37   \n",
      "\n",
      "  platform num_adults  num_children  \n",
      "0  Website          1           0.0  \n",
      "1  Website          2           0.0  \n",
      "2    Agent          1           0.0  \n",
      "3  Website          1           0.0  \n",
      "4  Website          1           0.0  \n"
     ]
    }
   ],
   "source": [
    "\n",
    "import sqlite3\n",
    "import pandas as pd\n",
    "\n",
    "# Connect to the database\n",
    "db_path = 'data/noshow.db'  # Ensure the file path is correct\n",
    "conn = sqlite3.connect(db_path)\n",
    "\n",
    "try:\n",
    "    # List all tables in the database\n",
    "    tables = pd.read_sql_query(\"SELECT name FROM sqlite_master WHERE type='table';\", conn)\n",
    "    print(\"Tables in the database:\", tables)\n",
    "\n",
    "    # Load the `noshow` table into a DataFrame\n",
    "    query = \"SELECT * FROM noshow\"\n",
    "    data = pd.read_sql_query(query, conn)\n",
    "\n",
    "    # Display the first few rows of the table\n",
    "    print(data.head())\n",
    "\n",
    "except Exception as e:\n",
    "    print(f\"An error occurred: {e}\")\n",
    "\n",
    "finally:\n",
    "    # Close the connection\n",
    "    conn.close()"
   ]
  },
  {
   "cell_type": "code",
   "execution_count": 339,
   "metadata": {},
   "outputs": [
    {
     "name": "stdout",
     "output_type": "stream",
     "text": [
      "<class 'pandas.core.frame.DataFrame'>\n",
      "RangeIndex: 119391 entries, 0 to 119390\n",
      "Data columns (total 15 columns):\n",
      " #   Column          Non-Null Count   Dtype  \n",
      "---  ------          --------------   -----  \n",
      " 0   booking_id      119391 non-null  int64  \n",
      " 1   no_show         119390 non-null  float64\n",
      " 2   branch          119390 non-null  object \n",
      " 3   booking_month   119390 non-null  object \n",
      " 4   arrival_month   119390 non-null  object \n",
      " 5   arrival_day     119390 non-null  float64\n",
      " 6   checkout_month  119390 non-null  object \n",
      " 7   checkout_day    119390 non-null  float64\n",
      " 8   country         119390 non-null  object \n",
      " 9   first_time      119390 non-null  object \n",
      " 10  room            97778 non-null   object \n",
      " 11  price           94509 non-null   object \n",
      " 12  platform        119390 non-null  object \n",
      " 13  num_adults      119390 non-null  object \n",
      " 14  num_children    119390 non-null  float64\n",
      "dtypes: float64(4), int64(1), object(10)\n",
      "memory usage: 13.7+ MB\n",
      "None\n"
     ]
    }
   ],
   "source": [
    "# EDA\n",
    "print(data.info())\n"
   ]
  },
  {
   "cell_type": "code",
   "execution_count": 340,
   "metadata": {},
   "outputs": [
    {
     "name": "stdout",
     "output_type": "stream",
     "text": [
      "          booking_id        no_show    arrival_day   checkout_day  \\\n",
      "count  119391.000000  119390.000000  119390.000000  119390.000000   \n",
      "mean    59695.000000       0.370416      15.798241      14.250507   \n",
      "std     34465.357332       0.482918       8.780829      11.063697   \n",
      "min         0.000000       0.000000       1.000000     -31.000000   \n",
      "25%     29847.500000       0.000000       8.000000       7.000000   \n",
      "50%     59695.000000       0.000000      16.000000      15.000000   \n",
      "75%     89542.500000       1.000000      23.000000      23.000000   \n",
      "max    119390.000000       1.000000      31.000000      31.000000   \n",
      "\n",
      "        num_children  \n",
      "count  119390.000000  \n",
      "mean        0.871229  \n",
      "std         0.779796  \n",
      "min         0.000000  \n",
      "25%         0.000000  \n",
      "50%         1.000000  \n",
      "75%         1.000000  \n",
      "max         3.000000  \n"
     ]
    }
   ],
   "source": [
    "print(data.describe())"
   ]
  },
  {
   "cell_type": "code",
   "execution_count": 341,
   "metadata": {},
   "outputs": [
    {
     "name": "stdout",
     "output_type": "stream",
     "text": [
      "booking_id            0\n",
      "no_show               1\n",
      "branch                1\n",
      "booking_month         1\n",
      "arrival_month         1\n",
      "arrival_day           1\n",
      "checkout_month        1\n",
      "checkout_day          1\n",
      "country               1\n",
      "first_time            1\n",
      "room              21613\n",
      "price             24882\n",
      "platform              1\n",
      "num_adults            1\n",
      "num_children          1\n",
      "dtype: int64\n"
     ]
    }
   ],
   "source": [
    "print(data.isnull().sum())\n"
   ]
  },
  {
   "cell_type": "markdown",
   "metadata": {},
   "source": []
  },
  {
   "cell_type": "code",
   "execution_count": null,
   "metadata": {},
   "outputs": [],
   "source": []
  },
  {
   "cell_type": "code",
   "execution_count": 342,
   "metadata": {},
   "outputs": [
    {
     "name": "stdout",
     "output_type": "stream",
     "text": [
      "Unique values in 'no_show': [ 0.  1. nan]\n",
      "There are other values in 'no_show': {nan}\n"
     ]
    }
   ],
   "source": [
    "# Check the No show column\n",
    "# Check unique values in the 'no_show' column\n",
    "unique_values = data['no_show'].unique()\n",
    "print(\"Unique values in 'no_show':\", unique_values)\n",
    "\n",
    "# Verify if all values are 0.0 or 1.0\n",
    "valid_values = {0.0, 1.0}\n",
    "if set(unique_values).issubset(valid_values):\n",
    "    print(\"All values in 'no_show' are either 0.0 or 1.0.\")\n",
    "else:\n",
    "    print(\"There are other values in 'no_show':\", set(unique_values) - valid_values)"
   ]
  },
  {
   "cell_type": "code",
   "execution_count": 343,
   "metadata": {},
   "outputs": [
    {
     "name": "stdout",
     "output_type": "stream",
     "text": [
      "        booking_id  no_show   branch booking_month arrival_month  arrival_day  \\\n",
      "0            94113      0.0   Changi      November          June         25.0   \n",
      "1            86543      0.0  Orchard        August      November         28.0   \n",
      "2            75928      0.0   Changi         March      February          7.0   \n",
      "3            66947      1.0  Orchard     September       October          1.0   \n",
      "4           106390      0.0  Orchard         March          June         20.0   \n",
      "...            ...      ...      ...           ...           ...          ...   \n",
      "119386        4823      0.0   Changi     September         April          3.0   \n",
      "119387       25062      0.0  Orchard         March      December         30.0   \n",
      "119388       81936      1.0   Changi     September         March         31.0   \n",
      "119389        6738      0.0   Changi      February      February         25.0   \n",
      "119390       99643      0.0   Changi         March          July         18.0   \n",
      "\n",
      "       checkout_month  checkout_day    country first_time    room  \\\n",
      "0                June          27.0  Singapore        Yes  Single   \n",
      "1            November          29.0  Indonesia        Yes    King   \n",
      "2            February          11.0      India        Yes  Single   \n",
      "3             October           3.0      China        Yes  Single   \n",
      "4                June          24.0  Australia        Yes   Queen   \n",
      "...               ...           ...        ...        ...     ...   \n",
      "119386          April           5.0      China        Yes    King   \n",
      "119387        January           3.0      China        Yes    King   \n",
      "119388          April           1.0  Indonesia        Yes    King   \n",
      "119389       February          27.0      China        Yes    None   \n",
      "119390           July          26.0      India        Yes    King   \n",
      "\n",
      "               price platform num_adults  num_children  \n",
      "0        SGD$ 492.98  Website          1           0.0  \n",
      "1       SGD$ 1351.22  Website          2           0.0  \n",
      "2               None    Agent          1           0.0  \n",
      "3        SGD$ 666.04  Website          1           0.0  \n",
      "4        USD$ 665.37  Website          1           0.0  \n",
      "...              ...      ...        ...           ...  \n",
      "119386   USD$ 612.18  Website          1           1.0  \n",
      "119387  USD$ 1041.29    Email          2           0.0  \n",
      "119388   USD$ 641.47    Email          1           2.0  \n",
      "119389   SGD$ 886.35  Website          2           0.0  \n",
      "119390   SGD$ 901.95  Website          1           2.0  \n",
      "\n",
      "[119391 rows x 15 columns]\n"
     ]
    }
   ],
   "source": [
    "print(data)"
   ]
  },
  {
   "cell_type": "code",
   "execution_count": 344,
   "metadata": {},
   "outputs": [
    {
     "name": "stdout",
     "output_type": "stream",
     "text": [
      "Unique values in 'branch': ['Changi' 'Orchard' None]\n",
      "Number of unique values in 'branch': 3\n",
      "\n",
      "--------------------------------------------------\n",
      "Unique values in 'booking_month': ['November' 'August' 'March' 'September' 'July' 'January' 'October' 'June'\n",
      " 'December' 'April' 'May' 'February' None]\n",
      "Number of unique values in 'booking_month': 13\n",
      "\n",
      "--------------------------------------------------\n",
      "Unique values in 'arrival_month': ['June' 'November' 'February' 'October' 'September' 'March' 'May' 'August'\n",
      " 'July' 'January' 'April' 'December' 'ApRiL' 'OcTobeR' 'JuNe' 'JulY'\n",
      " 'ApriL' 'OctOber' 'DecembEr' 'SeptEmber' 'JanUary' 'JUne' 'FeBruary'\n",
      " 'JanuarY' 'DEcember' 'SePtember' 'DecembeR' 'MaY' 'NoVember' 'JUly'\n",
      " 'JunE' 'JuLy' 'FebrUary' 'NOvember' 'SeptemBer' 'OctobeR' 'DecemBer'\n",
      " 'MarCh' 'AuguSt' 'AugusT' 'APril' 'SepTember' 'NovembEr' 'FEbruary'\n",
      " 'DeceMber' 'AuGust' 'SepteMber' 'FebruaRy' 'OctoBer' 'JanuaRy' 'MarcH'\n",
      " 'ApRil' 'AUgust' 'JanuAry' 'NOveMber' 'MaRch' 'AprIl' 'MAy' 'NovemBer'\n",
      " 'DecEmber' 'MArch' 'JaNuary' 'NovembeR' 'SeptembEr' 'FebruarY'\n",
      " 'SeptembeR' 'OcTober' 'DeCember' 'FebruAry' 'AugUst' 'NovEmber'\n",
      " 'NoveMber' 'OctobEr' 'OCtober' 'SEptember' 'JAnuary' 'SeptEMber' 'MAY'\n",
      " 'FebRuary' 'FeBruarY' 'OCTober' 'JUnE' 'DecEMber' 'FebruaRY' 'NovemBeR'\n",
      " 'NOvEmber' 'FEbruarY' None 'FeBruaRy']\n",
      "Number of unique values in 'arrival_month': 89\n",
      "\n",
      "--------------------------------------------------\n",
      "Unique values in 'arrival_day': [25. 28.  7.  1. 20. 12. 15. 18. 27. 22.  9. 11. 10. 13. 30. 21.  5.  6.\n",
      "  2. 31. 19.  4.  3. 23. 17.  8. 26. 14. 24. 29. 16. nan]\n",
      "Number of unique values in 'arrival_day': 32\n",
      "\n",
      "--------------------------------------------------\n",
      "Unique values in 'checkout_month': ['June' 'November' 'February' 'October' 'September' 'March' 'May' 'August'\n",
      " 'July' 'January' 'April' 'December' None]\n",
      "Number of unique values in 'checkout_month': 13\n",
      "\n",
      "--------------------------------------------------\n",
      "Unique values in 'checkout_day': [ 27.  29.  11.   3.  24.  13.  16.  19.  28.  10.  12.  15.  23.  31.\n",
      "  25.  17.   8.   2.   9.   7.   1.  20.  14.  -4.   4.   6.  21.   5.\n",
      "  18.  22. -10.  -3.  30.  26.  -6.  -5. -28. -20. -16. -19. -17. -12.\n",
      " -30. -26.  -8. -24. -15. -21.  -1.  -7. -27. -11. -18. -22. -13. -14.\n",
      " -29. -23.  -9.  -2. -31. -25.  nan]\n",
      "Number of unique values in 'checkout_day': 63\n",
      "\n",
      "--------------------------------------------------\n",
      "Unique values in 'country': ['Singapore' 'Indonesia' 'India' 'China' 'Australia' 'Japan' 'Malaysia'\n",
      " None]\n",
      "Number of unique values in 'country': 8\n",
      "\n",
      "--------------------------------------------------\n",
      "Unique values in 'first_time': ['Yes' 'No' None]\n",
      "Number of unique values in 'first_time': 3\n",
      "\n",
      "--------------------------------------------------\n",
      "Unique values in 'room': ['Single' 'King' 'Queen' None 'President Suite']\n",
      "Number of unique values in 'room': 5\n",
      "\n",
      "--------------------------------------------------\n",
      "Unique values in 'price': ['SGD$ 492.98' 'SGD$ 1351.22' None ... 'USD$ 612.18' 'USD$ 1041.29'\n",
      " 'SGD$ 886.35']\n",
      "Number of unique values in 'price': 61868\n",
      "\n",
      "--------------------------------------------------\n",
      "Unique values in 'platform': ['Website' 'Agent' 'Email' 'Phone' None]\n",
      "Number of unique values in 'platform': 5\n",
      "\n",
      "--------------------------------------------------\n",
      "Unique values in 'num_adults': ['1' '2' 'one' 'two' None]\n",
      "Number of unique values in 'num_adults': 5\n",
      "\n",
      "--------------------------------------------------\n",
      "Unique values in 'num_children': [ 0.  2.  1.  3. nan]\n",
      "Number of unique values in 'num_children': 5\n",
      "\n",
      "--------------------------------------------------\n"
     ]
    }
   ],
   "source": [
    "# branch              \n",
    "# booking_month         1\n",
    "# arrival_month         1\n",
    "# arrival_day           1\n",
    "# checkout_month        1\n",
    "# checkout_day          1\n",
    "# country               1\n",
    "# first_time            1\n",
    "# room              21613\n",
    "# price             24882\n",
    "# platform              1\n",
    "# num_adults            1\n",
    "# num_children          1\n",
    "\n",
    "# Loop through each column and print unique values\n",
    "columns_to_check = [\n",
    "    'branch', 'booking_month', 'arrival_month', 'arrival_day', 'checkout_month', 'checkout_day',\n",
    "    'country', 'first_time', 'room', 'price', 'platform', 'num_adults', 'num_children'\n",
    "]\n",
    "\n",
    "\n",
    "for col in columns_to_check:\n",
    "    unique_values = data[col].unique()\n",
    "    print(f\"Unique values in '{col}':\", unique_values)\n",
    "    print(f\"Number of unique values in '{col}':\", len(unique_values))\n",
    "    print()\n",
    "    print(\"-\" * 50)\n"
   ]
  },
  {
   "cell_type": "code",
   "execution_count": 345,
   "metadata": {},
   "outputs": [
    {
     "name": "stdout",
     "output_type": "stream",
     "text": [
      "Unique values in 'arrival_month': ['June' 'November' 'February' 'October' 'September' 'March' 'May' 'August'\n",
      " 'July' 'January' 'April' 'December']\n",
      "Number of unique values in 'arrival_month': 12\n"
     ]
    }
   ],
   "source": [
    "month_mapping = {\n",
    "    'January': 'January', 'JanUary': 'January', 'JAnuary': 'January', 'JanuAry': 'January', 'JaNuary': 'January',\n",
    "    'FEBRUARY': 'February', 'February': 'February', 'FeBruary': 'February', 'FebRuary': 'February', 'FebruAry': 'February',\n",
    "    'March': 'March', 'MarCh': 'March', 'MArch': 'March', 'MaRch': 'March',\n",
    "    'April': 'April', 'ApRiL': 'April', 'APril': 'April', 'ApRil': 'April', 'AprIl': 'April',\n",
    "    'May': 'May', 'MaY': 'May',\n",
    "    'June': 'June', 'JuNe': 'June', 'JUne': 'June', 'JUnE': 'June',\n",
    "    'July': 'July', 'JulY': 'July', 'JUly': 'July', 'JuLy': 'July',\n",
    "    'August': 'August', 'AuguSt': 'August', 'AugusT': 'August', 'AUgust': 'August', 'AuGust': 'August',\n",
    "    'September': 'September', 'SeptEmber': 'September', 'SePtember': 'September', 'SeptemBer': 'September', 'SEptember': 'September',\n",
    "    'October': 'October', 'OcTobeR': 'October', 'OcTober': 'October', 'OctOber': 'October', 'OctobeR': 'October',\n",
    "    'November': 'November', 'NoVember': 'November', 'NovembeR': 'November', 'NoveMber': 'November', 'NOveMber': 'November',\n",
    "    'December': 'December', 'DecembeR': 'December', 'DEcember': 'December', 'DecEMber': 'December', 'DeceMber': 'December'\n",
    "}\n",
    "\n",
    "\n",
    "# Standardize the arrival_month column\n",
    "data['arrival_month'] = data['arrival_month'].map(month_mapping)\n",
    "\n",
    "# Handle missing values by filling with the mode (most frequent month)\n",
    "most_frequent_month = data['booking_month'].mode()[0]\n",
    "data['arrival_month'] = data['arrival_month'].fillna(most_frequent_month)\n",
    "\n",
    "# Verify the cleaned column\n",
    "print(\"Unique values in 'arrival_month':\", data['arrival_month'].unique())\n",
    "print(\"Number of unique values in 'arrival_month':\", data['arrival_month'].nunique())"
   ]
  },
  {
   "cell_type": "code",
   "execution_count": 346,
   "metadata": {},
   "outputs": [
    {
     "name": "stdout",
     "output_type": "stream",
     "text": [
      "Unique values in 'checkout_day': [27. 29. 11.  3. 24. 13. 16. 19. 28. 10. 12. 15. 23. 31. 25. 17.  8.  2.\n",
      "  9.  7.  1. 20. 14.  4.  6. 21.  5. 18. 22. 30. 26. nan]\n"
     ]
    }
   ],
   "source": [
    "# Fix negative value in checkout_day\n",
    "\n",
    "# Assume that the negative sign is added incorrectly. \n",
    "# Convert negative values to positive\n",
    "data['checkout_day'] = data['checkout_day'].apply(lambda x: abs(x) if x < 0 else x)\n",
    "\n",
    "# Verify the updated column\n",
    "print(\"Unique values in 'checkout_day':\", data['checkout_day'].unique())"
   ]
  },
  {
   "cell_type": "code",
   "execution_count": 347,
   "metadata": {},
   "outputs": [
    {
     "name": "stdout",
     "output_type": "stream",
     "text": [
      "Unique values in 'num_adults': [1. 2.]\n"
     ]
    }
   ],
   "source": [
    "# Fix inconsistent in the number of adult\n",
    "# one and 1. Change to 1 as the next column uses numerical instead of alphabets\n",
    "\n",
    "# Define a mapping for textual to numeric conversion\n",
    "adult_mapping = {'1': 1, '2': 2, 'one': 1, 'two': 2}\n",
    "\n",
    "# Apply the mapping to the num_adults column\n",
    "data['num_adults'] = data['num_adults'].map(adult_mapping)\n",
    "\n",
    "# Fill missing values (e.g., with the mode or a default value)\n",
    "most_frequent_adults = data['num_adults'].mode()[0]\n",
    "data['num_adults'] = data['num_adults'].fillna(most_frequent_adults)\n",
    "\n",
    "# Verify the cleaned column\n",
    "print(\"Unique values in 'num_adults':\", data['num_adults'].unique())"
   ]
  },
  {
   "cell_type": "code",
   "execution_count": 348,
   "metadata": {},
   "outputs": [
    {
     "name": "stdout",
     "output_type": "stream",
     "text": [
      "        booking_id  no_show   branch booking_month arrival_month  arrival_day  \\\n",
      "0            94113      0.0   Changi      November          June         25.0   \n",
      "1            86543      0.0  Orchard        August      November         28.0   \n",
      "2            75928      0.0   Changi         March      February          7.0   \n",
      "3            66947      1.0  Orchard     September       October          1.0   \n",
      "4           106390      0.0  Orchard         March          June         20.0   \n",
      "...            ...      ...      ...           ...           ...          ...   \n",
      "119386        4823      0.0   Changi     September         April          3.0   \n",
      "119387       25062      0.0  Orchard         March      December         30.0   \n",
      "119388       81936      1.0   Changi     September         March         31.0   \n",
      "119389        6738      0.0   Changi      February      February         25.0   \n",
      "119390       99643      0.0   Changi         March          July         18.0   \n",
      "\n",
      "       checkout_month  checkout_day    country first_time    room  \\\n",
      "0                June          27.0  Singapore        Yes  Single   \n",
      "1            November          29.0  Indonesia        Yes    King   \n",
      "2            February          11.0      India        Yes  Single   \n",
      "3             October           3.0      China        Yes  Single   \n",
      "4                June          24.0  Australia        Yes   Queen   \n",
      "...               ...           ...        ...        ...     ...   \n",
      "119386          April           5.0      China        Yes    King   \n",
      "119387        January           3.0      China        Yes    King   \n",
      "119388          April           1.0  Indonesia        Yes    King   \n",
      "119389       February          27.0      China        Yes    None   \n",
      "119390           July          26.0      India        Yes    King   \n",
      "\n",
      "               price platform  num_adults  num_children  \n",
      "0        SGD$ 492.98  Website         1.0           0.0  \n",
      "1       SGD$ 1351.22  Website         2.0           0.0  \n",
      "2               None    Agent         1.0           0.0  \n",
      "3        SGD$ 666.04  Website         1.0           0.0  \n",
      "4        USD$ 665.37  Website         1.0           0.0  \n",
      "...              ...      ...         ...           ...  \n",
      "119386   USD$ 612.18  Website         1.0           1.0  \n",
      "119387  USD$ 1041.29    Email         2.0           0.0  \n",
      "119388   USD$ 641.47    Email         1.0           2.0  \n",
      "119389   SGD$ 886.35  Website         2.0           0.0  \n",
      "119390   SGD$ 901.95  Website         1.0           2.0  \n",
      "\n",
      "[119391 rows x 15 columns]\n"
     ]
    }
   ],
   "source": [
    "print(data)"
   ]
  },
  {
   "cell_type": "markdown",
   "metadata": {},
   "source": [
    "Clean the data for price"
   ]
  },
  {
   "cell_type": "code",
   "execution_count": 349,
   "metadata": {},
   "outputs": [
    {
     "name": "stdout",
     "output_type": "stream",
     "text": [
      "0     SGD$ 492.98\n",
      "1    SGD$ 1351.22\n",
      "2            None\n",
      "3     SGD$ 666.04\n",
      "4     USD$ 665.37\n",
      "Name: price, dtype: object\n"
     ]
    }
   ],
   "source": [
    "print(data['price'].head())\n"
   ]
  },
  {
   "cell_type": "code",
   "execution_count": 350,
   "metadata": {},
   "outputs": [
    {
     "name": "stdout",
     "output_type": "stream",
     "text": [
      "0     492.980\n",
      "1    1351.220\n",
      "2         NaN\n",
      "3     666.040\n",
      "4     864.981\n",
      "Name: price, dtype: float64\n"
     ]
    }
   ],
   "source": [
    "# Fill missing numeric values with the median\n",
    "# data['price'] = data['price'].fillna(data['price'].median())\n",
    "\n",
    "# Define a function to process the price column\n",
    "def clean_price(price):\n",
    "    if pd.isna(price):  # Handle missing values\n",
    "        return None\n",
    "    if 'USD$' in price:  # If price is in USD\n",
    "        numeric_value = float(price.replace('USD$', '').strip())\n",
    "        return numeric_value * 1.3  # Convert to SGD\n",
    "    elif 'SGD$' in price:  # If price is in SGD\n",
    "        return float(price.replace('SGD$', '').strip())\n",
    "    else:\n",
    "        return None  # Handle unexpected formats\n",
    "\n",
    "# Apply the function to the 'price' column\n",
    "# this causes error\n",
    "data['price'] = data['price'].apply(clean_price)\n",
    "\n",
    "# Fill missing values with the median\n",
    "# data['price'] = data['price'].fillna(data['price'].median())\n",
    "\n",
    "# Display the cleaned price column\n",
    "print(data['price'].head())"
   ]
  },
  {
   "cell_type": "code",
   "execution_count": 351,
   "metadata": {},
   "outputs": [
    {
     "name": "stdout",
     "output_type": "stream",
     "text": [
      "        booking_id  no_show   branch booking_month arrival_month  arrival_day  \\\n",
      "0            94113      0.0   Changi      November          June         25.0   \n",
      "1            86543      0.0  Orchard        August      November         28.0   \n",
      "2            75928      0.0   Changi         March      February          7.0   \n",
      "3            66947      1.0  Orchard     September       October          1.0   \n",
      "4           106390      0.0  Orchard         March          June         20.0   \n",
      "...            ...      ...      ...           ...           ...          ...   \n",
      "119386        4823      0.0   Changi     September         April          3.0   \n",
      "119387       25062      0.0  Orchard         March      December         30.0   \n",
      "119388       81936      1.0   Changi     September         March         31.0   \n",
      "119389        6738      0.0   Changi      February      February         25.0   \n",
      "119390       99643      0.0   Changi         March          July         18.0   \n",
      "\n",
      "       checkout_month  checkout_day    country first_time    room     price  \\\n",
      "0                June          27.0  Singapore        Yes  Single   492.980   \n",
      "1            November          29.0  Indonesia        Yes    King  1351.220   \n",
      "2            February          11.0      India        Yes  Single       NaN   \n",
      "3             October           3.0      China        Yes  Single   666.040   \n",
      "4                June          24.0  Australia        Yes   Queen   864.981   \n",
      "...               ...           ...        ...        ...     ...       ...   \n",
      "119386          April           5.0      China        Yes    King   795.834   \n",
      "119387        January           3.0      China        Yes    King  1353.677   \n",
      "119388          April           1.0  Indonesia        Yes    King   833.911   \n",
      "119389       February          27.0      China        Yes    None   886.350   \n",
      "119390           July          26.0      India        Yes    King   901.950   \n",
      "\n",
      "       platform  num_adults  num_children  \n",
      "0       Website         1.0           0.0  \n",
      "1       Website         2.0           0.0  \n",
      "2         Agent         1.0           0.0  \n",
      "3       Website         1.0           0.0  \n",
      "4       Website         1.0           0.0  \n",
      "...         ...         ...           ...  \n",
      "119386  Website         1.0           1.0  \n",
      "119387    Email         2.0           0.0  \n",
      "119388    Email         1.0           2.0  \n",
      "119389  Website         2.0           0.0  \n",
      "119390  Website         1.0           2.0  \n",
      "\n",
      "[119391 rows x 15 columns]\n"
     ]
    }
   ],
   "source": [
    "print(data)"
   ]
  },
  {
   "cell_type": "code",
   "execution_count": 352,
   "metadata": {},
   "outputs": [
    {
     "name": "stdout",
     "output_type": "stream",
     "text": [
      "0.0    0.629584\n",
      "1.0    0.370416\n",
      "Name: no_show, dtype: float64\n"
     ]
    }
   ],
   "source": [
    "print(data['no_show'].value_counts(normalize=True))"
   ]
  },
  {
   "cell_type": "code",
   "execution_count": 353,
   "metadata": {},
   "outputs": [
    {
     "name": "stdout",
     "output_type": "stream",
     "text": [
      "booking_id            0\n",
      "no_show               1\n",
      "branch                1\n",
      "booking_month         1\n",
      "arrival_month         0\n",
      "arrival_day           1\n",
      "checkout_month        1\n",
      "checkout_day          1\n",
      "country               1\n",
      "first_time            1\n",
      "room              21613\n",
      "price             24882\n",
      "platform              1\n",
      "num_adults            0\n",
      "num_children          1\n",
      "dtype: int64\n",
      "\n",
      "Number of rows for DF: 119391\n"
     ]
    }
   ],
   "source": [
    "# Handle Missing ValueError\n",
    "print(data.isnull().sum())\n",
    "\n",
    "# check number of rows\n",
    "row_count = len(data)\n",
    "print(f\"\\nNumber of rows for DF: {row_count}\")"
   ]
  },
  {
   "cell_type": "code",
   "execution_count": 361,
   "metadata": {},
   "outputs": [],
   "source": [
    "# Temp fill in\n",
    "# Example: Fill missing categorical values with 'NA'\n",
    "data['room'] = data['room'].fillna('NA')\n",
    "data['price'] = data['price'].fillna('NA')\n"
   ]
  },
  {
   "cell_type": "code",
   "execution_count": 362,
   "metadata": {},
   "outputs": [
    {
     "name": "stdout",
     "output_type": "stream",
     "text": [
      "Number of duplicate rows: 0\n"
     ]
    }
   ],
   "source": [
    "# Check and Remove duplicate\n",
    "\n",
    "duplicates = data.duplicated()\n",
    "\n",
    "# Count the number of duplicate rows\n",
    "duplicate_count = duplicates.sum()\n",
    "print(f\"Number of duplicate rows: {duplicate_count}\")"
   ]
  },
  {
   "cell_type": "code",
   "execution_count": null,
   "metadata": {},
   "outputs": [
    {
     "name": "stdout",
     "output_type": "stream",
     "text": [
      "booking_id        0\n",
      "no_show           1\n",
      "branch            1\n",
      "booking_month     1\n",
      "arrival_month     0\n",
      "arrival_day       1\n",
      "checkout_month    1\n",
      "checkout_day      1\n",
      "country           1\n",
      "first_time        1\n",
      "room              0\n",
      "price             0\n",
      "platform          1\n",
      "num_adults        0\n",
      "num_children      1\n",
      "dtype: int64\n"
     ]
    }
   ],
   "source": [
    "print(data.isnull().sum())\n",
    "\n",
    "# either we drop or fill\n",
    "\n",
    "#  fill na\n",
    "data['no_show'] = data['no_show'].fillna('NA')\n",
    "data['branch'] = data['branch'].fillna('NA')\n",
    "data['booking_month'] = data['booking_month'].fillna('NA')\n",
    "data['arrival_day'] = data['arrival_day'].fillna('NA')\n",
    "data['checkout_month'] = data['checkout_month'].fillna('NA')\n",
    "data['checkout_day'] =data['checkout_day'].fillna('NA')\n",
    "data['country'] = data['country'].fillna('NA')\n",
    "data['first_time']= data['first_time'].fillna('NA')\n",
    "data['platform'] = data['platform'].fillna('NA')\n",
    "data['num_children'] = data['num_children'].fillna('NA')\n",
    "\n",
    "# Drop NA\n",
    "# List of columns to check for NaN\n",
    "columns_to_check = [\n",
    "    'no_show', 'branch', 'booking_month', 'arrival_day', 'checkout_month',\n",
    "    'checkout_day', 'country', 'first_time', 'platform', 'num_children'\n",
    "]\n",
    "# Drop rows where any of these columns have NaN\n",
    "data = data.dropna(subset=columns_to_check)\n",
    "# Verify the number of rows remaining\n",
    "print(f\"Number of rows after dropping rows with NaN: {len(data)}\")"
   ]
  },
  {
   "cell_type": "markdown",
   "metadata": {},
   "source": []
  },
  {
   "cell_type": "code",
   "execution_count": 364,
   "metadata": {},
   "outputs": [],
   "source": [
    "#visualization\n"
   ]
  },
  {
   "cell_type": "code",
   "execution_count": 365,
   "metadata": {},
   "outputs": [],
   "source": [
    "# # Outlier Detection:\n",
    "\n",
    "# from scipy.stats import zscore\n",
    "# data['z_score'] = zscore(data['numeric_column'])\n",
    "# data = data[data['z_score'].abs() < 3]  # Keep data within 3 standard deviations\n",
    "\n"
   ]
  },
  {
   "cell_type": "markdown",
   "metadata": {},
   "source": [
    "Feature engineering"
   ]
  },
  {
   "cell_type": "code",
   "execution_count": 366,
   "metadata": {},
   "outputs": [],
   "source": [
    "# Encode Categorical Features:\n",
    "# Split Data\n",
    "# Normalize/Scale Data"
   ]
  },
  {
   "cell_type": "code",
   "execution_count": null,
   "metadata": {},
   "outputs": [],
   "source": []
  },
  {
   "cell_type": "code",
   "execution_count": null,
   "metadata": {},
   "outputs": [],
   "source": []
  },
  {
   "cell_type": "markdown",
   "metadata": {},
   "source": []
  }
 ],
 "metadata": {
  "kernelspec": {
   "display_name": "Python 3",
   "language": "python",
   "name": "python3"
  },
  "language_info": {
   "codemirror_mode": {
    "name": "ipython",
    "version": 3
   },
   "file_extension": ".py",
   "mimetype": "text/x-python",
   "name": "python",
   "nbconvert_exporter": "python",
   "pygments_lexer": "ipython3",
   "version": "3.10.15"
  }
 },
 "nbformat": 4,
 "nbformat_minor": 2
}
