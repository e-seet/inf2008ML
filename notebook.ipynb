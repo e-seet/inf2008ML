{
 "cells": [
  {
   "cell_type": "markdown",
   "metadata": {},
   "source": [
    "Load Data source\n",
    "\n",
    "https://techassessment.blob.core.windows.net/aiap-pys-2/noshow.db\n"
   ]
  },
  {
   "cell_type": "code",
   "execution_count": 138,
   "metadata": {},
   "outputs": [
    {
     "name": "stdout",
     "output_type": "stream",
     "text": [
      "Database downloaded to data/noshow.db\n"
     ]
    }
   ],
   "source": [
    "# download ad import the data\n",
    "import requests\n",
    "\n",
    "url = \"https://techassessment.blob.core.windows.net/aiap-pys-2/noshow.db\"\n",
    "file_path = \"data/noshow.db\"\n",
    "\n",
    "# Download the database\n",
    "response = requests.get(url)\n",
    "\n",
    "# Save it as a local db file content\n",
    "with open(file_path, \"wb\") as file:\n",
    "    file.write(response.content)\n",
    "\t\n",
    "print(f\"Database downloaded to {file_path}\")\n"
   ]
  },
  {
   "cell_type": "code",
   "execution_count": 198,
   "metadata": {},
   "outputs": [
    {
     "name": "stdout",
     "output_type": "stream",
     "text": [
      "Tables in the database:      name\n",
      "0  noshow\n",
      "   booking_id  no_show   branch booking_month arrival_month  arrival_day  \\\n",
      "0       94113      0.0   Changi      November          June         25.0   \n",
      "1       86543      0.0  Orchard        August      November         28.0   \n",
      "2       75928      0.0   Changi         March      February          7.0   \n",
      "3       66947      1.0  Orchard     September       October          1.0   \n",
      "4      106390      0.0  Orchard         March          June         20.0   \n",
      "\n",
      "  checkout_month  checkout_day    country first_time    room         price  \\\n",
      "0           June          27.0  Singapore        Yes  Single   SGD$ 492.98   \n",
      "1       November          29.0  Indonesia        Yes    King  SGD$ 1351.22   \n",
      "2       February          11.0      India        Yes  Single          None   \n",
      "3        October           3.0      China        Yes  Single   SGD$ 666.04   \n",
      "4           June          24.0  Australia        Yes   Queen   USD$ 665.37   \n",
      "\n",
      "  platform num_adults  num_children  \n",
      "0  Website          1           0.0  \n",
      "1  Website          2           0.0  \n",
      "2    Agent          1           0.0  \n",
      "3  Website          1           0.0  \n",
      "4  Website          1           0.0  \n"
     ]
    }
   ],
   "source": [
    "import sqlite3\n",
    "import pandas as pd\n",
    "\n",
    "# Connect to the database and load the db file that we saved\n",
    "db_path = 'data/noshow.db'  # Ensure the file path is correct\n",
    "conn = sqlite3.connect(db_path)\n",
    "\n",
    "try:\n",
    "    # List all tables in the database\n",
    "    tables = pd.read_sql_query(\"SELECT name FROM sqlite_master WHERE type='table';\", conn)\n",
    "    print(\"Tables in the database:\", tables)\n",
    "\n",
    "    # Load the `noshow` table into a DataFrame\n",
    "    query = \"SELECT * FROM noshow\"\n",
    "    data = pd.read_sql_query(query, conn)\n",
    "\n",
    "    # Display the first few rows of the table\n",
    "    print(data.head())\n",
    "\n",
    "except Exception as e:\n",
    "    print(f\"An error occurred: {e}\")\n",
    "\n",
    "finally:\n",
    "    # Close the connection\n",
    "    conn.close()"
   ]
  },
  {
   "cell_type": "markdown",
   "metadata": {},
   "source": [
    "EDA\n",
    "From This point onwards, we will be doing Explorartory Data Analysis."
   ]
  },
  {
   "cell_type": "code",
   "execution_count": 199,
   "metadata": {},
   "outputs": [
    {
     "name": "stdout",
     "output_type": "stream",
     "text": [
      "<class 'pandas.core.frame.DataFrame'>\n",
      "RangeIndex: 119391 entries, 0 to 119390\n",
      "Data columns (total 15 columns):\n",
      " #   Column          Non-Null Count   Dtype  \n",
      "---  ------          --------------   -----  \n",
      " 0   booking_id      119391 non-null  int64  \n",
      " 1   no_show         119390 non-null  float64\n",
      " 2   branch          119390 non-null  object \n",
      " 3   booking_month   119390 non-null  object \n",
      " 4   arrival_month   119390 non-null  object \n",
      " 5   arrival_day     119390 non-null  float64\n",
      " 6   checkout_month  119390 non-null  object \n",
      " 7   checkout_day    119390 non-null  float64\n",
      " 8   country         119390 non-null  object \n",
      " 9   first_time      119390 non-null  object \n",
      " 10  room            97778 non-null   object \n",
      " 11  price           94509 non-null   object \n",
      " 12  platform        119390 non-null  object \n",
      " 13  num_adults      119390 non-null  object \n",
      " 14  num_children    119390 non-null  float64\n",
      "dtypes: float64(4), int64(1), object(10)\n",
      "memory usage: 13.7+ MB\n",
      "None\n"
     ]
    }
   ],
   "source": [
    "# Get the concise summary of a DataFrame.\n",
    "print(data.info())"
   ]
  },
  {
   "cell_type": "code",
   "execution_count": 200,
   "metadata": {},
   "outputs": [
    {
     "name": "stdout",
     "output_type": "stream",
     "text": [
      "          booking_id        no_show    arrival_day   checkout_day  \\\n",
      "count  119391.000000  119390.000000  119390.000000  119390.000000   \n",
      "mean    59695.000000       0.370416      15.798241      14.250507   \n",
      "std     34465.357332       0.482918       8.780829      11.063697   \n",
      "min         0.000000       0.000000       1.000000     -31.000000   \n",
      "25%     29847.500000       0.000000       8.000000       7.000000   \n",
      "50%     59695.000000       0.000000      16.000000      15.000000   \n",
      "75%     89542.500000       1.000000      23.000000      23.000000   \n",
      "max    119390.000000       1.000000      31.000000      31.000000   \n",
      "\n",
      "        num_children  \n",
      "count  119390.000000  \n",
      "mean        0.871229  \n",
      "std         0.779796  \n",
      "min         0.000000  \n",
      "25%         0.000000  \n",
      "50%         1.000000  \n",
      "75%         1.000000  \n",
      "max         3.000000  \n"
     ]
    }
   ],
   "source": [
    "# descriptive statistics\n",
    "print(data.describe())"
   ]
  },
  {
   "cell_type": "code",
   "execution_count": 201,
   "metadata": {},
   "outputs": [
    {
     "name": "stdout",
     "output_type": "stream",
     "text": [
      "booking_id            0\n",
      "no_show               1\n",
      "branch                1\n",
      "booking_month         1\n",
      "arrival_month         1\n",
      "arrival_day           1\n",
      "checkout_month        1\n",
      "checkout_day          1\n",
      "country               1\n",
      "first_time            1\n",
      "room              21613\n",
      "price             24882\n",
      "platform              1\n",
      "num_adults            1\n",
      "num_children          1\n",
      "dtype: int64\n",
      "Number of rows: 119391\n"
     ]
    }
   ],
   "source": [
    "# check for the number of nulls\n",
    "print(data.isnull().sum())\n",
    "\n",
    "num_rows = data.shape[0]\n",
    "print(f\"Number of rows: {num_rows}\")"
   ]
  },
  {
   "cell_type": "markdown",
   "metadata": {},
   "source": [
    "Check the unique values of all the columns"
   ]
  },
  {
   "cell_type": "code",
   "execution_count": 202,
   "metadata": {},
   "outputs": [
    {
     "name": "stdout",
     "output_type": "stream",
     "text": [
      "Unique values in 'no_show': [ 0.  1. nan]\n",
      "Number of unique values in 'no_show': 3\n",
      "\n",
      "--------------------------------------------------\n",
      "Unique values in 'branch': ['Changi' 'Orchard' None]\n",
      "Number of unique values in 'branch': 3\n",
      "\n",
      "--------------------------------------------------\n",
      "Unique values in 'booking_month': ['November' 'August' 'March' 'September' 'July' 'January' 'October' 'June'\n",
      " 'December' 'April' 'May' 'February' None]\n",
      "Number of unique values in 'booking_month': 13\n",
      "\n",
      "--------------------------------------------------\n",
      "Unique values in 'arrival_month': ['June' 'November' 'February' 'October' 'September' 'March' 'May' 'August'\n",
      " 'July' 'January' 'April' 'December' 'ApRiL' 'OcTobeR' 'JuNe' 'JulY'\n",
      " 'ApriL' 'OctOber' 'DecembEr' 'SeptEmber' 'JanUary' 'JUne' 'FeBruary'\n",
      " 'JanuarY' 'DEcember' 'SePtember' 'DecembeR' 'MaY' 'NoVember' 'JUly'\n",
      " 'JunE' 'JuLy' 'FebrUary' 'NOvember' 'SeptemBer' 'OctobeR' 'DecemBer'\n",
      " 'MarCh' 'AuguSt' 'AugusT' 'APril' 'SepTember' 'NovembEr' 'FEbruary'\n",
      " 'DeceMber' 'AuGust' 'SepteMber' 'FebruaRy' 'OctoBer' 'JanuaRy' 'MarcH'\n",
      " 'ApRil' 'AUgust' 'JanuAry' 'NOveMber' 'MaRch' 'AprIl' 'MAy' 'NovemBer'\n",
      " 'DecEmber' 'MArch' 'JaNuary' 'NovembeR' 'SeptembEr' 'FebruarY'\n",
      " 'SeptembeR' 'OcTober' 'DeCember' 'FebruAry' 'AugUst' 'NovEmber'\n",
      " 'NoveMber' 'OctobEr' 'OCtober' 'SEptember' 'JAnuary' 'SeptEMber' 'MAY'\n",
      " 'FebRuary' 'FeBruarY' 'OCTober' 'JUnE' 'DecEMber' 'FebruaRY' 'NovemBeR'\n",
      " 'NOvEmber' 'FEbruarY' None 'FeBruaRy']\n",
      "Number of unique values in 'arrival_month': 89\n",
      "\n",
      "--------------------------------------------------\n",
      "Unique values in 'arrival_day': [25. 28.  7.  1. 20. 12. 15. 18. 27. 22.  9. 11. 10. 13. 30. 21.  5.  6.\n",
      "  2. 31. 19.  4.  3. 23. 17.  8. 26. 14. 24. 29. 16. nan]\n",
      "Number of unique values in 'arrival_day': 32\n",
      "\n",
      "--------------------------------------------------\n",
      "Unique values in 'checkout_month': ['June' 'November' 'February' 'October' 'September' 'March' 'May' 'August'\n",
      " 'July' 'January' 'April' 'December' None]\n",
      "Number of unique values in 'checkout_month': 13\n",
      "\n",
      "--------------------------------------------------\n",
      "Unique values in 'checkout_day': [ 27.  29.  11.   3.  24.  13.  16.  19.  28.  10.  12.  15.  23.  31.\n",
      "  25.  17.   8.   2.   9.   7.   1.  20.  14.  -4.   4.   6.  21.   5.\n",
      "  18.  22. -10.  -3.  30.  26.  -6.  -5. -28. -20. -16. -19. -17. -12.\n",
      " -30. -26.  -8. -24. -15. -21.  -1.  -7. -27. -11. -18. -22. -13. -14.\n",
      " -29. -23.  -9.  -2. -31. -25.  nan]\n",
      "Number of unique values in 'checkout_day': 63\n",
      "\n",
      "--------------------------------------------------\n",
      "Unique values in 'country': ['Singapore' 'Indonesia' 'India' 'China' 'Australia' 'Japan' 'Malaysia'\n",
      " None]\n",
      "Number of unique values in 'country': 8\n",
      "\n",
      "--------------------------------------------------\n",
      "Unique values in 'first_time': ['Yes' 'No' None]\n",
      "Number of unique values in 'first_time': 3\n",
      "\n",
      "--------------------------------------------------\n",
      "Unique values in 'room': ['Single' 'King' 'Queen' None 'President Suite']\n",
      "Number of unique values in 'room': 5\n",
      "\n",
      "--------------------------------------------------\n",
      "Unique values in 'price': ['SGD$ 492.98' 'SGD$ 1351.22' None ... 'USD$ 612.18' 'USD$ 1041.29'\n",
      " 'SGD$ 886.35']\n",
      "Number of unique values in 'price': 61868\n",
      "\n",
      "--------------------------------------------------\n",
      "Unique values in 'platform': ['Website' 'Agent' 'Email' 'Phone' None]\n",
      "Number of unique values in 'platform': 5\n",
      "\n",
      "--------------------------------------------------\n",
      "Unique values in 'num_adults': ['1' '2' 'one' 'two' None]\n",
      "Number of unique values in 'num_adults': 5\n",
      "\n",
      "--------------------------------------------------\n",
      "Unique values in 'num_children': [ 0.  2.  1.  3. nan]\n",
      "Number of unique values in 'num_children': 5\n",
      "\n",
      "--------------------------------------------------\n"
     ]
    }
   ],
   "source": [
    "# Loop through each column and print unique values\n",
    "columns_to_check = [\n",
    "    \"no_show\",'branch', 'booking_month', 'arrival_month', 'arrival_day', 'checkout_month', 'checkout_day',\n",
    "    'country', 'first_time', 'room', 'price', 'platform', 'num_adults', 'num_children'\n",
    "]\n",
    "\n",
    "\n",
    "for col in columns_to_check:\n",
    "    unique_values = data[col].unique()\n",
    "    print(f\"Unique values in '{col}':\", unique_values)\n",
    "    print(f\"Number of unique values in '{col}':\", len(unique_values))\n",
    "    print()\n",
    "    print(\"-\" * 50)\n"
   ]
  },
  {
   "cell_type": "code",
   "execution_count": 203,
   "metadata": {},
   "outputs": [
    {
     "name": "stdout",
     "output_type": "stream",
     "text": [
      "Unique values in 'no_show': [ 0.  1. nan]\n",
      "\n",
      "no_show\n",
      "0.0    75166\n",
      "1.0    44224\n",
      "Name: count, dtype: int64\n"
     ]
    }
   ],
   "source": [
    "# Check the No show column\n",
    "# # Check unique values in the 'no_show' column\n",
    "unique_values = data['no_show'].unique()\n",
    "print(\"Unique values in 'no_show':\", unique_values)\n",
    "print()\n",
    "# # Verify if all values are 0.0 or 1.0\n",
    "# valid_values = {0.0, 1.0}\n",
    "# if set(unique_values).issubset(valid_values):\n",
    "#     print(\"All values in 'no_show' are either 0.0 or 1.0.\")\n",
    "# else:\n",
    "#     print(\"There are other values in 'no_show':\", set(unique_values) - valid_values)\n",
    "\n",
    "# print(data['no_show'].value_counts(normalize=True))\n",
    "print(data['no_show'].value_counts())\n"
   ]
  },
  {
   "cell_type": "code",
   "execution_count": 204,
   "metadata": {},
   "outputs": [
    {
     "name": "stdout",
     "output_type": "stream",
     "text": [
      "Unique values in 'branch': ['Changi' 'Orchard' None]\n",
      "\n",
      "branch\n",
      "Changi     79330\n",
      "Orchard    40060\n",
      "Name: count, dtype: int64\n"
     ]
    }
   ],
   "source": [
    "# Branch\n",
    "print(\"Unique values in 'branch':\", data['branch'].unique())\n",
    "print()\n",
    "print(data['branch'].value_counts())\n"
   ]
  },
  {
   "cell_type": "code",
   "execution_count": 205,
   "metadata": {},
   "outputs": [
    {
     "name": "stdout",
     "output_type": "stream",
     "text": [
      "['november' 'august' 'march' 'september' 'july' 'january' 'october' 'june'\n",
      " 'december' 'april' 'may' 'february' None]\n",
      "\n",
      "12\n",
      "\n",
      "booking_month\n",
      "june         10324\n",
      "september    10315\n",
      "november     10280\n",
      "january      10214\n",
      "august       10134\n",
      "october      10068\n",
      "july          9993\n",
      "march         9754\n",
      "may           9588\n",
      "february      9588\n",
      "april         9571\n",
      "december      9561\n",
      "Name: count, dtype: int64\n"
     ]
    }
   ],
   "source": [
    "#booking_month\n",
    "# print(data['booking_month'].unique())\n",
    "data['booking_month'] = data['booking_month'].str.lower()\n",
    "print(data['booking_month'].unique())\n",
    "print()\n",
    "print(data['booking_month'].nunique())\n",
    "print()\n",
    "print(data['booking_month'].value_counts())\n"
   ]
  },
  {
   "cell_type": "code",
   "execution_count": 206,
   "metadata": {},
   "outputs": [
    {
     "name": "stdout",
     "output_type": "stream",
     "text": [
      "Unique values in 'arrival_month': ['june' 'november' 'february' 'october' 'september' 'march' 'may' 'august'\n",
      " 'july' 'january' 'april' 'december' None]\n",
      "\n",
      "Number of unique values in 'arrival_month': 12\n",
      "\n",
      "arrival_month\n",
      "august       13877\n",
      "july         12661\n",
      "may          11791\n",
      "october      11160\n",
      "april        11089\n",
      "june         10939\n",
      "september    10508\n",
      "march         9794\n",
      "february      8068\n",
      "november      6794\n",
      "december      6780\n",
      "january       5929\n",
      "Name: count, dtype: int64\n"
     ]
    }
   ],
   "source": [
    "#Arrival_month\n",
    "# Issue: inconsistent data entry with random capitalisation\n",
    "# # Standardize the arrival_month column\n",
    "data['arrival_month'] = data['arrival_month'].str.lower()\n",
    "\n",
    "# We commented this out for now as we want to see the final result based on the number of missing rows\n",
    "# Handle missing values by filling with the mode (most frequent month)\n",
    "# most_frequent_month = data['booking_month'].mode()[0]\n",
    "# data['arrival_month'] = data['arrival_month'].fillna(most_frequent_month)\n",
    "\n",
    "# Verify the cleaned column\n",
    "print(\"Unique values in 'arrival_month':\", data['arrival_month'].unique())\n",
    "print()\n",
    "print(\"Number of unique values in 'arrival_month':\", data['arrival_month'].nunique())\n",
    "print()\n",
    "print(data['arrival_month'].value_counts())\n",
    "\n",
    "#Note! March is missing"
   ]
  },
  {
   "cell_type": "code",
   "execution_count": 207,
   "metadata": {},
   "outputs": [
    {
     "name": "stdout",
     "output_type": "stream",
     "text": [
      "Unique values in 'checkout_day': [27. 29. 11.  3. 24. 13. 16. 19. 28. 10. 12. 15. 23. 31. 25. 17.  8.  2.\n",
      "  9.  7.  1. 20. 14.  4.  6. 21.  5. 18. 22. 30. 26. nan]\n"
     ]
    }
   ],
   "source": [
    "#arrival_day\n",
    "# Issue: Day of the month being negative.\n",
    "# Assumption: We believe that the negative sign is added incorrectly.\n",
    "# Therefore, we remove the negative sign\n",
    "\n",
    "# Assume that the negative sign is added incorrectly. \n",
    "# Convert negative values to positive\n",
    "data['checkout_day'] = data['checkout_day'].apply(lambda x: abs(x) if x < 0 else x)\n",
    "\n",
    "# Verify the updated column\n",
    "print(\"Unique values in 'checkout_day':\", data['checkout_day'].unique())"
   ]
  },
  {
   "cell_type": "code",
   "execution_count": 208,
   "metadata": {},
   "outputs": [
    {
     "name": "stdout",
     "output_type": "stream",
     "text": [
      "Unique values in 'arrival_month': ['June' 'November' 'February' 'October' 'September' 'March' 'May' 'August'\n",
      " 'July' 'January' 'April' 'December' None]\n",
      "\n",
      "Number of unique values in 'arrival_month': 12\n",
      "\n",
      "checkout_month\n",
      "August       13836\n",
      "July         12760\n",
      "May          12044\n",
      "October      11434\n",
      "April        11016\n",
      "June         10692\n",
      "September    10416\n",
      "March         9509\n",
      "February      7716\n",
      "November      7214\n",
      "January       6516\n",
      "December      6237\n",
      "Name: count, dtype: int64\n"
     ]
    }
   ],
   "source": [
    "# checkout_month\n",
    "print(\"Unique values in 'arrival_month':\", data['checkout_month'].unique())\n",
    "print()\n",
    "print(\"Number of unique values in 'arrival_month':\", data['checkout_month'].nunique())\n",
    "print()\n",
    "print(data['checkout_month'].value_counts())\n",
    "\n"
   ]
  },
  {
   "cell_type": "code",
   "execution_count": 209,
   "metadata": {},
   "outputs": [
    {
     "name": "stdout",
     "output_type": "stream",
     "text": [
      "Unique values in 'arrival_month': [27. 29. 11.  3. 24. 13. 16. 19. 28. 10. 12. 15. 23. 31. 25. 17.  8.  2.\n",
      "  9.  7.  1. 20. 14.  4.  6. 21.  5. 18. 22. 30. 26. nan]\n",
      "\n",
      "Number of unique values in 'arrival_month': 31\n",
      "\n",
      "checkout_day\n",
      "11.0    4656\n",
      "18.0    4468\n",
      "20.0    4434\n",
      "27.0    4221\n",
      "4.0     4175\n",
      "6.0     4147\n",
      "17.0    4139\n",
      "28.0    4116\n",
      "1.0     4071\n",
      "25.0    3992\n",
      "19.0    3991\n",
      "14.0    3983\n",
      "22.0    3970\n",
      "21.0    3937\n",
      "29.0    3881\n",
      "7.0     3874\n",
      "26.0    3815\n",
      "3.0     3794\n",
      "16.0    3789\n",
      "5.0     3786\n",
      "15.0    3763\n",
      "8.0     3722\n",
      "10.0    3692\n",
      "24.0    3675\n",
      "13.0    3651\n",
      "2.0     3647\n",
      "9.0     3639\n",
      "23.0    3469\n",
      "12.0    3465\n",
      "30.0    3262\n",
      "31.0    2166\n",
      "Name: count, dtype: int64\n"
     ]
    }
   ],
   "source": [
    "# checkout_day\n",
    "print(\"Unique values in 'arrival_month':\", data['checkout_day'].unique())\n",
    "print()\n",
    "print(\"Number of unique values in 'arrival_month':\", data['checkout_day'].nunique())\n",
    "print()\n",
    "print(data['checkout_day'].value_counts())\n",
    "\n"
   ]
  },
  {
   "cell_type": "code",
   "execution_count": 210,
   "metadata": {},
   "outputs": [
    {
     "name": "stdout",
     "output_type": "stream",
     "text": [
      "Unique values in 'arrival_month': ['Singapore' 'Indonesia' 'India' 'China' 'Australia' 'Japan' 'Malaysia'\n",
      " None]\n",
      "\n",
      "Number of unique values in 'arrival_month': 7\n",
      "\n",
      "country\n",
      "China        48590\n",
      "Indonesia    25812\n",
      "India        15790\n",
      "Australia    12129\n",
      "Japan         9391\n",
      "Singapore     3912\n",
      "Malaysia      3766\n",
      "Name: count, dtype: int64\n"
     ]
    }
   ],
   "source": [
    "#country\n",
    "print(\"Unique values in 'arrival_month':\", data['country'].unique())\n",
    "print()\n",
    "print(\"Number of unique values in 'arrival_month':\", data['country'].nunique())\n",
    "print()\n",
    "print(data['country'].value_counts())\n",
    "\n",
    "\n",
    "\n"
   ]
  },
  {
   "cell_type": "code",
   "execution_count": 211,
   "metadata": {},
   "outputs": [
    {
     "name": "stdout",
     "output_type": "stream",
     "text": [
      "Unique values in 'arrival_month': ['Yes' 'No' None]\n",
      "\n",
      "Number of unique values in 'arrival_month': 2\n",
      "\n",
      "first_time\n",
      "Yes    115580\n",
      "No       3810\n",
      "Name: count, dtype: int64\n"
     ]
    }
   ],
   "source": [
    "#first_time\n",
    "print(\"Unique values in 'arrival_month':\", data['first_time'].unique())\n",
    "print()\n",
    "print(\"Number of unique values in 'arrival_month':\", data['first_time'].nunique())\n",
    "print()\n",
    "print(data['first_time'].value_counts())\n",
    "\n"
   ]
  },
  {
   "cell_type": "code",
   "execution_count": 212,
   "metadata": {},
   "outputs": [
    {
     "name": "stdout",
     "output_type": "stream",
     "text": [
      "Unique values in 'arrival_month': ['Single' 'King' 'Queen' None 'President Suite']\n",
      "\n",
      "Number of unique values in 'arrival_month': 4\n",
      "\n",
      "room\n",
      "King               70496\n",
      "Single             15697\n",
      "Queen              10824\n",
      "President Suite      761\n",
      "Name: count, dtype: int64\n"
     ]
    }
   ],
   "source": [
    "#room\n",
    "print(\"Unique values in 'arrival_month':\", data['room'].unique())\n",
    "print()\n",
    "print(\"Number of unique values in 'arrival_month':\", data['room'].nunique())\n",
    "print()\n",
    "print(data['room'].value_counts())"
   ]
  },
  {
   "cell_type": "code",
   "execution_count": 213,
   "metadata": {},
   "outputs": [
    {
     "name": "stdout",
     "output_type": "stream",
     "text": [
      "0     SGD$ 492.98\n",
      "1    SGD$ 1351.22\n",
      "2            None\n",
      "3     SGD$ 666.04\n",
      "4     USD$ 665.37\n",
      "Name: price, dtype: object\n",
      "0     492.980\n",
      "1    1351.220\n",
      "2         NaN\n",
      "3     666.040\n",
      "4     864.981\n",
      "Name: price, dtype: float64\n",
      "0          493.0\n",
      "1         1351.0\n",
      "2             NA\n",
      "3          666.0\n",
      "4          865.0\n",
      "           ...  \n",
      "119386     796.0\n",
      "119387    1354.0\n",
      "119388     834.0\n",
      "119389     886.0\n",
      "119390     902.0\n",
      "Name: price, Length: 119391, dtype: object\n"
     ]
    }
   ],
   "source": [
    "#price\n",
    "# Clean the data for price\n",
    "print(data['price'].head())\n",
    "\n",
    "# Fill missing numeric values with the median\n",
    "# data['price'] = data['price'].fillna(data['price'].median())\n",
    "\n",
    "# Define a function to process the price column\n",
    "def clean_price(price):\n",
    "    if pd.isna(price):  # Handle missing values\n",
    "        return None\n",
    "    if 'USD$' in price:  # If price is in USD\n",
    "        numeric_value = float(price.replace('USD$', '').strip())\n",
    "        return numeric_value * 1.3  # Convert to SGD\n",
    "    elif 'SGD$' in price:  # If price is in SGD\n",
    "        return float(price.replace('SGD$', '').strip())\n",
    "    else:\n",
    "        return None  # Handle unexpected formats\n",
    "\n",
    "# Apply the function to the 'price' column\n",
    "# this causes error\n",
    "data['price'] = data['price'].apply(clean_price)\n",
    "\n",
    "# Fill missing values with the median\n",
    "# data['price'] = data['price'].fillna(data['price'].median())\n",
    "\n",
    "# Display the cleaned price column\n",
    "print(data['price'].head())\n",
    "\n",
    "# Converts price to numeric:\n",
    "# change price data type to float\n",
    "data['price'] = pd.to_numeric(data['price'], errors='coerce')\n",
    "\n",
    "# Rounds non-NaN numeric values:\n",
    "# LHS -> getting not NA values from price col\n",
    "# RHS -> rounding the not NA values to nearest whole number \n",
    "# LHS = RHS\n",
    "data.loc[data['price'].notna(), 'price'] = data['price'].loc[data['price'].notna()].round().astype(float)\n",
    "\n",
    "# Replaces NaN with 'NA':\n",
    "data['price'] = data['price'].fillna('NA')\n",
    "\n",
    "# Print the updated 'price' column\n",
    "print(data['price'])"
   ]
  },
  {
   "cell_type": "code",
   "execution_count": 214,
   "metadata": {},
   "outputs": [
    {
     "name": "stdout",
     "output_type": "stream",
     "text": [
      "Unique values in 'arrival_month': ['Website' 'Agent' 'Email' 'Phone' None]\n",
      "\n",
      "Number of unique values in 'arrival_month': 4\n",
      "\n",
      "platform\n",
      "Website    54234\n",
      "Email      32608\n",
      "Agent      21735\n",
      "Phone      10813\n",
      "Name: count, dtype: int64\n"
     ]
    }
   ],
   "source": [
    "#platform\n",
    "\n",
    "print(\"Unique values in 'arrival_month':\", data['platform'].unique())\n",
    "print()\n",
    "print(\"Number of unique values in 'arrival_month':\", data['platform'].nunique())\n",
    "print()\n",
    "print(data['platform'].value_counts())\n",
    "\n",
    "\n",
    "\n",
    "\n"
   ]
  },
  {
   "cell_type": "code",
   "execution_count": 215,
   "metadata": {},
   "outputs": [
    {
     "name": "stdout",
     "output_type": "stream",
     "text": [
      "Unique values in 'num_adults': [ 1.  2. nan]\n",
      "num_adults\n",
      "1.0    69079\n",
      "2.0    50311\n",
      "Name: count, dtype: int64\n",
      "num_adults\n",
      "1.0    69079\n",
      "2.0    50311\n",
      "Name: count, dtype: int64\n"
     ]
    }
   ],
   "source": [
    "#num_adults\n",
    "\n",
    "# Fix inconsistent in the number of adult\n",
    "# Eg: use of 'one' and '1', 'two' and \"2\"\n",
    "# Change to 1 as the next column uses numerical instead of alphabets\n",
    "\n",
    "# Define a mapping for textual to numeric conversion\n",
    "adult_mapping = {'1': 1, '2': 2, 'one': 1, 'two': 2}\n",
    "\n",
    "# Apply the mapping to the num_adults column\n",
    "data['num_adults'] = data['num_adults'].map(adult_mapping)\n",
    "\n",
    "# Fill missing values (e.g., with the mode or a default value)\n",
    "# most_frequent_adults = data['num_adults'].mode()[0]\n",
    "# data['num_adults'] = data['num_adults'].fillna(most_frequent_adults)\n",
    "\n",
    "# Verify the cleaned column\n",
    "print(\"Unique values in 'num_adults':\", data['num_adults'].unique())\n",
    "\n",
    "print(data['num_adults'].value_counts())\n",
    "\n",
    "\n",
    "# adult_mapping = {'1': 1, '2': 2, 'one': 1, 'two': 2}\n",
    "\n",
    "# # Apply the mapping to the num_adults column\n",
    "# data['num_adults'] = data['num_adults'].map(adult_mapping)\n",
    "\n",
    "# # Fill missing values (e.g., with the mode or a default value)\n",
    "# # most_frequent_adults = data['num_adults'].mode()[0]\n",
    "# # data['num_adults'] = data['num_adults'].fillna(most_frequent_adults)\n",
    "\n",
    "# # Verify the cleaned column\n",
    "# print(\"Unique values in 'num_adults':\", data['num_adults'].unique())\n",
    "\n",
    "print(data['num_adults'].value_counts())\n",
    "# print(data['num_adults'].value_counts(dropna=False))\n",
    "# print(data['num_adults'].value_counts())\n"
   ]
  },
  {
   "cell_type": "code",
   "execution_count": 216,
   "metadata": {},
   "outputs": [
    {
     "name": "stdout",
     "output_type": "stream",
     "text": [
      "Unique values in 'arrival_month': [ 0.  2.  1.  3. nan]\n",
      "\n",
      "Number of unique values in 'arrival_month': 4\n",
      "\n",
      "num_children\n",
      "1.0    45556\n",
      "0.0    44728\n",
      "2.0    28858\n",
      "3.0      248\n",
      "Name: count, dtype: int64\n"
     ]
    }
   ],
   "source": [
    "# num_children\n",
    "\n",
    "print(\"Unique values in 'arrival_month':\", data['num_children'].unique())\n",
    "print()\n",
    "print(\"Number of unique values in 'arrival_month':\", data['num_children'].nunique())\n",
    "print()\n",
    "print(data['num_children'].value_counts())\n",
    "\n",
    "\n"
   ]
  },
  {
   "cell_type": "code",
   "execution_count": 217,
   "metadata": {},
   "outputs": [
    {
     "name": "stdout",
     "output_type": "stream",
     "text": [
      "Number of duplicate rows: 0\n"
     ]
    }
   ],
   "source": [
    "# Check and Remove duplicate\n",
    "duplicates = data.duplicated()\n",
    "\n",
    "# Count the number of duplicate rows\n",
    "duplicate_count = duplicates.sum()\n",
    "print(f\"Number of duplicate rows: {duplicate_count}\")"
   ]
  },
  {
   "cell_type": "markdown",
   "metadata": {},
   "source": [
    "Handle NA from here onwards"
   ]
  },
  {
   "cell_type": "code",
   "execution_count": 219,
   "metadata": {},
   "outputs": [
    {
     "name": "stdout",
     "output_type": "stream",
     "text": [
      "booking_id            0\n",
      "no_show               1\n",
      "branch                1\n",
      "booking_month         1\n",
      "arrival_month         1\n",
      "arrival_day           1\n",
      "checkout_month        1\n",
      "checkout_day          1\n",
      "country               1\n",
      "first_time            1\n",
      "room              21613\n",
      "price                 0\n",
      "platform              1\n",
      "num_adults            1\n",
      "num_children          1\n",
      "dtype: int64\n",
      "\n",
      "Number of rows for DF: 119391\n"
     ]
    }
   ],
   "source": [
    "# Handle Missing ValueError\n",
    "print(data.isnull().sum())\n",
    "\n",
    "# check number of rows\n",
    "row_count = len(data)\n",
    "print(f\"\\nNumber of rows for DF: {row_count}\")"
   ]
  },
  {
   "cell_type": "code",
   "execution_count": 220,
   "metadata": {},
   "outputs": [
    {
     "name": "stdout",
     "output_type": "stream",
     "text": [
      "booking_id            0\n",
      "no_show               1\n",
      "branch                1\n",
      "booking_month         1\n",
      "arrival_month         1\n",
      "arrival_day           1\n",
      "checkout_month        1\n",
      "checkout_day          1\n",
      "country               1\n",
      "first_time            1\n",
      "room              21613\n",
      "price                 0\n",
      "platform              1\n",
      "num_adults            1\n",
      "num_children          1\n",
      "dtype: int64\n",
      "Number of rows after dropping rows with NaN: 119391\n"
     ]
    }
   ],
   "source": [
    "print(data.isnull().sum())\n",
    "\n",
    "## Note: 3 potential choice:1. Fill with NA. 2. Drop the row. 3. Fill with value [eg: median]. \n",
    "## We choose to fill NA. Because there may be pros in keeping the data for other columns\n",
    "\n",
    "#  fill na\n",
    "# Example: Fill missing categorical values with 'NA'\n",
    "data['room'] = data['room'].fillna('NA')\n",
    "data['price'] = data['price'].fillna('NA')\n",
    "data['no_show'] = data['no_show'].fillna('NA')\n",
    "data['branch'] = data['branch'].fillna('NA')\n",
    "data['booking_month'] = data['booking_month'].fillna('NA')\n",
    "data['arrival_day'] = data['arrival_day'].fillna('NA')\n",
    "data['checkout_month'] = data['checkout_month'].fillna('NA')\n",
    "data['checkout_day'] =data['checkout_day'].fillna('NA')\n",
    "data['country'] = data['country'].fillna('NA')\n",
    "data['first_time']= data['first_time'].fillna('NA')\n",
    "data['platform'] = data['platform'].fillna('NA')\n",
    "data['num_children'] = data['num_children'].fillna('NA')\n",
    "\n",
    "# Drop NA\n",
    "# List of columns to check for NaN\n",
    "'''columns_to_check = [\n",
    "    'no_show', 'branch', 'booking_month', 'arrival_day', 'checkout_month',\n",
    "    'checkout_day', 'country', 'first_time', 'platform', 'num_children'\n",
    "]\n",
    "\n",
    "# Drop rows where any of these columns have NaN\n",
    "data = data.dropna(subset=columns_to_check)\n",
    "'''\n",
    "\n",
    "# Verify the number of rows remaining\n",
    "print(f\"Number of rows after dropping rows with NaN: {len(data)}\")"
   ]
  },
  {
   "cell_type": "markdown",
   "metadata": {},
   "source": [
    "Graphs"
   ]
  },
  {
   "cell_type": "code",
   "execution_count": 221,
   "metadata": {},
   "outputs": [
    {
     "data": {
      "image/png": "[encoded data removed]",
      "text/plain": [
       "<Figure size 640x480 with 1 Axes>"
      ]
     },
     "metadata": {},
     "output_type": "display_data"
    },
    {
     "name": "stdout",
     "output_type": "stream",
     "text": [
      "\n"
     ]
    },
    {
     "data": {
      "image/png": "[encoded data removed]",
      "text/plain": [
       "<Figure size 640x480 with 1 Axes>"
      ]
     },
     "metadata": {},
     "output_type": "display_data"
    },
    {
     "name": "stdout",
     "output_type": "stream",
     "text": [
      "Branch No-Show Counts:\n",
      " branch   no_show\n",
      "Changi   0.0        46228\n",
      "         1.0        33102\n",
      "NA       NA             1\n",
      "Orchard  0.0        28938\n",
      "         1.0        11122\n",
      "dtype: int64\n",
      "\n"
     ]
    },
    {
     "data": {
      "image/png": "[encoded data removed]",
      "text/plain": [
       "<Figure size 640x480 with 1 Axes>"
      ]
     },
     "metadata": {},
     "output_type": "display_data"
    },
    {
     "name": "stdout",
     "output_type": "stream",
     "text": [
      "Booking Month vs No-Show:\n",
      " no_show           0.0     1.0   NA\n",
      "booking_month                     \n",
      "NA                NaN     NaN  1.0\n",
      "april          5821.0  3750.0  NaN\n",
      "august         6456.0  3678.0  NaN\n",
      "december       5982.0  3579.0  NaN\n",
      "february       6339.0  3249.0  NaN\n",
      "january        6634.0  3580.0  NaN\n",
      "july           6037.0  3956.0  NaN\n",
      "june           6099.0  4225.0  NaN\n",
      "march          6201.0  3553.0  NaN\n",
      "may            6200.0  3388.0  NaN\n",
      "november       6603.0  3677.0  NaN\n",
      "october        6428.0  3640.0  NaN\n",
      "september      6366.0  3949.0  NaN\n"
     ]
    },
    {
     "data": {
      "image/png": "[encoded data removed]",
      "text/plain": [
       "<Figure size 640x480 with 1 Axes>"
      ]
     },
     "metadata": {},
     "output_type": "display_data"
    },
    {
     "name": "stdout",
     "output_type": "stream",
     "text": [
      "Arrival Day - Mean: 15.798241058715135, Median: 16.0\n",
      "\n"
     ]
    },
    {
     "data": {
      "image/png": "[encoded data removed]",
      "text/plain": [
       "<Figure size 640x480 with 1 Axes>"
      ]
     },
     "metadata": {},
     "output_type": "display_data"
    },
    {
     "data": {
      "image/png": "[encoded data removed]",
      "text/plain": [
       "<Figure size 640x480 with 1 Axes>"
      ]
     },
     "metadata": {},
     "output_type": "display_data"
    },
    {
     "data": {
      "image/png": "[encoded data removed]",
      "text/plain": [
       "<Figure size 640x480 with 1 Axes>"
      ]
     },
     "metadata": {},
     "output_type": "display_data"
    },
    {
     "name": "stdout",
     "output_type": "stream",
     "text": [
      "Room Type vs No-Show Counts:\n",
      " room             no_show\n",
      "King             0.0        42879\n",
      "                 1.0        27617\n",
      "NA               0.0        13665\n",
      "                 1.0         7947\n",
      "                 NA             1\n",
      "President Suite  0.0          500\n",
      "                 1.0          261\n",
      "Queen            0.0         7430\n",
      "                 1.0         3394\n",
      "Single           0.0        10692\n",
      "                 1.0         5005\n",
      "dtype: int64\n",
      "\n"
     ]
    },
    {
     "data": {
      "image/png": "[encoded data removed]",
      "text/plain": [
       "<Figure size 640x480 with 1 Axes>"
      ]
     },
     "metadata": {},
     "output_type": "display_data"
    },
    {
     "name": "stdout",
     "output_type": "stream",
     "text": [
      "Platform vs No-Show Counts:\n",
      " platform  no_show\n",
      "Agent     0.0        13696\n",
      "          1.0         8039\n",
      "Email     0.0        20394\n",
      "          1.0        12214\n",
      "NA        NA             1\n",
      "Phone     0.0         6892\n",
      "          1.0         3921\n",
      "Website   0.0        34184\n",
      "          1.0        20050\n",
      "dtype: int64\n",
      "\n"
     ]
    },
    {
     "data": {
      "image/png": "[encoded data removed]",
      "text/plain": [
       "<Figure size 640x480 with 2 Axes>"
      ]
     },
     "metadata": {},
     "output_type": "display_data"
    },
    {
     "ename": "ValueError",
     "evalue": "could not convert string to float: 'NA'",
     "output_type": "error",
     "traceback": [
      "\u001b[0;31m---------------------------------------------------------------------------\u001b[0m",
      "\u001b[0;31mValueError\u001b[0m                                Traceback (most recent call last)",
      "Cell \u001b[0;32mIn[221], line 104\u001b[0m\n\u001b[1;32m    102\u001b[0m plt\u001b[38;5;241m.\u001b[39mtitle(\u001b[38;5;124m'\u001b[39m\u001b[38;5;124mCorrelation Heatmap\u001b[39m\u001b[38;5;124m'\u001b[39m)\n\u001b[1;32m    103\u001b[0m plt\u001b[38;5;241m.\u001b[39mshow()\n\u001b[0;32m--> 104\u001b[0m corr \u001b[38;5;241m=\u001b[39m \u001b[43mdata\u001b[49m\u001b[38;5;241;43m.\u001b[39;49m\u001b[43mcorr\u001b[49m\u001b[43m(\u001b[49m\u001b[43m)\u001b[49m\n\u001b[1;32m    105\u001b[0m \u001b[38;5;28mprint\u001b[39m(\u001b[38;5;124m\"\u001b[39m\u001b[38;5;124mCorrelation Matrix:\u001b[39m\u001b[38;5;130;01m\\n\u001b[39;00m\u001b[38;5;124m\"\u001b[39m, corr)\n\u001b[1;32m    107\u001b[0m \u001b[38;5;66;03m# # Group Size (Adults and Children)\u001b[39;00m\n\u001b[1;32m    108\u001b[0m \u001b[38;5;66;03m# # Objective: Analyze the impact of group size on no-shows.\u001b[39;00m\n",
      "File \u001b[0;32m/opt/homebrew/lib/python3.11/site-packages/pandas/core/frame.py:10054\u001b[0m, in \u001b[0;36mDataFrame.corr\u001b[0;34m(self, method, min_periods, numeric_only)\u001b[0m\n\u001b[1;32m  10052\u001b[0m cols \u001b[38;5;241m=\u001b[39m data\u001b[38;5;241m.\u001b[39mcolumns\n\u001b[1;32m  10053\u001b[0m idx \u001b[38;5;241m=\u001b[39m cols\u001b[38;5;241m.\u001b[39mcopy()\n\u001b[0;32m> 10054\u001b[0m mat \u001b[38;5;241m=\u001b[39m \u001b[43mdata\u001b[49m\u001b[38;5;241;43m.\u001b[39;49m\u001b[43mto_numpy\u001b[49m\u001b[43m(\u001b[49m\u001b[43mdtype\u001b[49m\u001b[38;5;241;43m=\u001b[39;49m\u001b[38;5;28;43mfloat\u001b[39;49m\u001b[43m,\u001b[49m\u001b[43m \u001b[49m\u001b[43mna_value\u001b[49m\u001b[38;5;241;43m=\u001b[39;49m\u001b[43mnp\u001b[49m\u001b[38;5;241;43m.\u001b[39;49m\u001b[43mnan\u001b[49m\u001b[43m,\u001b[49m\u001b[43m \u001b[49m\u001b[43mcopy\u001b[49m\u001b[38;5;241;43m=\u001b[39;49m\u001b[38;5;28;43;01mFalse\u001b[39;49;00m\u001b[43m)\u001b[49m\n\u001b[1;32m  10056\u001b[0m \u001b[38;5;28;01mif\u001b[39;00m method \u001b[38;5;241m==\u001b[39m \u001b[38;5;124m\"\u001b[39m\u001b[38;5;124mpearson\u001b[39m\u001b[38;5;124m\"\u001b[39m:\n\u001b[1;32m  10057\u001b[0m     correl \u001b[38;5;241m=\u001b[39m libalgos\u001b[38;5;241m.\u001b[39mnancorr(mat, minp\u001b[38;5;241m=\u001b[39mmin_periods)\n",
      "File \u001b[0;32m/opt/homebrew/lib/python3.11/site-packages/pandas/core/frame.py:1838\u001b[0m, in \u001b[0;36mDataFrame.to_numpy\u001b[0;34m(self, dtype, copy, na_value)\u001b[0m\n\u001b[1;32m   1836\u001b[0m \u001b[38;5;28;01mif\u001b[39;00m dtype \u001b[38;5;129;01mis\u001b[39;00m \u001b[38;5;129;01mnot\u001b[39;00m \u001b[38;5;28;01mNone\u001b[39;00m:\n\u001b[1;32m   1837\u001b[0m     dtype \u001b[38;5;241m=\u001b[39m np\u001b[38;5;241m.\u001b[39mdtype(dtype)\n\u001b[0;32m-> 1838\u001b[0m result \u001b[38;5;241m=\u001b[39m \u001b[38;5;28;43mself\u001b[39;49m\u001b[38;5;241;43m.\u001b[39;49m\u001b[43m_mgr\u001b[49m\u001b[38;5;241;43m.\u001b[39;49m\u001b[43mas_array\u001b[49m\u001b[43m(\u001b[49m\u001b[43mdtype\u001b[49m\u001b[38;5;241;43m=\u001b[39;49m\u001b[43mdtype\u001b[49m\u001b[43m,\u001b[49m\u001b[43m \u001b[49m\u001b[43mcopy\u001b[49m\u001b[38;5;241;43m=\u001b[39;49m\u001b[43mcopy\u001b[49m\u001b[43m,\u001b[49m\u001b[43m \u001b[49m\u001b[43mna_value\u001b[49m\u001b[38;5;241;43m=\u001b[39;49m\u001b[43mna_value\u001b[49m\u001b[43m)\u001b[49m\n\u001b[1;32m   1839\u001b[0m \u001b[38;5;28;01mif\u001b[39;00m result\u001b[38;5;241m.\u001b[39mdtype \u001b[38;5;129;01mis\u001b[39;00m \u001b[38;5;129;01mnot\u001b[39;00m dtype:\n\u001b[1;32m   1840\u001b[0m     result \u001b[38;5;241m=\u001b[39m np\u001b[38;5;241m.\u001b[39marray(result, dtype\u001b[38;5;241m=\u001b[39mdtype, copy\u001b[38;5;241m=\u001b[39m\u001b[38;5;28;01mFalse\u001b[39;00m)\n",
      "File \u001b[0;32m/opt/homebrew/lib/python3.11/site-packages/pandas/core/internals/managers.py:1732\u001b[0m, in \u001b[0;36mBlockManager.as_array\u001b[0;34m(self, dtype, copy, na_value)\u001b[0m\n\u001b[1;32m   1730\u001b[0m         arr\u001b[38;5;241m.\u001b[39mflags\u001b[38;5;241m.\u001b[39mwriteable \u001b[38;5;241m=\u001b[39m \u001b[38;5;28;01mFalse\u001b[39;00m\n\u001b[1;32m   1731\u001b[0m \u001b[38;5;28;01melse\u001b[39;00m:\n\u001b[0;32m-> 1732\u001b[0m     arr \u001b[38;5;241m=\u001b[39m \u001b[38;5;28;43mself\u001b[39;49m\u001b[38;5;241;43m.\u001b[39;49m\u001b[43m_interleave\u001b[49m\u001b[43m(\u001b[49m\u001b[43mdtype\u001b[49m\u001b[38;5;241;43m=\u001b[39;49m\u001b[43mdtype\u001b[49m\u001b[43m,\u001b[49m\u001b[43m \u001b[49m\u001b[43mna_value\u001b[49m\u001b[38;5;241;43m=\u001b[39;49m\u001b[43mna_value\u001b[49m\u001b[43m)\u001b[49m\n\u001b[1;32m   1733\u001b[0m     \u001b[38;5;66;03m# The underlying data was copied within _interleave, so no need\u001b[39;00m\n\u001b[1;32m   1734\u001b[0m     \u001b[38;5;66;03m# to further copy if copy=True or setting na_value\u001b[39;00m\n\u001b[1;32m   1736\u001b[0m \u001b[38;5;28;01mif\u001b[39;00m na_value \u001b[38;5;129;01mis\u001b[39;00m \u001b[38;5;129;01mnot\u001b[39;00m lib\u001b[38;5;241m.\u001b[39mno_default:\n",
      "File \u001b[0;32m/opt/homebrew/lib/python3.11/site-packages/pandas/core/internals/managers.py:1794\u001b[0m, in \u001b[0;36mBlockManager._interleave\u001b[0;34m(self, dtype, na_value)\u001b[0m\n\u001b[1;32m   1792\u001b[0m     \u001b[38;5;28;01melse\u001b[39;00m:\n\u001b[1;32m   1793\u001b[0m         arr \u001b[38;5;241m=\u001b[39m blk\u001b[38;5;241m.\u001b[39mget_values(dtype)\n\u001b[0;32m-> 1794\u001b[0m     \u001b[43mresult\u001b[49m\u001b[43m[\u001b[49m\u001b[43mrl\u001b[49m\u001b[38;5;241;43m.\u001b[39;49m\u001b[43mindexer\u001b[49m\u001b[43m]\u001b[49m \u001b[38;5;241m=\u001b[39m arr\n\u001b[1;32m   1795\u001b[0m     itemmask[rl\u001b[38;5;241m.\u001b[39mindexer] \u001b[38;5;241m=\u001b[39m \u001b[38;5;241m1\u001b[39m\n\u001b[1;32m   1797\u001b[0m \u001b[38;5;28;01mif\u001b[39;00m \u001b[38;5;129;01mnot\u001b[39;00m itemmask\u001b[38;5;241m.\u001b[39mall():\n",
      "\u001b[0;31mValueError\u001b[0m: could not convert string to float: 'NA'"
     ]
    }
   ],
   "source": [
    "import matplotlib.pyplot as plt\n",
    "import seaborn as sns\n",
    "#visualization\n",
    "\n",
    "# Target Variable: no_show\n",
    "# Objective: Understand the distribution of customers who show up vs. those who don’t.\n",
    "data['no_show'].value_counts().plot(kind='bar', color=['blue', 'orange'])\n",
    "plt.title('Distribution of No-Show vs. Show')\n",
    "plt.xlabel('No-Show (0 = Show, 1 = No-Show)')\n",
    "plt.ylabel('Count')\n",
    "plt.show()\n",
    "print()\n",
    "\n",
    "\n",
    "# Hotel Branch Analysis\n",
    "# Objective: Analyze how bookings are distributed across branches and their relation to no-shows.\n",
    "sns.countplot(data=data, x='branch', hue='no_show', palette='Set2')\n",
    "plt.title('Branch vs No-Show Rate')\n",
    "plt.xlabel('Hotel Branch')\n",
    "plt.ylabel('Count')\n",
    "plt.show()\n",
    "branch_stats = data.groupby(['branch', 'no_show']).size()\n",
    "print(\"Branch No-Show Counts:\\n\", branch_stats)\n",
    "print()\n",
    "\n",
    "# Booking Month\n",
    "# Objective: Understand if the month of booking affects no-shows.\n",
    "sns.countplot(data=data, x='booking_month', hue='no_show', order=[\n",
    "    'January', 'February', 'March', 'April', 'May', 'June', 'July',\n",
    "    'August', 'September', 'October', 'November', 'December'\n",
    "])\n",
    "plt.title('Booking Month vs No-Show')\n",
    "plt.xlabel('Month')\n",
    "plt.ylabel('Count')\n",
    "plt.xticks(rotation=45)\n",
    "plt.show()\n",
    "booking_month_stats = data.groupby(['booking_month', 'no_show']).size().unstack()\n",
    "print(\"Booking Month vs No-Show:\\n\", booking_month_stats)\n",
    "\n",
    "\n",
    "# Arrival and Checkout Days\n",
    "# Visualization for Arrival Days:\n",
    "sns.histplot(pd.to_numeric(data['arrival_day'], errors='coerce').dropna(), \n",
    "             kde=False, bins=31, color='green')\n",
    "plt.title('Arrival Day Distribution')\n",
    "plt.xlabel('Day of the Month')\n",
    "plt.ylabel('Frequency')\n",
    "plt.show()\n",
    "arrival_mean = pd.to_numeric(data['arrival_day'], errors='coerce').mean()\n",
    "arrival_median = pd.to_numeric(data['arrival_day'], errors='coerce').median()\n",
    "print(f\"Arrival Day - Mean: {arrival_mean}, Median: {arrival_median}\\n\")\n",
    "\n",
    "# # Visualization for Checkout Days:\n",
    "sns.histplot(data.loc[data['checkout_day'] != 'NA', 'checkout_day'], kde=False, bins=31, color='purple')\n",
    "plt.title('Checkout Day Distribution')\n",
    "plt.xlabel('Day of the Month')\n",
    "plt.ylabel('Frequency')\n",
    "plt.show()\n",
    "\n",
    "# # Price Analysis\n",
    "# # Objective: Analyze the distribution of room prices and their relationship to no-shows.\n",
    "plot_data = data.dropna(subset=['price'])\n",
    "plot_data['price'] = pd.to_numeric(plot_data['price'], errors='coerce')\n",
    "plot_data['no_show'] = pd.to_numeric(plot_data['no_show'], errors='coerce')\n",
    "sns.boxplot(x='no_show', y='price', data=plot_data.dropna())\n",
    "plt.title('Room Price vs No-Show')\n",
    "plt.xlabel('No-Show (0 = Show, 1 = No-Show)')\n",
    "plt.ylabel('Room Price')\n",
    "plt.show()\n",
    "\n",
    "\n",
    "# # Room Type Analysis\n",
    "# # Objective: Understand how room types correlate with no-shows.\n",
    "sns.countplot(data=data, x='room', hue='no_show', palette='Set1')\n",
    "plt.title('Room Type vs No-Show')\n",
    "plt.xlabel('Room Type')\n",
    "plt.ylabel('Count')\n",
    "plt.xticks(rotation=45)\n",
    "plt.show()\n",
    "room_type_stats = data.groupby(['room', 'no_show']).size()\n",
    "print(\"Room Type vs No-Show Counts:\\n\", room_type_stats)\n",
    "print()\n",
    "\n",
    "# # Platform Analysis\n",
    "# Objective: Determine if the platform used for booking influences no-shows.\n",
    "sns.countplot(data=data, x='platform', hue='no_show', palette='coolwarm')\n",
    "plt.title('Platform vs No-Show')\n",
    "plt.xlabel('Platform')\n",
    "plt.ylabel('Count')\n",
    "plt.xticks(rotation=45)\n",
    "plt.show()\n",
    "platform_stats = data.groupby(['platform', 'no_show']).size()\n",
    "print(\"Platform vs No-Show Counts:\\n\", platform_stats)\n",
    "print()\n",
    "\n",
    "\n",
    "# #  Correlation Heatmap\n",
    "# #  Objective: Analyze the relationships between numerical variables (e.g., price, num_adults, num_children) and their influence on no_show.\n",
    "numeric_data = data.select_dtypes(include=['float64', 'int64'])\n",
    "corr = numeric_data.corr()\n",
    "sns.heatmap(corr, annot=True, cmap='coolwarm', fmt='.2f')\n",
    "plt.title('Correlation Heatmap')\n",
    "plt.show()\n",
    "corr = data.corr()\n",
    "print(\"Correlation Matrix:\\n\", corr)\n",
    "\n",
    "# # Group Size (Adults and Children)\n",
    "# # Objective: Analyze the impact of group size on no-shows.\n",
    "sns.countplot(data=data, x='num_adults', hue='no_show', palette='mako')\n",
    "plt.title('Number of Adults vs No-Show')\n",
    "plt.xlabel('Number of Adults')\n",
    "plt.ylabel('Count')\n",
    "plt.show()\n",
    "\n",
    "# # Visualization for Children:\n",
    "sns.countplot(data=data, x='num_children', hue='no_show', palette='magma')\n",
    "plt.title('Number of Children vs No-Show')\n",
    "plt.xlabel('Number of Children')\n",
    "plt.ylabel('Count')\n",
    "plt.show()\n",
    "adults_stats = data.groupby(['num_adults', 'no_show']).size()\n",
    "children_stats = data.groupby(['num_children', 'no_show']).size()\n",
    "print(\"Adults Stats:\\n\", adults_stats)\n",
    "print(\"Children Stats:\\n\", children_stats)\n",
    "\n",
    "\n",
    "\n"
   ]
  },
  {
   "cell_type": "code",
   "execution_count": null,
   "metadata": {},
   "outputs": [],
   "source": [
    "# 1. No-Show Distribution\n",
    "no_show_stats = data['no_show'].value_counts(normalize=True) * 100\n",
    "print(\"No-Show Distribution (%):\\n\", no_show_stats)\n",
    "\n",
    "# 2. Branch Analysis\n",
    "branch_stats = data.groupby(['branch', 'no_show']).size()\n",
    "print(\"Branch No-Show Counts:\\n\", branch_stats)\n",
    "\n",
    "# 3. Booking Month Analysis\n",
    "booking_month_stats = data.groupby(['booking_month', 'no_show']).size().unstack()\n",
    "print(\"Booking Month vs No-Show:\\n\", booking_month_stats)\n",
    "\n",
    "# 4. Arrival Day Analysis\n",
    "arrival_mean = pd.to_numeric(data['arrival_day'], errors='coerce').mean()\n",
    "arrival_median = pd.to_numeric(data['arrival_day'], errors='coerce').median()\n",
    "print(f\"Arrival Day - Mean: {arrival_mean}, Median: {arrival_median}\")\n",
    "\n",
    "# 5. Price Analysis\n",
    "price_stats = data.groupby('no_show')['price'].describe()\n",
    "print(\"Price Analysis:\\n\", price_stats)\n",
    "\n",
    "# 6. Room Type Analysis\n",
    "room_type_stats = data.groupby(['room', 'no_show']).size()\n",
    "print(\"Room Type vs No-Show Counts:\\n\", room_type_stats)\n",
    "\n",
    "# 7. Platform Analysis\n",
    "platform_stats = data.groupby(['platform', 'no_show']).size()\n",
    "print(\"Platform vs No-Show Counts:\\n\", platform_stats)\n",
    "\n",
    "# 8. Correlation Matrix\n",
    "numeric_data = data.select_dtypes(include=['float64', 'int64'])\n",
    "corr = numeric_data.corr()\n",
    "print(\"Correlation Matrix:\\n\", corr)\n",
    "\n",
    "# 9. Group Size\n",
    "adults_stats = data.groupby(['num_adults', 'no_show']).size()\n",
    "children_stats = data.groupby(['num_children', 'no_show']).size()\n",
    "print(\"Adults Stats:\\n\", adults_stats)\n",
    "print(\"Children Stats:\\n\", children_stats)"
   ]
  },
  {
   "cell_type": "code",
   "execution_count": null,
   "metadata": {},
   "outputs": [],
   "source": [
    "# # Outlier Detection:\n",
    "\n",
    "# example of stat method\n",
    "# from scipy.stats import zscore\n",
    "# data['z_score'] = zscore(data['numeric_column'])\n",
    "# data = data[data['z_score'].abs() < 3]  # Keep data within 3 standard deviations\n",
    "\n",
    "# #IQR\n",
    "# Q1 = data.quantile(0.25)\n",
    "# Q3 = data.quantile(0.75)\n",
    "# IQR = Q3 - Q1\n",
    "# outliers = data[(data < Q1 - 1.5 * IQR) | (data > Q3 + 1.5 * IQR)]\n",
    "\n",
    "from scipy.stats import zscore\n",
    "\n",
    "# Select numerical columns\n",
    "numerical_columns = ['price', 'num_adults', 'num_children']\n",
    "\n",
    "# Process each numerical column\n",
    "for col in numerical_columns:\n",
    "    # Convert to numeric and handle non-numeric values\n",
    "    data[col] = pd.to_numeric(data[col], errors='coerce')  # Convert to numeric, replace non-numeric with NaN\n",
    "    \n",
    "    # Handle missing values\n",
    "    data[col].fillna(data[col].mean(), inplace=True)  # Replace NaNs with the mean of the column\n",
    "\n",
    "    # Calculate Z-scores\n",
    "    data[f'z_{col}'] = zscore(data[col])  # Compute Z-scores\n",
    "\n",
    "    # Find outliers\n",
    "    outliers = data[(data[f'z_{col}'] > 3) | (data[f'z_{col}'] < -3)]  # Z-scores beyond 3 or -3\n",
    "    print(f\"Outliers in {col}:\")\n",
    "    print(outliers[[col, f'z_{col}']])\n",
    "    \n",
    "# Function to detect outliers using IQR\n",
    "def detect_outliers_iqr(column):\n",
    "    Q1 = data[column].quantile(0.25)  # First quartile (25th percentile)\n",
    "    Q3 = data[column].quantile(0.75)  # Third quartile (75th percentile)\n",
    "    IQR = Q3 - Q1  # Interquartile range\n",
    "    lower_bound = Q1 - 1.5 * IQR\n",
    "    upper_bound = Q3 + 1.5 * IQR\n",
    "    \n",
    "    outliers = data[(data[column] < lower_bound) | (data[column] > upper_bound)]\n",
    "    print(f\"Outliers in {column}:\")\n",
    "    print(outliers[[column]])\n",
    "    return outliers\n",
    "\n",
    "# Apply the function to numerical columns\n",
    "for col in numerical_columns:\n",
    "    detect_outliers_iqr(col)"
   ]
  },
  {
   "cell_type": "markdown",
   "metadata": {},
   "source": [
    "Feature engineering"
   ]
  },
  {
   "cell_type": "code",
   "execution_count": null,
   "metadata": {},
   "outputs": [],
   "source": [
    "# Encode Categorical Features:\n",
    "from sklearn.preprocessing import OneHotEncoder, LabelEncoder\n",
    "\n",
    "'''# Example columns to encode\n",
    "categorical_columns = ['branch', 'platform', 'room']\n",
    "\n",
    "# One-Hot Encoding for nominal variables\n",
    "data = pd.get_dummies(data, columns=categorical_columns)\n",
    "\n",
    "# Label Encoding for ordinal variables\n",
    "# Example: If you have ordinal data like `Low`, `Medium`, `High`\n",
    "label_encoder = LabelEncoder()\n",
    "data['booking_month'] = label_encoder.fit_transform(data['booking_month'])\n",
    "'''\n",
    "\n",
    "#encoding 2\n",
    "from sklearn.preprocessing import StandardScaler\n",
    "\n",
    "scaler = StandardScaler()\n",
    "data[['price', 'arrival_day', 'checkout_day']] = scaler.fit_transform(data[['price', 'arrival_day', 'checkout_day']])\n",
    "\n",
    "label_encoder = LabelEncoder()\n",
    "\n",
    "# Encoding Categorical Columns\n",
    "# Encode month columns\n",
    "data['booking_month'] = label_encoder.fit_transform(data['booking_month'])\n",
    "data['arrival_month'] = label_encoder.fit_transform(data['arrival_month'])\n",
    "data['checkout_month'] = label_encoder.fit_transform(data['checkout_month'])\n",
    "\n",
    "#if requried\n",
    "# data = pd.get_dummies(data, columns=['country'], drop_first=True)  # One-hot encoding\n",
    "\n",
    "\n",
    "\n",
    "# train split\n",
    "from sklearn.model_selection import train_test_split\n",
    "\n",
    "X = data.drop(columns=['no_show', 'booking_id'])  # Features\n",
    "y = data['no_show']  # Target variable\n",
    "\n",
    "X_train, X_test, y_train, y_test = train_test_split(X, y, test_size=0.2, random_state=42)\n",
    "\n",
    "#EDA\n",
    "import seaborn as sns\n",
    "import matplotlib.pyplot as plt\n",
    "\n",
    "# Example: Analyze room type and no-show rate\n",
    "sns.countplot(data=data, x='room_King', hue='no_show')\n",
    "plt.title('King Room vs No-Show')\n",
    "plt.show()\n",
    "\n",
    "# Feature engineering\n",
    "data['length_of_stay'] = data['checkout_day'] - data['arrival_day']\n",
    "data['peak_season'] = data['arrival_month'].apply(lambda x: 1 if x in ['June', 'July', 'August'] else 0)\n",
    "'''\n",
    "\n",
    "# Normalize/Scale Data\n",
    "\n",
    "\n"
   ]
  },
  {
   "cell_type": "code",
   "execution_count": null,
   "metadata": {},
   "outputs": [],
   "source": [
    "import pandas as pd\n",
    "from sklearn.model_selection import train_test_split\n",
    "from sklearn.preprocessing import StandardScaler, OneHotEncoder, LabelEncoder\n",
    "\n",
    "# Step 1: Encode Categorical Features\n",
    "categorical_columns = ['branch', 'platform', 'room']\n",
    "# data = pd.get_dummies(data, columns=categorical_columns)\n",
    "\n",
    "# If there are ordinal columns, use LabelEncoder (e.g., booking_month)\n",
    "label_encoder = LabelEncoder()\n",
    "data['booking_month'] = label_encoder.fit_transform(data['booking_month'])\n",
    "\n",
    "# Step 2: Handle Missing Values\n",
    "numerical_columns = ['price', 'num_adults', 'num_children']\n",
    "for col in numerical_columns:\n",
    "    data[col].fillna(data[col].mean(), inplace=True)  # Fill NaN with column mean\n",
    "\n",
    "# Step 3: Normalize/Scale Numerical Data\n",
    "scaler = StandardScaler()\n",
    "data[numerical_columns] = scaler.fit_transform(data[numerical_columns])\n",
    "\n",
    "# Step 4: Split Data into Training and Testing Sets\n",
    "X = data.drop(columns=['no_show'])  # Features\n",
    "y = data['no_show']  # Target\n",
    "\n",
    "X_train, X_test, y_train, y_test = train_test_split(X, y, test_size=0.2, random_state=42)\n",
    "\n",
    "print(\"Training set size:\", X_train.shape)\n",
    "print(\"Testing set size:\", X_test.shape)"
   ]
  },
  {
   "cell_type": "markdown",
   "metadata": {},
   "source": []
  }
 ],
 "metadata": {
  "kernelspec": {
   "display_name": "Python 3",
   "language": "python",
   "name": "python3"
  },
  "language_info": {
   "codemirror_mode": {
    "name": "ipython",
    "version": 3
   },
   "file_extension": ".py",
   "mimetype": "text/x-python",
   "name": "python",
   "nbconvert_exporter": "python",
   "pygments_lexer": "ipython3",
   "version": "3.11.10"
  }
 },
 "nbformat": 4,
 "nbformat_minor": 2
}
