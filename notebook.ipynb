{
 "cells": [
  {
   "cell_type": "markdown",
   "metadata": {},
   "source": [
    "Load Data source\n",
    "\n",
    "https://techassessment.blob.core.windows.net/aiap-pys-2/noshow.db\n"
   ]
  },
  {
   "cell_type": "code",
   "execution_count": 666,
   "metadata": {},
   "outputs": [],
   "source": [
    "# # download ad import the data\n",
    "# import requests\n",
    "\n",
    "# url = \"https://techassessment.blob.core.windows.net/aiap-pys-2/noshow.db\"\n",
    "# file_path = \"data/noshow.db\"\n",
    "\n",
    "# # Download the database\n",
    "# response = requests.get(url)\n",
    "\n",
    "# # Save it as a local db file content\n",
    "# with open(file_path, \"wb\") as file:\n",
    "#     file.write(response.content)\n",
    "\t\n",
    "# print(f\"Database downloaded to {file_path}\")\n"
   ]
  },
  {
   "cell_type": "code",
   "execution_count": 667,
   "metadata": {},
   "outputs": [
    {
     "name": "stdout",
     "output_type": "stream",
     "text": [
      "Tables in the database:      name\n",
      "0  noshow\n"
     ]
    }
   ],
   "source": [
    "import sqlite3\n",
    "import pandas as pd\n",
    "\n",
    "# Connect to the database and load the db file that we saved\n",
    "# db_path = 'data/noshow.db'  # Ensure the file path is correct\n",
    "db_path = \"data/new-features/noshow-v2.db\"  # Ensure the file path is correct\n",
    "\n",
    "conn = sqlite3.connect(db_path)\n",
    "cursor = conn.cursor()\n",
    "try:\n",
    "    # List all tables in the database\n",
    "    tables = pd.read_sql_query(\"SELECT name FROM sqlite_master WHERE type='table';\", conn)\n",
    "    print(\"Tables in the database:\", tables)\n",
    "\n",
    "    # Load the `noshow` table into a DataFrame\n",
    "    query = \"SELECT * FROM noshow\"\n",
    "    data = pd.read_sql_query(query, conn)\n",
    "\n",
    "    # Display the first few rows of the table\n",
    "    # print(data.head())\n",
    "\n",
    "except Exception as e:\n",
    "    print(f\"An error occurred: {e}\")\n",
    "\n",
    "finally:\n",
    "    \n",
    "\t# Perform a SELECT query\n",
    "\n",
    "\t# Fetch and print the results\n",
    "    rows = cursor.fetchall()\n",
    "    for row in rows:\n",
    "\t    print(row)\n",
    "\n",
    "    # Close the connection\n",
    "    conn.close()"
   ]
  },
  {
   "cell_type": "markdown",
   "metadata": {},
   "source": [
    "EDA\n",
    "From This point onwards, we will be doing Explorartory Data Analysis."
   ]
  },
  {
   "cell_type": "code",
   "execution_count": 668,
   "metadata": {},
   "outputs": [
    {
     "name": "stdout",
     "output_type": "stream",
     "text": [
      "<class 'pandas.core.frame.DataFrame'>\n",
      "RangeIndex: 119391 entries, 0 to 119390\n",
      "Data columns (total 30 columns):\n",
      " #   Column                        Non-Null Count   Dtype  \n",
      "---  ------                        --------------   -----  \n",
      " 0   booking_id                    119391 non-null  int64  \n",
      " 1   no_show                       119390 non-null  float64\n",
      " 2   branch                        119390 non-null  object \n",
      " 3   booking_month                 119390 non-null  object \n",
      " 4   arrival_month                 119390 non-null  object \n",
      " 5   arrival_day                   119390 non-null  float64\n",
      " 6   arrival_month_January         119391 non-null  object \n",
      " 7   arrival_month_February        119391 non-null  object \n",
      " 8   arrival_month_March           119391 non-null  object \n",
      " 9   arrival_month_April           119391 non-null  object \n",
      " 10  arrival_month_May             119391 non-null  object \n",
      " 11  arrival_month_June            119391 non-null  object \n",
      " 12  arrival_month_July            119391 non-null  object \n",
      " 13  arrival_month_August          119391 non-null  object \n",
      " 14  arrival_month_September       119391 non-null  object \n",
      " 15  arrival_month_October         119391 non-null  object \n",
      " 16  arrival_month_November        119391 non-null  object \n",
      " 17  arrival_month_December        119391 non-null  object \n",
      " 18  arrival_day_type              119390 non-null  object \n",
      " 19  is_holiday_season_in_country  119390 non-null  object \n",
      " 20  checkout_month                119390 non-null  object \n",
      " 21  checkout_day                  119390 non-null  float64\n",
      " 22  stay_duration                 119390 non-null  float64\n",
      " 23  country                       119390 non-null  object \n",
      " 24  first_time                    119390 non-null  object \n",
      " 25  room                          97778 non-null   object \n",
      " 26  price                         94509 non-null   object \n",
      " 27  platform                      119390 non-null  object \n",
      " 28  num_adults                    119390 non-null  object \n",
      " 29  num_children                  119390 non-null  float64\n",
      "dtypes: float64(5), int64(1), object(24)\n",
      "memory usage: 27.3+ MB\n",
      "None\n"
     ]
    }
   ],
   "source": [
    "# Get the concise summary of a DataFrame.\n",
    "print(data.info())"
   ]
  },
  {
   "cell_type": "code",
   "execution_count": 669,
   "metadata": {},
   "outputs": [
    {
     "name": "stdout",
     "output_type": "stream",
     "text": [
      "          booking_id        no_show    arrival_day   checkout_day  \\\n",
      "count  119391.000000  119390.000000  119390.000000  119390.000000   \n",
      "mean    59695.000000       0.370416      15.798241      15.763247   \n",
      "std     34465.357332       0.482918       8.780829       8.775079   \n",
      "min         0.000000       0.000000       1.000000       1.000000   \n",
      "25%     29847.500000       0.000000       8.000000       8.000000   \n",
      "50%     59695.000000       0.000000      16.000000      16.000000   \n",
      "75%     89542.500000       1.000000      23.000000      23.000000   \n",
      "max    119390.000000       1.000000      31.000000      31.000000   \n",
      "\n",
      "       stay_duration   num_children  \n",
      "count  119390.000000  119390.000000  \n",
      "mean        3.847793       0.871229  \n",
      "std         7.248470       0.779796  \n",
      "min         1.000000       0.000000  \n",
      "25%         1.000000       0.000000  \n",
      "50%         2.000000       1.000000  \n",
      "75%         2.000000       1.000000  \n",
      "max        35.000000       3.000000  \n",
      "   booking_id  no_show   branch booking_month arrival_month  arrival_day  \\\n",
      "0       94113      0.0   Changi      November          June         25.0   \n",
      "1       86543      0.0  Orchard        August      November         28.0   \n",
      "2       75928      0.0   Changi         March      February          7.0   \n",
      "3       66947      1.0  Orchard     September       October          1.0   \n",
      "4      106390      0.0  Orchard         March          June         20.0   \n",
      "\n",
      "  arrival_month_January arrival_month_February arrival_month_March  \\\n",
      "0                    NO                     NO                  NO   \n",
      "1                    NO                     NO                  NO   \n",
      "2                    NO                    YES                  NO   \n",
      "3                    NO                     NO                  NO   \n",
      "4                    NO                     NO                  NO   \n",
      "\n",
      "  arrival_month_April  ... checkout_month checkout_day stay_duration  \\\n",
      "0                  NO  ...           June         27.0           2.0   \n",
      "1                  NO  ...       November         29.0           1.0   \n",
      "2                  NO  ...       February         11.0           4.0   \n",
      "3                  NO  ...        October          3.0           2.0   \n",
      "4                  NO  ...           June         24.0           4.0   \n",
      "\n",
      "     country first_time    room         price platform num_adults num_children  \n",
      "0  Singapore        Yes  Single   SGD$ 492.98  Website          1          0.0  \n",
      "1  Indonesia        Yes    King  SGD$ 1351.22  Website          2          0.0  \n",
      "2      India        Yes  Single          None    Agent          1          0.0  \n",
      "3      China        Yes  Single   SGD$ 666.04  Website          1          0.0  \n",
      "4  Australia        Yes   Queen   USD$ 665.37  Website          1          0.0  \n",
      "\n",
      "[5 rows x 30 columns]\n"
     ]
    }
   ],
   "source": [
    "# descriptive statistics\n",
    "print(data.describe())\n",
    "print(data.head())"
   ]
  },
  {
   "cell_type": "code",
   "execution_count": 670,
   "metadata": {},
   "outputs": [
    {
     "name": "stdout",
     "output_type": "stream",
     "text": [
      "booking_id                          0\n",
      "no_show                             1\n",
      "branch                              1\n",
      "booking_month                       1\n",
      "arrival_month                       1\n",
      "arrival_day                         1\n",
      "arrival_month_January               0\n",
      "arrival_month_February              0\n",
      "arrival_month_March                 0\n",
      "arrival_month_April                 0\n",
      "arrival_month_May                   0\n",
      "arrival_month_June                  0\n",
      "arrival_month_July                  0\n",
      "arrival_month_August                0\n",
      "arrival_month_September             0\n",
      "arrival_month_October               0\n",
      "arrival_month_November              0\n",
      "arrival_month_December              0\n",
      "arrival_day_type                    1\n",
      "is_holiday_season_in_country        1\n",
      "checkout_month                      1\n",
      "checkout_day                        1\n",
      "stay_duration                       1\n",
      "country                             1\n",
      "first_time                          1\n",
      "room                            21613\n",
      "price                           24882\n",
      "platform                            1\n",
      "num_adults                          1\n",
      "num_children                        1\n",
      "dtype: int64\n",
      "Number of rows: 119391\n"
     ]
    }
   ],
   "source": [
    "# check for the number of nulls\n",
    "print(data.isnull().sum())\n",
    "\n",
    "num_rows = data.shape[0]\n",
    "print(f\"Number of rows: {num_rows}\")"
   ]
  },
  {
   "cell_type": "markdown",
   "metadata": {},
   "source": [
    "Check the unique values of all the columns"
   ]
  },
  {
   "cell_type": "code",
   "execution_count": 671,
   "metadata": {},
   "outputs": [
    {
     "name": "stdout",
     "output_type": "stream",
     "text": [
      "Unique values in 'no_show': [ 0.  1. nan]\n",
      "Number of unique values in 'no_show': 3\n",
      "\n",
      "--------------------------------------------------\n",
      "Unique values in 'branch': ['Changi' 'Orchard' None]\n",
      "Number of unique values in 'branch': 3\n",
      "\n",
      "--------------------------------------------------\n",
      "Unique values in 'booking_month': ['November' 'August' 'March' 'September' 'July' 'January' 'October' 'June'\n",
      " 'December' 'April' 'May' 'February' None]\n",
      "Number of unique values in 'booking_month': 13\n",
      "\n",
      "--------------------------------------------------\n",
      "Unique values in 'arrival_month': ['June' 'November' 'February' 'October' 'September' 'March' 'May' 'August'\n",
      " 'July' 'January' 'April' 'December' 'ApRiL' 'OcTobeR' 'JuNe' 'JulY'\n",
      " 'ApriL' 'OctOber' 'DecembEr' 'SeptEmber' 'JanUary' 'JUne' 'FeBruary'\n",
      " 'JanuarY' 'DEcember' 'SePtember' 'DecembeR' 'MaY' 'NoVember' 'JUly'\n",
      " 'JunE' 'JuLy' 'FebrUary' 'NOvember' 'SeptemBer' 'OctobeR' 'DecemBer'\n",
      " 'MarCh' 'AuguSt' 'AugusT' 'APril' 'SepTember' 'NovembEr' 'FEbruary'\n",
      " 'DeceMber' 'AuGust' 'SepteMber' 'FebruaRy' 'OctoBer' 'JanuaRy' 'MarcH'\n",
      " 'ApRil' 'AUgust' 'JanuAry' 'NOveMber' 'MaRch' 'AprIl' 'MAy' 'NovemBer'\n",
      " 'DecEmber' 'MArch' 'JaNuary' 'NovembeR' 'SeptembEr' 'FebruarY'\n",
      " 'SeptembeR' 'OcTober' 'DeCember' 'FebruAry' 'AugUst' 'NovEmber'\n",
      " 'NoveMber' 'OctobEr' 'OCtober' 'SEptember' 'JAnuary' 'SeptEMber' 'MAY'\n",
      " 'FebRuary' 'FeBruarY' 'OCTober' 'JUnE' 'DecEMber' 'FebruaRY' 'NovemBeR'\n",
      " 'NOvEmber' 'FEbruarY' None 'FeBruaRy']\n",
      "Number of unique values in 'arrival_month': 89\n",
      "\n",
      "--------------------------------------------------\n",
      "Unique values in 'arrival_day': [25. 28.  7.  1. 20. 12. 15. 18. 27. 22.  9. 11. 10. 13. 30. 21.  5.  6.\n",
      "  2. 31. 19.  4.  3. 23. 17.  8. 26. 14. 24. 29. 16. nan]\n",
      "Number of unique values in 'arrival_day': 32\n",
      "\n",
      "--------------------------------------------------\n",
      "Unique values in 'checkout_month': ['June' 'November' 'February' 'October' 'September' 'March' 'May' 'August'\n",
      " 'July' 'January' 'April' 'December' None]\n",
      "Number of unique values in 'checkout_month': 13\n",
      "\n",
      "--------------------------------------------------\n",
      "Unique values in 'checkout_day': [27. 29. 11.  3. 24. 13. 16. 19. 28. 10. 12. 15. 23. 31. 25. 17.  8.  2.\n",
      "  9.  7.  1. 20. 14.  4.  6. 21.  5. 18. 22. 30. 26. nan]\n",
      "Number of unique values in 'checkout_day': 32\n",
      "\n",
      "--------------------------------------------------\n",
      "Unique values in 'country': ['Singapore' 'Indonesia' 'India' 'China' 'Australia' 'Japan' 'Malaysia'\n",
      " None]\n",
      "Number of unique values in 'country': 8\n",
      "\n",
      "--------------------------------------------------\n",
      "Unique values in 'first_time': ['Yes' 'No' None]\n",
      "Number of unique values in 'first_time': 3\n",
      "\n",
      "--------------------------------------------------\n",
      "Unique values in 'room': ['Single' 'King' 'Queen' None 'President Suite']\n",
      "Number of unique values in 'room': 5\n",
      "\n",
      "--------------------------------------------------\n",
      "Unique values in 'price': ['SGD$ 492.98' 'SGD$ 1351.22' None ... 'USD$ 612.18' 'USD$ 1041.29'\n",
      " 'SGD$ 886.35']\n",
      "Number of unique values in 'price': 61868\n",
      "\n",
      "--------------------------------------------------\n",
      "Unique values in 'platform': ['Website' 'Agent' 'Email' 'Phone' None]\n",
      "Number of unique values in 'platform': 5\n",
      "\n",
      "--------------------------------------------------\n",
      "Unique values in 'num_adults': ['1' '2' 'one' 'two' None]\n",
      "Number of unique values in 'num_adults': 5\n",
      "\n",
      "--------------------------------------------------\n",
      "Unique values in 'num_children': [ 0.  2.  1.  3. nan]\n",
      "Number of unique values in 'num_children': 5\n",
      "\n",
      "--------------------------------------------------\n"
     ]
    }
   ],
   "source": [
    "# Loop through each column and print unique values\n",
    "columns_to_check = [\n",
    "    \"no_show\",'branch', 'booking_month', 'arrival_month', 'arrival_day', 'checkout_month', 'checkout_day',\n",
    "    'country', 'first_time', 'room', 'price', 'platform', 'num_adults', 'num_children'\n",
    "]\n",
    "\n",
    "\n",
    "for col in columns_to_check:\n",
    "    unique_values = data[col].unique()\n",
    "    print(f\"Unique values in '{col}':\", unique_values)\n",
    "    print(f\"Number of unique values in '{col}':\", len(unique_values))\n",
    "    print()\n",
    "    print(\"-\" * 50)\n"
   ]
  },
  {
   "cell_type": "code",
   "execution_count": 672,
   "metadata": {},
   "outputs": [
    {
     "name": "stdout",
     "output_type": "stream",
     "text": [
      "Unique values in 'no_show': [ 0.  1. nan]\n",
      "\n",
      "no_show\n",
      "0.0    75166\n",
      "1.0    44224\n",
      "Name: count, dtype: int64\n"
     ]
    }
   ],
   "source": [
    "# Check the No show column\n",
    "# # Check unique values in the 'no_show' column\n",
    "unique_values = data['no_show'].unique()\n",
    "print(\"Unique values in 'no_show':\", unique_values)\n",
    "print()\n",
    "# # Verify if all values are 0.0 or 1.0\n",
    "# valid_values = {0.0, 1.0}\n",
    "# if set(unique_values).issubset(valid_values):\n",
    "#     print(\"All values in 'no_show' are either 0.0 or 1.0.\")\n",
    "# else:\n",
    "#     print(\"There are other values in 'no_show':\", set(unique_values) - valid_values)\n",
    "\n",
    "# print(data['no_show'].value_counts(normalize=True))\n",
    "print(data['no_show'].value_counts())\n"
   ]
  },
  {
   "cell_type": "code",
   "execution_count": 673,
   "metadata": {},
   "outputs": [
    {
     "name": "stdout",
     "output_type": "stream",
     "text": [
      "Unique values in 'branch': ['Changi' 'Orchard' None]\n",
      "\n",
      "branch\n",
      "Changi     79330\n",
      "Orchard    40060\n",
      "Name: count, dtype: int64\n"
     ]
    }
   ],
   "source": [
    "# Branch\n",
    "print(\"Unique values in 'branch':\", data['branch'].unique())\n",
    "print()\n",
    "print(data['branch'].value_counts())\n"
   ]
  },
  {
   "cell_type": "code",
   "execution_count": 674,
   "metadata": {},
   "outputs": [
    {
     "name": "stdout",
     "output_type": "stream",
     "text": [
      "['november' 'august' 'march' 'september' 'july' 'january' 'october' 'june'\n",
      " 'december' 'april' 'may' 'february' None]\n",
      "\n",
      "12\n",
      "\n",
      "booking_month\n",
      "june         10324\n",
      "september    10315\n",
      "november     10280\n",
      "january      10214\n",
      "august       10134\n",
      "october      10068\n",
      "july          9993\n",
      "march         9754\n",
      "may           9588\n",
      "february      9588\n",
      "april         9571\n",
      "december      9561\n",
      "Name: count, dtype: int64\n"
     ]
    }
   ],
   "source": [
    "#booking_month\n",
    "# print(data['booking_month'].unique())\n",
    "data['booking_month'] = data['booking_month'].str.lower()\n",
    "print(data['booking_month'].unique())\n",
    "print()\n",
    "print(data['booking_month'].nunique())\n",
    "print()\n",
    "print(data['booking_month'].value_counts())\n"
   ]
  },
  {
   "cell_type": "code",
   "execution_count": 675,
   "metadata": {},
   "outputs": [
    {
     "name": "stdout",
     "output_type": "stream",
     "text": [
      "Unique values in 'arrival_month': ['june' 'november' 'february' 'october' 'september' 'march' 'may' 'august'\n",
      " 'july' 'january' 'april' 'december' None]\n",
      "\n",
      "Number of unique values in 'arrival_month': 12\n",
      "\n",
      "arrival_month\n",
      "august       13877\n",
      "july         12661\n",
      "may          11791\n",
      "october      11160\n",
      "april        11089\n",
      "june         10939\n",
      "september    10508\n",
      "march         9794\n",
      "february      8068\n",
      "november      6794\n",
      "december      6780\n",
      "january       5929\n",
      "Name: count, dtype: int64\n"
     ]
    }
   ],
   "source": [
    "#Arrival_month\n",
    "# Issue: inconsistent data entry with random capitalisation\n",
    "# # Standardize the arrival_month column\n",
    "data['arrival_month'] = data['arrival_month'].str.lower()\n",
    "\n",
    "# We commented this out for now as we want to see the final result based on the number of missing rows\n",
    "# Handle missing values by filling with the mode (most frequent month)\n",
    "# most_frequent_month = data['booking_month'].mode()[0]\n",
    "# data['arrival_month'] = data['arrival_month'].fillna(most_frequent_month)\n",
    "\n",
    "# Verify the cleaned column\n",
    "print(\"Unique values in 'arrival_month':\", data['arrival_month'].unique())\n",
    "print()\n",
    "print(\"Number of unique values in 'arrival_month':\", data['arrival_month'].nunique())\n",
    "print()\n",
    "print(data['arrival_month'].value_counts())\n",
    "\n",
    "#Note! March is missing"
   ]
  },
  {
   "cell_type": "code",
   "execution_count": 676,
   "metadata": {},
   "outputs": [
    {
     "name": "stdout",
     "output_type": "stream",
     "text": [
      "Unique values in 'checkout_day': [27. 29. 11.  3. 24. 13. 16. 19. 28. 10. 12. 15. 23. 31. 25. 17.  8.  2.\n",
      "  9.  7.  1. 20. 14.  4.  6. 21.  5. 18. 22. 30. 26. nan]\n"
     ]
    }
   ],
   "source": [
    "#arrival_day\n",
    "# Issue: Day of the month being negative.\n",
    "# Assumption: We believe that the negative sign is added incorrectly.\n",
    "# Therefore, we remove the negative sign\n",
    "\n",
    "# Assume that the negative sign is added incorrectly. \n",
    "# Convert negative values to positive\n",
    "data['checkout_day'] = data['checkout_day'].apply(lambda x: abs(x) if x < 0 else x)\n",
    "\n",
    "# Verify the updated column\n",
    "print(\"Unique values in 'checkout_day':\", data['checkout_day'].unique())"
   ]
  },
  {
   "cell_type": "code",
   "execution_count": 677,
   "metadata": {},
   "outputs": [
    {
     "name": "stdout",
     "output_type": "stream",
     "text": [
      "Unique values in 'arrival_month': ['June' 'November' 'February' 'October' 'September' 'March' 'May' 'August'\n",
      " 'July' 'January' 'April' 'December' None]\n",
      "\n",
      "Number of unique values in 'arrival_month': 12\n",
      "\n",
      "checkout_month\n",
      "August       13836\n",
      "July         12760\n",
      "May          12044\n",
      "October      11434\n",
      "April        11016\n",
      "June         10692\n",
      "September    10416\n",
      "March         9509\n",
      "February      7716\n",
      "November      7214\n",
      "January       6516\n",
      "December      6237\n",
      "Name: count, dtype: int64\n"
     ]
    }
   ],
   "source": [
    "# checkout_month\n",
    "print(\"Unique values in 'arrival_month':\", data['checkout_month'].unique())\n",
    "print()\n",
    "print(\"Number of unique values in 'arrival_month':\", data['checkout_month'].nunique())\n",
    "print()\n",
    "print(data['checkout_month'].value_counts())\n",
    "\n"
   ]
  },
  {
   "cell_type": "code",
   "execution_count": 678,
   "metadata": {},
   "outputs": [
    {
     "name": "stdout",
     "output_type": "stream",
     "text": [
      "Unique values in 'arrival_month': [27. 29. 11.  3. 24. 13. 16. 19. 28. 10. 12. 15. 23. 31. 25. 17.  8.  2.\n",
      "  9.  7.  1. 20. 14.  4.  6. 21.  5. 18. 22. 30. 26. nan]\n",
      "\n",
      "Number of unique values in 'arrival_month': 31\n",
      "\n",
      "checkout_day\n",
      "11.0    4656\n",
      "18.0    4468\n",
      "20.0    4434\n",
      "27.0    4221\n",
      "4.0     4175\n",
      "6.0     4147\n",
      "17.0    4139\n",
      "28.0    4116\n",
      "1.0     4071\n",
      "25.0    3992\n",
      "19.0    3991\n",
      "14.0    3983\n",
      "22.0    3970\n",
      "21.0    3937\n",
      "29.0    3881\n",
      "7.0     3874\n",
      "26.0    3815\n",
      "3.0     3794\n",
      "16.0    3789\n",
      "5.0     3786\n",
      "15.0    3763\n",
      "8.0     3722\n",
      "10.0    3692\n",
      "24.0    3675\n",
      "13.0    3651\n",
      "2.0     3647\n",
      "9.0     3639\n",
      "23.0    3469\n",
      "12.0    3465\n",
      "30.0    3262\n",
      "31.0    2166\n",
      "Name: count, dtype: int64\n"
     ]
    }
   ],
   "source": [
    "# checkout_day\n",
    "print(\"Unique values in 'arrival_month':\", data['checkout_day'].unique())\n",
    "print()\n",
    "print(\"Number of unique values in 'arrival_month':\", data['checkout_day'].nunique())\n",
    "print()\n",
    "print(data['checkout_day'].value_counts())\n",
    "\n"
   ]
  },
  {
   "cell_type": "code",
   "execution_count": 679,
   "metadata": {},
   "outputs": [
    {
     "name": "stdout",
     "output_type": "stream",
     "text": [
      "Unique values in 'arrival_month': ['Singapore' 'Indonesia' 'India' 'China' 'Australia' 'Japan' 'Malaysia'\n",
      " None]\n",
      "\n",
      "Number of unique values in 'arrival_month': 7\n",
      "\n",
      "country\n",
      "China        48590\n",
      "Indonesia    25812\n",
      "India        15790\n",
      "Australia    12129\n",
      "Japan         9391\n",
      "Singapore     3912\n",
      "Malaysia      3766\n",
      "Name: count, dtype: int64\n"
     ]
    }
   ],
   "source": [
    "#country\n",
    "print(\"Unique values in 'arrival_month':\", data['country'].unique())\n",
    "print()\n",
    "print(\"Number of unique values in 'arrival_month':\", data['country'].nunique())\n",
    "print()\n",
    "print(data['country'].value_counts())\n",
    "\n",
    "\n",
    "\n"
   ]
  },
  {
   "cell_type": "code",
   "execution_count": 680,
   "metadata": {},
   "outputs": [
    {
     "name": "stdout",
     "output_type": "stream",
     "text": [
      "Unique values in 'arrival_month': ['Yes' 'No' None]\n",
      "\n",
      "Number of unique values in 'arrival_month': 2\n",
      "\n",
      "first_time\n",
      "Yes    115580\n",
      "No       3810\n",
      "Name: count, dtype: int64\n"
     ]
    }
   ],
   "source": [
    "#first_time\n",
    "print(\"Unique values in 'arrival_month':\", data['first_time'].unique())\n",
    "print()\n",
    "print(\"Number of unique values in 'arrival_month':\", data['first_time'].nunique())\n",
    "print()\n",
    "print(data['first_time'].value_counts())\n",
    "\n"
   ]
  },
  {
   "cell_type": "code",
   "execution_count": 681,
   "metadata": {},
   "outputs": [
    {
     "name": "stdout",
     "output_type": "stream",
     "text": [
      "Unique values in 'arrival_month': ['Single' 'King' 'Queen' None 'President Suite']\n",
      "\n",
      "Number of unique values in 'arrival_month': 4\n",
      "\n",
      "room\n",
      "King               70496\n",
      "Single             15697\n",
      "Queen              10824\n",
      "President Suite      761\n",
      "Name: count, dtype: int64\n"
     ]
    }
   ],
   "source": [
    "#room\n",
    "print(\"Unique values in 'arrival_month':\", data['room'].unique())\n",
    "print()\n",
    "print(\"Number of unique values in 'arrival_month':\", data['room'].nunique())\n",
    "print()\n",
    "print(data['room'].value_counts())"
   ]
  },
  {
   "cell_type": "code",
   "execution_count": 682,
   "metadata": {},
   "outputs": [
    {
     "name": "stdout",
     "output_type": "stream",
     "text": [
      "booking_id                          0\n",
      "no_show                             1\n",
      "branch                              1\n",
      "booking_month                       1\n",
      "arrival_month                       1\n",
      "arrival_day                         1\n",
      "arrival_month_January               0\n",
      "arrival_month_February              0\n",
      "arrival_month_March                 0\n",
      "arrival_month_April                 0\n",
      "arrival_month_May                   0\n",
      "arrival_month_June                  0\n",
      "arrival_month_July                  0\n",
      "arrival_month_August                0\n",
      "arrival_month_September             0\n",
      "arrival_month_October               0\n",
      "arrival_month_November              0\n",
      "arrival_month_December              0\n",
      "arrival_day_type                    1\n",
      "is_holiday_season_in_country        1\n",
      "checkout_month                      1\n",
      "checkout_day                        1\n",
      "stay_duration                       1\n",
      "country                             1\n",
      "first_time                          1\n",
      "room                            21613\n",
      "price                           24882\n",
      "platform                            1\n",
      "num_adults                          1\n",
      "num_children                        1\n",
      "dtype: int64\n"
     ]
    }
   ],
   "source": [
    "print(data.isnull().sum())\n"
   ]
  },
  {
   "cell_type": "code",
   "execution_count": 683,
   "metadata": {},
   "outputs": [
    {
     "name": "stdout",
     "output_type": "stream",
     "text": [
      "0     SGD$ 492.98\n",
      "1    SGD$ 1351.22\n",
      "2            None\n",
      "3     SGD$ 666.04\n",
      "4     USD$ 665.37\n",
      "Name: price, dtype: object\n",
      "0     492.980\n",
      "1    1351.220\n",
      "2         NaN\n",
      "3     666.040\n",
      "4     864.981\n",
      "Name: price, dtype: float64\n",
      "0          493.0\n",
      "1         1351.0\n",
      "2            NaN\n",
      "3          666.0\n",
      "4          865.0\n",
      "           ...  \n",
      "119386     796.0\n",
      "119387    1354.0\n",
      "119388     834.0\n",
      "119389     886.0\n",
      "119390     902.0\n",
      "Name: price, Length: 119391, dtype: float64\n"
     ]
    }
   ],
   "source": [
    "#price\n",
    "# Clean the data for price\n",
    "print(data['price'].head())\n",
    "\n",
    "# Fill missing numeric values with the median\n",
    "# data['price'] = data['price'].fillna(data['price'].median())\n",
    "\n",
    "# Define a function to process the price column\n",
    "def clean_price(price):\n",
    "    if pd.isna(price):  # Handle missing values\n",
    "        return None\n",
    "    if 'USD$' in price:  # If price is in USD\n",
    "        numeric_value = float(price.replace('USD$', '').strip())\n",
    "        return numeric_value * 1.3  # Convert to SGD\n",
    "    elif 'SGD$' in price:  # If price is in SGD\n",
    "        return float(price.replace('SGD$', '').strip())\n",
    "    else:\n",
    "        return None  # Handle unexpected formats\n",
    "\n",
    "# Apply the function to the 'price' column\n",
    "# this causes error\n",
    "data['price'] = data['price'].apply(clean_price)\n",
    "\n",
    "# Fill missing values with the median\n",
    "# data['price'] = data['price'].fillna(data['price'].median())\n",
    "\n",
    "# Display the cleaned price column\n",
    "print(data['price'].head())\n",
    "\n",
    "# Converts price to numeric:\n",
    "# change price data type to float\n",
    "data['price'] = pd.to_numeric(data['price'], errors='coerce')\n",
    "\n",
    "# Rounds non-NaN numeric values:\n",
    "# LHS -> getting not NA values from price col\n",
    "# RHS -> rounding the not NA values to nearest whole number \n",
    "# LHS = RHS\n",
    "data.loc[data['price'].notna(), 'price'] = data['price'].loc[data['price'].notna()].round().astype(float)\n",
    "\n",
    "# Replaces NaN with 'NA':\n",
    "# data['price'] = data['price'].fillna('NA')\n",
    "\n",
    "# Print the updated 'price' column\n",
    "print(data['price'])"
   ]
  },
  {
   "cell_type": "code",
   "execution_count": 684,
   "metadata": {},
   "outputs": [
    {
     "name": "stdout",
     "output_type": "stream",
     "text": [
      "booking_id                          0\n",
      "no_show                             1\n",
      "branch                              1\n",
      "booking_month                       1\n",
      "arrival_month                       1\n",
      "arrival_day                         1\n",
      "arrival_month_January               0\n",
      "arrival_month_February              0\n",
      "arrival_month_March                 0\n",
      "arrival_month_April                 0\n",
      "arrival_month_May                   0\n",
      "arrival_month_June                  0\n",
      "arrival_month_July                  0\n",
      "arrival_month_August                0\n",
      "arrival_month_September             0\n",
      "arrival_month_October               0\n",
      "arrival_month_November              0\n",
      "arrival_month_December              0\n",
      "arrival_day_type                    1\n",
      "is_holiday_season_in_country        1\n",
      "checkout_month                      1\n",
      "checkout_day                        1\n",
      "stay_duration                       1\n",
      "country                             1\n",
      "first_time                          1\n",
      "room                            21613\n",
      "price                           24882\n",
      "platform                            1\n",
      "num_adults                          1\n",
      "num_children                        1\n",
      "dtype: int64\n"
     ]
    }
   ],
   "source": [
    "print(data.isnull().sum())\n"
   ]
  },
  {
   "cell_type": "code",
   "execution_count": 685,
   "metadata": {},
   "outputs": [
    {
     "name": "stdout",
     "output_type": "stream",
     "text": [
      "Unique values in 'arrival_month': ['Website' 'Agent' 'Email' 'Phone' None]\n",
      "\n",
      "Number of unique values in 'arrival_month': 4\n",
      "\n",
      "platform\n",
      "Website    54234\n",
      "Email      32608\n",
      "Agent      21735\n",
      "Phone      10813\n",
      "Name: count, dtype: int64\n"
     ]
    }
   ],
   "source": [
    "#platform\n",
    "\n",
    "print(\"Unique values in 'arrival_month':\", data['platform'].unique())\n",
    "print()\n",
    "print(\"Number of unique values in 'arrival_month':\", data['platform'].nunique())\n",
    "print()\n",
    "print(data['platform'].value_counts())\n",
    "\n",
    "\n",
    "\n",
    "\n"
   ]
  },
  {
   "cell_type": "code",
   "execution_count": 686,
   "metadata": {},
   "outputs": [
    {
     "name": "stdout",
     "output_type": "stream",
     "text": [
      "Unique values in 'num_adults': [ 1.  2. nan]\n",
      "num_adults\n",
      "1.0    69079\n",
      "2.0    50311\n",
      "Name: count, dtype: int64\n",
      "num_adults\n",
      "1.0    69079\n",
      "2.0    50311\n",
      "Name: count, dtype: int64\n"
     ]
    }
   ],
   "source": [
    "#num_adults\n",
    "\n",
    "# Fix inconsistent in the number of adult\n",
    "# Eg: use of 'one' and '1', 'two' and \"2\"\n",
    "# Change to 1 as the next column uses numerical instead of alphabets\n",
    "\n",
    "# Define a mapping for textual to numeric conversion\n",
    "adult_mapping = {'1': 1, '2': 2, 'one': 1, 'two': 2}\n",
    "\n",
    "# Apply the mapping to the num_adults column\n",
    "data['num_adults'] = data['num_adults'].map(adult_mapping)\n",
    "\n",
    "# Fill missing values (e.g., with the mode or a default value)\n",
    "# most_frequent_adults = data['num_adults'].mode()[0]\n",
    "# data['num_adults'] = data['num_adults'].fillna(most_frequent_adults)\n",
    "\n",
    "# Verify the cleaned column\n",
    "print(\"Unique values in 'num_adults':\", data['num_adults'].unique())\n",
    "\n",
    "print(data['num_adults'].value_counts())\n",
    "\n",
    "\n",
    "# adult_mapping = {'1': 1, '2': 2, 'one': 1, 'two': 2}\n",
    "\n",
    "# # Apply the mapping to the num_adults column\n",
    "# data['num_adults'] = data['num_adults'].map(adult_mapping)\n",
    "\n",
    "# # Fill missing values (e.g., with the mode or a default value)\n",
    "# # most_frequent_adults = data['num_adults'].mode()[0]\n",
    "# # data['num_adults'] = data['num_adults'].fillna(most_frequent_adults)\n",
    "\n",
    "# # Verify the cleaned column\n",
    "# print(\"Unique values in 'num_adults':\", data['num_adults'].unique())\n",
    "\n",
    "print(data['num_adults'].value_counts())\n",
    "# print(data['num_adults'].value_counts(dropna=False))\n",
    "# print(data['num_adults'].value_counts())\n"
   ]
  },
  {
   "cell_type": "code",
   "execution_count": 687,
   "metadata": {},
   "outputs": [
    {
     "name": "stdout",
     "output_type": "stream",
     "text": [
      "Unique values in 'arrival_month': [ 0.  2.  1.  3. nan]\n",
      "\n",
      "Number of unique values in 'arrival_month': 4\n",
      "\n",
      "num_children\n",
      "1.0    45556\n",
      "0.0    44728\n",
      "2.0    28858\n",
      "3.0      248\n",
      "Name: count, dtype: int64\n"
     ]
    }
   ],
   "source": [
    "# num_children\n",
    "\n",
    "print(\"Unique values in 'arrival_month':\", data['num_children'].unique())\n",
    "print()\n",
    "print(\"Number of unique values in 'arrival_month':\", data['num_children'].nunique())\n",
    "print()\n",
    "print(data['num_children'].value_counts())\n",
    "\n",
    "\n"
   ]
  },
  {
   "cell_type": "code",
   "execution_count": 688,
   "metadata": {},
   "outputs": [
    {
     "name": "stdout",
     "output_type": "stream",
     "text": [
      "Number of duplicate rows: 0\n"
     ]
    }
   ],
   "source": [
    "# Check and Remove duplicate\n",
    "duplicates = data.duplicated()\n",
    "\n",
    "# Count the number of duplicate rows\n",
    "duplicate_count = duplicates.sum()\n",
    "print(f\"Number of duplicate rows: {duplicate_count}\")"
   ]
  },
  {
   "cell_type": "markdown",
   "metadata": {},
   "source": [
    "Handle NA from here onwards"
   ]
  },
  {
   "cell_type": "code",
   "execution_count": 689,
   "metadata": {},
   "outputs": [
    {
     "name": "stdout",
     "output_type": "stream",
     "text": [
      "booking_id                          0\n",
      "no_show                             1\n",
      "branch                              1\n",
      "booking_month                       1\n",
      "arrival_month                       1\n",
      "arrival_day                         1\n",
      "arrival_month_January               0\n",
      "arrival_month_February              0\n",
      "arrival_month_March                 0\n",
      "arrival_month_April                 0\n",
      "arrival_month_May                   0\n",
      "arrival_month_June                  0\n",
      "arrival_month_July                  0\n",
      "arrival_month_August                0\n",
      "arrival_month_September             0\n",
      "arrival_month_October               0\n",
      "arrival_month_November              0\n",
      "arrival_month_December              0\n",
      "arrival_day_type                    1\n",
      "is_holiday_season_in_country        1\n",
      "checkout_month                      1\n",
      "checkout_day                        1\n",
      "stay_duration                       1\n",
      "country                             1\n",
      "first_time                          1\n",
      "room                            21613\n",
      "price                           24882\n",
      "platform                            1\n",
      "num_adults                          1\n",
      "num_children                        1\n",
      "dtype: int64\n",
      "\n",
      "Number of rows for DF: 119391\n"
     ]
    }
   ],
   "source": [
    "# Handle Missing ValueError\n",
    "print(data.isnull().sum())\n",
    "\n",
    "# check number of rows\n",
    "row_count = len(data)\n",
    "print(f\"\\nNumber of rows for DF: {row_count}\")"
   ]
  },
  {
   "cell_type": "code",
   "execution_count": 690,
   "metadata": {},
   "outputs": [
    {
     "name": "stdout",
     "output_type": "stream",
     "text": [
      "booking_id                          0\n",
      "no_show                             1\n",
      "branch                              1\n",
      "booking_month                       1\n",
      "arrival_month                       1\n",
      "arrival_day                         1\n",
      "arrival_month_January               0\n",
      "arrival_month_February              0\n",
      "arrival_month_March                 0\n",
      "arrival_month_April                 0\n",
      "arrival_month_May                   0\n",
      "arrival_month_June                  0\n",
      "arrival_month_July                  0\n",
      "arrival_month_August                0\n",
      "arrival_month_September             0\n",
      "arrival_month_October               0\n",
      "arrival_month_November              0\n",
      "arrival_month_December              0\n",
      "arrival_day_type                    1\n",
      "is_holiday_season_in_country        1\n",
      "checkout_month                      1\n",
      "checkout_day                        1\n",
      "stay_duration                       1\n",
      "country                             1\n",
      "first_time                          1\n",
      "room                            21613\n",
      "price                           24882\n",
      "platform                            1\n",
      "num_adults                          1\n",
      "num_children                        1\n",
      "dtype: int64\n",
      "\n",
      "booking_id                          0\n",
      "no_show                             0\n",
      "branch                              0\n",
      "booking_month                       0\n",
      "arrival_month                       0\n",
      "arrival_day                         0\n",
      "arrival_month_January               0\n",
      "arrival_month_February              0\n",
      "arrival_month_March                 0\n",
      "arrival_month_April                 0\n",
      "arrival_month_May                   0\n",
      "arrival_month_June                  0\n",
      "arrival_month_July                  0\n",
      "arrival_month_August                0\n",
      "arrival_month_September             0\n",
      "arrival_month_October               0\n",
      "arrival_month_November              0\n",
      "arrival_month_December              0\n",
      "arrival_day_type                    0\n",
      "is_holiday_season_in_country        0\n",
      "checkout_month                      0\n",
      "checkout_day                        0\n",
      "stay_duration                       0\n",
      "country                             0\n",
      "first_time                          0\n",
      "room                            21612\n",
      "price                           24881\n",
      "platform                            0\n",
      "num_adults                          0\n",
      "num_children                        0\n",
      "dtype: int64\n"
     ]
    }
   ],
   "source": [
    "\n",
    "import numpy as np\n",
    "\n",
    "\n",
    "print(data.isnull().sum())\n",
    "\n",
    "## Note: 3 potential choice:1. Fill with NA. 2. Drop the row. 3. Fill with value [eg: median]. \n",
    "## We choose to fill NA. Because there may be pros in keeping the data for other columns\n",
    "\n",
    "#  fill na\n",
    "# Example: Fill missing categorical values with 'NA'\n",
    "# data['room'] = data['room'].fillna('NA')\n",
    "# data['price'] = data['price'].fillna('NA')\n",
    "data['no_show'] = data['no_show'].fillna('NA')\n",
    "data['branch'] = data['branch'].fillna('NA')\n",
    "data['booking_month'] = data['booking_month'].fillna('NA')\n",
    "data['arrival_day'] = data['arrival_day'].fillna('NA')\n",
    "data['checkout_month'] = data['checkout_month'].fillna('NA')\n",
    "data['checkout_day'] =data['checkout_day'].fillna('NA')\n",
    "data['country'] = data['country'].fillna('NA')\n",
    "data['first_time']= data['first_time'].fillna('NA')\n",
    "data['platform'] = data['platform'].fillna('NA')\n",
    "data['num_children'] = data['num_children'].fillna('NA')\n",
    "\n",
    "# Drop NA\n",
    "# List of columns to check for NaN\n",
    "'''columns_to_check = [\n",
    "    'no_show', 'branch', 'booking_month', 'arrival_day', 'checkout_month',\n",
    "    'checkout_day', 'country', 'first_time', 'platform', 'num_children'\n",
    "]\n",
    "\n",
    "# Drop rows where any of these columns have NaN\n",
    "data = data.dropna(subset=columns_to_check)\n",
    "'''\n",
    "\n",
    "print()\n",
    "# data.replace(['NA', 'NULL'], np.nan, inplace=True)\n",
    "\n",
    "data = data.dropna(\n",
    "    subset=['no_show', 'branch', \"booking_month\", \"arrival_month\", \n",
    "            \"checkout_month\", \"checkout_day\", \"country\", \"first_time\",\n",
    "            \"platform\", \"num_adults\",\"num_children\"])  # Specify columns to check for missing data\n",
    "\n",
    "\n",
    "print(data.isnull().sum())\n"
   ]
  },
  {
   "cell_type": "code",
   "execution_count": 691,
   "metadata": {},
   "outputs": [
    {
     "name": "stdout",
     "output_type": "stream",
     "text": [
      "Number of rows after dropping rows with NaN: 119390\n"
     ]
    }
   ],
   "source": [
    "# Verify the number of rows remaining\n",
    "print(f\"Number of rows after dropping rows with NaN: {len(data)}\")"
   ]
  },
  {
   "cell_type": "code",
   "execution_count": 692,
   "metadata": {},
   "outputs": [
    {
     "name": "stdout",
     "output_type": "stream",
     "text": [
      "no_show                         0\n",
      "branch                          0\n",
      "booking_month                   0\n",
      "arrival_month                   0\n",
      "arrival_day                     0\n",
      "arrival_month_January           0\n",
      "arrival_month_February          0\n",
      "arrival_month_March             0\n",
      "arrival_month_April             0\n",
      "arrival_month_May               0\n",
      "arrival_month_June              0\n",
      "arrival_month_July              0\n",
      "arrival_month_August            0\n",
      "arrival_month_September         0\n",
      "arrival_month_October           0\n",
      "arrival_month_November          0\n",
      "arrival_month_December          0\n",
      "arrival_day_type                0\n",
      "is_holiday_season_in_country    0\n",
      "checkout_month                  0\n",
      "checkout_day                    0\n",
      "stay_duration                   0\n",
      "country                         0\n",
      "first_time                      0\n",
      "room                            0\n",
      "price                           0\n",
      "platform                        0\n",
      "num_adults                      0\n",
      "num_children                    0\n",
      "dtype: int64\n"
     ]
    }
   ],
   "source": [
    "databackup = data\n",
    "# To settle rooms and price\n",
    "\n",
    "# For price: \n",
    "# Use of median to avoid introducing bias\n",
    "data['price'] = data['price'].fillna(data['price'].median())\n",
    "\n",
    "# For room:\n",
    "# we use NA to indicate placeholder for unavailable data\n",
    "data['room'] = data['room'].fillna('NA')\n",
    "\n",
    "\n",
    "# Drop booking_id\n",
    "data.drop(columns=['booking_id'], inplace=True, errors='ignore')\n",
    "print(data.isnull().sum())\n"
   ]
  },
  {
   "cell_type": "code",
   "execution_count": 693,
   "metadata": {},
   "outputs": [
    {
     "name": "stdout",
     "output_type": "stream",
     "text": [
      "       no_show   branch booking_month arrival_month arrival_day  \\\n",
      "0          0.0   Changi      november          june        25.0   \n",
      "1          0.0  Orchard        august      november        28.0   \n",
      "2          0.0   Changi         march      february         7.0   \n",
      "3          1.0  Orchard     september       october         1.0   \n",
      "4          0.0  Orchard         march          june        20.0   \n",
      "...        ...      ...           ...           ...         ...   \n",
      "119386     0.0   Changi     september         april         3.0   \n",
      "119387     0.0  Orchard         march      december        30.0   \n",
      "119388     1.0   Changi     september         march        31.0   \n",
      "119389     0.0   Changi      february      february        25.0   \n",
      "119390     0.0   Changi         march          july        18.0   \n",
      "\n",
      "       arrival_month_January arrival_month_February arrival_month_March  \\\n",
      "0                         NO                     NO                  NO   \n",
      "1                         NO                     NO                  NO   \n",
      "2                         NO                    YES                  NO   \n",
      "3                         NO                     NO                  NO   \n",
      "4                         NO                     NO                  NO   \n",
      "...                      ...                    ...                 ...   \n",
      "119386                    NO                     NO                  NO   \n",
      "119387                    NO                     NO                  NO   \n",
      "119388                    NO                     NO                 YES   \n",
      "119389                    NO                    YES                  NO   \n",
      "119390                    NO                     NO                  NO   \n",
      "\n",
      "       arrival_month_April arrival_month_May  ... checkout_month checkout_day  \\\n",
      "0                       NO                NO  ...           June         27.0   \n",
      "1                       NO                NO  ...       November         29.0   \n",
      "2                       NO                NO  ...       February         11.0   \n",
      "3                       NO                NO  ...        October          3.0   \n",
      "4                       NO                NO  ...           June         24.0   \n",
      "...                    ...               ...  ...            ...          ...   \n",
      "119386                 YES                NO  ...          April          5.0   \n",
      "119387                  NO                NO  ...        January          3.0   \n",
      "119388                  NO                NO  ...          April          1.0   \n",
      "119389                  NO                NO  ...       February         27.0   \n",
      "119390                  NO                NO  ...           July         26.0   \n",
      "\n",
      "       stay_duration    country first_time    room   price platform  \\\n",
      "0                2.0  Singapore        Yes  Single   493.0  Website   \n",
      "1                1.0  Indonesia        Yes    King  1351.0  Website   \n",
      "2                4.0      India        Yes  Single   889.0    Agent   \n",
      "3                2.0      China        Yes  Single   666.0  Website   \n",
      "4                4.0  Australia        Yes   Queen   865.0  Website   \n",
      "...              ...        ...        ...     ...     ...      ...   \n",
      "119386           2.0      China        Yes    King   796.0  Website   \n",
      "119387           3.0      China        Yes    King  1354.0    Email   \n",
      "119388           1.0  Indonesia        Yes    King   834.0    Email   \n",
      "119389           2.0      China        Yes      NA   886.0  Website   \n",
      "119390           8.0      India        Yes    King   902.0  Website   \n",
      "\n",
      "       num_adults num_children  \n",
      "0             1.0          0.0  \n",
      "1             2.0          0.0  \n",
      "2             1.0          0.0  \n",
      "3             1.0          0.0  \n",
      "4             1.0          0.0  \n",
      "...           ...          ...  \n",
      "119386        1.0          1.0  \n",
      "119387        2.0          0.0  \n",
      "119388        1.0          2.0  \n",
      "119389        2.0          0.0  \n",
      "119390        1.0          2.0  \n",
      "\n",
      "[119390 rows x 29 columns]\n"
     ]
    }
   ],
   "source": [
    "print(data)"
   ]
  },
  {
   "cell_type": "code",
   "execution_count": 694,
   "metadata": {},
   "outputs": [
    {
     "name": "stdout",
     "output_type": "stream",
     "text": [
      "  no_show   branch booking_month arrival_month arrival_day  \\\n",
      "0     0.0   Changi      november          june        25.0   \n",
      "1     0.0  Orchard        august      november        28.0   \n",
      "2     0.0   Changi         march      february         7.0   \n",
      "3     1.0  Orchard     september       october         1.0   \n",
      "4     0.0  Orchard         march          june        20.0   \n",
      "\n",
      "  arrival_month_January arrival_month_February arrival_month_March  \\\n",
      "0                    NO                     NO                  NO   \n",
      "1                    NO                     NO                  NO   \n",
      "2                    NO                    YES                  NO   \n",
      "3                    NO                     NO                  NO   \n",
      "4                    NO                     NO                  NO   \n",
      "\n",
      "  arrival_month_April arrival_month_May  ... checkout_month checkout_day  \\\n",
      "0                  NO                NO  ...           June         27.0   \n",
      "1                  NO                NO  ...       November         29.0   \n",
      "2                  NO                NO  ...       February         11.0   \n",
      "3                  NO                NO  ...        October          3.0   \n",
      "4                  NO                NO  ...           June         24.0   \n",
      "\n",
      "  stay_duration    country first_time    room   price platform num_adults  \\\n",
      "0           2.0  Singapore        Yes  Single   493.0  Website        1.0   \n",
      "1           1.0  Indonesia        Yes    King  1351.0  Website        2.0   \n",
      "2           4.0      India        Yes  Single   889.0    Agent        1.0   \n",
      "3           2.0      China        Yes  Single   666.0  Website        1.0   \n",
      "4           4.0  Australia        Yes   Queen   865.0  Website        1.0   \n",
      "\n",
      "  num_children  \n",
      "0          0.0  \n",
      "1          0.0  \n",
      "2          0.0  \n",
      "3          0.0  \n",
      "4          0.0  \n",
      "\n",
      "[5 rows x 29 columns]\n"
     ]
    }
   ],
   "source": [
    "# There is quite a few rows missing data for room and location. \n",
    "# Therefore we do not want to drop them\n",
    "\n",
    "# Alterantive 1: Fill NA\n",
    "# Alternative 2: Fill with value\n",
    "# data = data.dropna(subset=['room', 'location'])  #\n",
    "print(data.head())"
   ]
  },
  {
   "cell_type": "markdown",
   "metadata": {},
   "source": [
    "COVARIANCE & CORRELATION TABLE"
   ]
  },
  {
   "cell_type": "code",
   "execution_count": 699,
   "metadata": {},
   "outputs": [
    {
     "name": "stdout",
     "output_type": "stream",
     "text": [
      "                               no_show  booking_month  arrival_month  \\\n",
      "no_show                       1.000000       0.009373       0.011022   \n",
      "booking_month                 0.009373       1.000000       0.046552   \n",
      "arrival_month                 0.011022       0.046552       1.000000   \n",
      "arrival_day                  -0.006130      -0.001336      -0.026063   \n",
      "arrival_day_type             -0.009890      -0.012379      -0.040468   \n",
      "is_holiday_season_in_country -0.025217      -0.004632      -0.064844   \n",
      "checkout_month                0.013941       0.045737       0.954684   \n",
      "checkout_day                 -0.015549       0.001230      -0.038482   \n",
      "stay_duration                 0.021151      -0.009729       0.013035   \n",
      "first_time                    0.084793       0.019656       0.030729   \n",
      "price                        -0.052642       0.004346       0.003196   \n",
      "num_adults                    0.014506      -0.001731       0.006147   \n",
      "\n",
      "                              arrival_day  arrival_day_type  \\\n",
      "no_show                         -0.006130         -0.009890   \n",
      "booking_month                   -0.001336         -0.012379   \n",
      "arrival_month                   -0.026063         -0.040468   \n",
      "arrival_day                      1.000000         -0.003915   \n",
      "arrival_day_type                -0.003915          1.000000   \n",
      "is_holiday_season_in_country     0.006631         -0.009198   \n",
      "checkout_month                  -0.031486         -0.029663   \n",
      "checkout_day                     0.626760          0.006315   \n",
      "stay_duration                    0.361309          0.022572   \n",
      "first_time                       0.006145         -0.033796   \n",
      "price                           -0.005976         -0.000857   \n",
      "num_adults                      -0.004780         -0.003757   \n",
      "\n",
      "                              is_holiday_season_in_country  checkout_month  \\\n",
      "no_show                                          -0.025217        0.013941   \n",
      "booking_month                                    -0.004632        0.045737   \n",
      "arrival_month                                    -0.064844        0.954684   \n",
      "arrival_day                                       0.006631       -0.031486   \n",
      "arrival_day_type                                 -0.009198       -0.029663   \n",
      "is_holiday_season_in_country                      1.000000       -0.072334   \n",
      "checkout_month                                   -0.072334        1.000000   \n",
      "checkout_day                                      0.016229       -0.032911   \n",
      "stay_duration                                    -0.002698        0.004922   \n",
      "first_time                                       -0.007972        0.031239   \n",
      "price                                             0.014947        0.004967   \n",
      "num_adults                                       -0.012521        0.007877   \n",
      "\n",
      "                              checkout_day  stay_duration  first_time  \\\n",
      "no_show                          -0.015549       0.021151    0.084793   \n",
      "booking_month                     0.001230      -0.009729    0.019656   \n",
      "arrival_month                    -0.038482       0.013035    0.030729   \n",
      "arrival_day                       0.626760       0.361309    0.006145   \n",
      "arrival_day_type                  0.006315       0.022572   -0.033796   \n",
      "is_holiday_season_in_country      0.016229      -0.002698   -0.007972   \n",
      "checkout_month                   -0.032911       0.004922    0.031239   \n",
      "checkout_day                      1.000000      -0.376103    0.004290   \n",
      "stay_duration                    -0.376103       1.000000    0.019921   \n",
      "first_time                        0.004290       0.019921    1.000000   \n",
      "price                            -0.005602       0.011168   -0.054793   \n",
      "num_adults                       -0.003757      -0.010550   -0.015389   \n",
      "\n",
      "                                 price  num_adults  \n",
      "no_show                      -0.052642    0.014506  \n",
      "booking_month                 0.004346   -0.001731  \n",
      "arrival_month                 0.003196    0.006147  \n",
      "arrival_day                  -0.005976   -0.004780  \n",
      "arrival_day_type             -0.000857   -0.003757  \n",
      "is_holiday_season_in_country  0.014947   -0.012521  \n",
      "checkout_month                0.004967    0.007877  \n",
      "checkout_day                 -0.005602   -0.003757  \n",
      "stay_duration                 0.011168   -0.010550  \n",
      "first_time                   -0.054793   -0.015389  \n",
      "price                         1.000000    0.190304  \n",
      "num_adults                    0.190304    1.000000  \n"
     ]
    }
   ],
   "source": [
    "holiday_season_map = {'NO': 0, 'YES': 1}\n",
    "data['is_holiday_season_in_country'] = data['is_holiday_season_in_country'].map(holiday_season_map)\n",
    "\n",
    "type_of_day_map = {'WEEKDAY': 0, 'WEEKEND': 1}\n",
    "data['arrival_day_type'] = data['arrival_day_type'].map(type_of_day_map)\n",
    "\n",
    "first_time_map = {'No': 0, 'Yes': 1}\n",
    "data['first_time'] = data['first_time'].map(first_time_map)\n",
    "\n",
    "month_map = {'january': 1, 'february': 2, 'march': 3, 'april': 4, 'may': 5, 'june': 6,\n",
    "             'july': 7, 'august': 8, 'september': 9, 'october': 10, 'november': 11, 'december': 12}\n",
    "data['arrival_month'] = data['arrival_month'].map(month_map)\n",
    "data['booking_month'] = data['booking_month'].map(month_map)\n",
    "\n",
    "checkout_month_map = {'January': 1, 'February': 2, 'March': 3, 'April': 4, 'May': 5, 'June': 6,\n",
    "             'July': 7, 'August': 8, 'September': 9, 'October': 10, 'November': 11, 'December': 12}\n",
    "data['checkout_month'] = data['checkout_month'].map(checkout_month_map)\n",
    "\n",
    "corr_matrix = data[['no_show', 'booking_month', 'arrival_month', 'arrival_day', 'arrival_day_type', 'is_holiday_season_in_country', 'checkout_month', 'checkout_day', 'stay_duration',\n",
    "                    'first_time', 'price', 'num_adults']].corr()\n",
    "print(corr_matrix)"
   ]
  },
  {
   "cell_type": "code",
   "execution_count": null,
   "metadata": {},
   "outputs": [],
   "source": []
  },
  {
   "cell_type": "code",
   "execution_count": 701,
   "metadata": {},
   "outputs": [
    {
     "name": "stdout",
     "output_type": "stream",
     "text": [
      "                               no_show  booking_month  arrival_month  \\\n",
      "no_show                       0.233210       0.015594       0.016450   \n",
      "booking_month                 0.015594      11.868758       0.495661   \n",
      "arrival_month                 0.016450       0.495661       9.551924   \n",
      "arrival_day                  -0.025994      -0.040427      -0.707299   \n",
      "arrival_day_type             -0.002106      -0.018807      -0.055156   \n",
      "is_holiday_season_in_country -0.005711      -0.007484      -0.093989   \n",
      "checkout_month                0.020826       0.487435       9.127410   \n",
      "checkout_day                 -0.065892       0.037191      -1.043635   \n",
      "stay_duration                 0.074037      -0.242952       0.292010   \n",
      "first_time                    0.007197       0.011903       0.016693   \n",
      "price                        -5.901155       3.475399       2.293048   \n",
      "num_adults                    0.003459      -0.002945       0.009381   \n",
      "\n",
      "                              arrival_day  arrival_day_type  \\\n",
      "no_show                         -0.025994         -0.002106   \n",
      "booking_month                   -0.040427         -0.018807   \n",
      "arrival_month                   -0.707299         -0.055156   \n",
      "arrival_day                     77.102966         -0.015160   \n",
      "arrival_day_type                -0.015160          0.194480   \n",
      "is_holiday_season_in_country     0.027309         -0.001902   \n",
      "checkout_month                  -0.855261         -0.040466   \n",
      "checkout_day                    48.293420          0.024438   \n",
      "stay_duration                   22.996471          0.072152   \n",
      "first_time                       0.009484         -0.002620   \n",
      "price                          -12.181182         -0.087719   \n",
      "num_adults                      -0.020725         -0.000818   \n",
      "\n",
      "                              is_holiday_season_in_country  checkout_month  \\\n",
      "no_show                                          -0.005711        0.020826   \n",
      "booking_month                                    -0.007484        0.487435   \n",
      "arrival_month                                    -0.093989        9.127410   \n",
      "arrival_day                                       0.027309       -0.855261   \n",
      "arrival_day_type                                 -0.001902       -0.040466   \n",
      "is_holiday_season_in_country                      0.219952       -0.104943   \n",
      "checkout_month                                   -0.104943        9.569407   \n",
      "checkout_day                                      0.066791       -0.893373   \n",
      "stay_duration                                    -0.009172        0.110356   \n",
      "first_time                                       -0.000657        0.016985   \n",
      "price                                             1.627246        3.566464   \n",
      "num_adults                                       -0.002900        0.012032   \n",
      "\n",
      "                              checkout_day  stay_duration  first_time  \\\n",
      "no_show                          -0.065892       0.074037    0.007197   \n",
      "booking_month                     0.037191      -0.242952    0.011903   \n",
      "arrival_month                    -1.043635       0.292010    0.016693   \n",
      "arrival_day                      48.293420      22.996471    0.009484   \n",
      "arrival_day_type                  0.024438       0.072152   -0.002620   \n",
      "is_holiday_season_in_country      0.066791      -0.009172   -0.000657   \n",
      "checkout_month                   -0.893373       0.110356    0.016985   \n",
      "checkout_day                     77.002018     -23.922357    0.006617   \n",
      "stay_duration                   -23.922357      52.540319    0.025380   \n",
      "first_time                        0.006617       0.025380    0.030894   \n",
      "price                           -11.410261      18.791554   -2.235625   \n",
      "num_adults                       -0.016280      -0.037762   -0.001336   \n",
      "\n",
      "                                     price  num_adults  \n",
      "no_show                          -5.901155    0.003459  \n",
      "booking_month                     3.475399   -0.002945  \n",
      "arrival_month                     2.293048    0.009381  \n",
      "arrival_day                     -12.181182   -0.020725  \n",
      "arrival_day_type                 -0.087719   -0.000818  \n",
      "is_holiday_season_in_country      1.627246   -0.002900  \n",
      "checkout_month                    3.566464    0.012032  \n",
      "checkout_day                    -11.410261   -0.016280  \n",
      "stay_duration                    18.791554   -0.037762  \n",
      "first_time                       -2.235625   -0.001336  \n",
      "price                         53885.045252   21.813250  \n",
      "num_adults                       21.813250    0.243824  \n"
     ]
    }
   ],
   "source": [
    "\n",
    "\n",
    "cov_matrix = data[['no_show', 'booking_month', 'arrival_month', 'arrival_day', 'arrival_day_type', 'is_holiday_season_in_country', 'checkout_month', 'checkout_day', 'stay_duration',\n",
    "                    'first_time', 'price', 'num_adults']].cov()\n",
    "print(cov_matrix)"
   ]
  },
  {
   "cell_type": "code",
   "execution_count": null,
   "metadata": {},
   "outputs": [],
   "source": [
    "corr_matrix = data[['arrival_month', 'no_show']].corr()\n"
   ]
  },
  {
   "cell_type": "code",
   "execution_count": 284,
   "metadata": {},
   "outputs": [
    {
     "name": "stdout",
     "output_type": "stream",
     "text": [
      "Index(['no_show', 'branch', 'booking_month', 'arrival_month', 'arrival_day',\n",
      "       'arrival_month_January', 'arrival_month_February',\n",
      "       'arrival_month_March', 'arrival_month_April', 'arrival_month_May',\n",
      "       'arrival_month_June', 'arrival_month_July', 'arrival_month_August',\n",
      "       'arrival_month_September', 'arrival_month_October',\n",
      "       'arrival_month_November', 'arrival_month_December', 'arrival_day_type',\n",
      "       'is_holiday_season_in_country', 'checkout_month', 'checkout_day',\n",
      "       'stay_duration', 'country', 'first_time', 'room', 'price', 'platform',\n",
      "       'num_adults', 'num_children'],\n",
      "      dtype='object')\n"
     ]
    }
   ],
   "source": [
    "print(data.columns)\n"
   ]
  },
  {
   "cell_type": "code",
   "execution_count": null,
   "metadata": {},
   "outputs": [
    {
     "name": "stdout",
     "output_type": "stream",
     "text": [
      "no_show                         0.0    1.0\n",
      "is_holiday_season_in_country              \n",
      "0                             49931  30460\n",
      "1                             25235  13764\n"
     ]
    },
    {
     "data": {
      "image/png": "[encoded data removed]",
      "text/plain": [
       "<Figure size 800x600 with 1 Axes>"
      ]
     },
     "metadata": {},
     "output_type": "display_data"
    }
   ],
   "source": [
    "import pandas as pd\n",
    "import matplotlib.pyplot as plt\n",
    "\n",
    "\n",
    "df = pd.DataFrame(data)\n",
    "\n",
    "# Count occurrences of combinations of no_show and is_holiday_season_in_country\n",
    "counts = pd.crosstab(df['is_holiday_season_in_country'], df['no_show'], margins=False)\n",
    "print(counts)\n",
    "# Plot stacked bar chart\n",
    "counts.plot(kind='bar', stacked=True, figsize=(8, 6), color=['skyblue', 'salmon'])\n",
    "plt.title('Stacked Bar Chart: No Show vs Holiday Season')\n",
    "plt.xlabel('Holiday Season (0 = Non-Holiday, 1 = Holiday)')\n",
    "plt.ylabel('Count of No Show')\n",
    "plt.xticks([0, 1], ['Non-Holiday Season', 'Holiday Season'], rotation=0)\n",
    "plt.legend(title='No Show', labels=['Show', 'No Show'])\n",
    "plt.tight_layout()\n",
    "\n",
    "# Show plot\n",
    "plt.show()\n"
   ]
  },
  {
   "cell_type": "code",
   "execution_count": 244,
   "metadata": {},
   "outputs": [
    {
     "name": "stdout",
     "output_type": "stream",
     "text": [
      "no_show             0.0    1.0\n",
      "arrival_day_type              \n",
      "0                 55043  32784\n",
      "1                 20123  11440\n"
     ]
    },
    {
     "data": {
      "image/png": "[encoded data removed]",
      "text/plain": [
       "<Figure size 800x600 with 1 Axes>"
      ]
     },
     "metadata": {},
     "output_type": "display_data"
    }
   ],
   "source": [
    "import pandas as pd\n",
    "import matplotlib.pyplot as plt\n",
    "\n",
    "\n",
    "df = pd.DataFrame(data)\n",
    "\n",
    "# Count occurrences of combinations of no_show and is_holiday_season_in_country\n",
    "counts = pd.crosstab(df['arrival_day_type'], df['no_show'], margins=False)\n",
    "print(counts)\n",
    "# Plot stacked bar chart\n",
    "counts.plot(kind='bar', stacked=True, figsize=(8, 6), color=['skyblue', 'salmon'])\n",
    "plt.title('Stacked Bar Chart: No Show vs Type of Day')\n",
    "plt.xlabel('Type of day (0 = Weekday, 1 = Weekend)')\n",
    "plt.ylabel('Count of No Show')\n",
    "plt.xticks([0, 1], ['Weekday', 'Weekend'], rotation=0)\n",
    "plt.legend(title='No Show', labels=['Show', 'No Show'])\n",
    "plt.tight_layout()\n",
    "\n",
    "# Show plot\n",
    "plt.show()\n"
   ]
  },
  {
   "cell_type": "code",
   "execution_count": 177,
   "metadata": {},
   "outputs": [
    {
     "name": "stdout",
     "output_type": "stream",
     "text": [
      "is_holiday_season_in_country\n",
      "1    80391\n",
      "0    38999\n",
      "Name: count, dtype: int64\n"
     ]
    }
   ],
   "source": [
    "# Count occurrences of each unique value in the 'is_holiday_season_in_country' column\n",
    "holiday_counts = df['is_holiday_season_in_country'].value_counts()\n",
    "\n",
    "print(holiday_counts)"
   ]
  },
  {
   "cell_type": "code",
   "execution_count": 249,
   "metadata": {},
   "outputs": [
    {
     "data": {
      "image/png": "[encoded data removed]",
      "text/plain": [
       "<Figure size 1200x600 with 1 Axes>"
      ]
     },
     "metadata": {},
     "output_type": "display_data"
    },
    {
     "data": {
      "image/png": "[encoded data removed]",
      "text/plain": [
       "<Figure size 1200x600 with 1 Axes>"
      ]
     },
     "metadata": {},
     "output_type": "display_data"
    }
   ],
   "source": [
    "import seaborn as sns\n",
    "\n",
    "# Categorical Feature Exploration - Booking Trends\n",
    "# Define the correct month order\n",
    "month_order = [\"january\", \"february\", \"march\", \"april\", \"may\", \"june\", \n",
    "               \"july\", \"august\", \"september\", \"october\", \"november\", \"december\"]\n",
    "\n",
    "plt.figure(figsize=(12, 6))\n",
    "sns.countplot(x='booking_month', hue='no_show', data=data, palette='coolwarm', \n",
    "              order=month_order)  # Set the correct order\n",
    "plt.title(\"No-Show Rate by Booking Month\")\n",
    "plt.xticks(rotation=45)  # Rotate labels for better visibility\n",
    "plt.show()\n",
    "\n",
    "# Holiday Season Impact\n",
    "data_grouped = data.groupby(['booking_month', 'is_holiday_season_in_country'])['no_show'].mean().reset_index()\n",
    "\n",
    "# Define the correct month order\n",
    "month_order = [\"january\", \"february\", \"march\", \"april\", \"may\", \"june\", \n",
    "               \"july\", \"august\", \"september\", \"october\", \"november\", \"december\"]\n",
    "\n",
    "plt.figure(figsize=(12, 6))\n",
    "ax = sns.barplot(x='booking_month', y='no_show', hue='is_holiday_season_in_country', \n",
    "                 data=data_grouped, palette=[\"#1f77b4\", \"#ff7f0e\"], order=month_order)\n",
    "\n",
    "# Add labels on bars\n",
    "for p in ax.patches:\n",
    "    ax.annotate(f\"{p.get_height():.1%}\",  \n",
    "                (p.get_x() + p.get_width() / 2, p.get_height()),  \n",
    "                ha='center', va='bottom', fontsize=10)\n",
    "\n",
    "# Improve legend\n",
    "plt.legend(title=\"Holiday Season\")\n",
    "\n",
    "# Titles and labels\n",
    "plt.title(\"Percentage of No-Shows During Holiday vs. Non-Holiday by Month\")\n",
    "plt.xlabel(\"Month\")\n",
    "plt.ylabel(\"No-Show Rate (Proportion)\")\n",
    "plt.xticks(rotation=45)\n",
    "\n",
    "plt.show()"
   ]
  },
  {
   "cell_type": "markdown",
   "metadata": {},
   "source": [
    "Graphs to Checks"
   ]
  },
  {
   "cell_type": "code",
   "execution_count": 107,
   "metadata": {},
   "outputs": [
    {
     "ename": "ModuleNotFoundError",
     "evalue": "No module named 'seaborn'",
     "output_type": "error",
     "traceback": [
      "\u001b[1;31m---------------------------------------------------------------------------\u001b[0m",
      "\u001b[1;31mModuleNotFoundError\u001b[0m                       Traceback (most recent call last)",
      "Cell \u001b[1;32mIn[107], line 2\u001b[0m\n\u001b[0;32m      1\u001b[0m \u001b[38;5;28;01mimport\u001b[39;00m \u001b[38;5;21;01mmatplotlib\u001b[39;00m\u001b[38;5;21;01m.\u001b[39;00m\u001b[38;5;21;01mpyplot\u001b[39;00m \u001b[38;5;28;01mas\u001b[39;00m \u001b[38;5;21;01mplt\u001b[39;00m\n\u001b[1;32m----> 2\u001b[0m \u001b[38;5;28;01mimport\u001b[39;00m \u001b[38;5;21;01mseaborn\u001b[39;00m \u001b[38;5;28;01mas\u001b[39;00m \u001b[38;5;21;01msns\u001b[39;00m\n\u001b[0;32m      3\u001b[0m \u001b[38;5;28;01mimport\u001b[39;00m \u001b[38;5;21;01mpandas\u001b[39;00m \u001b[38;5;28;01mas\u001b[39;00m \u001b[38;5;21;01mpd\u001b[39;00m\n\u001b[0;32m      5\u001b[0m \u001b[38;5;66;03m# Visualization Improvements\u001b[39;00m\n\u001b[0;32m      6\u001b[0m \n\u001b[0;32m      7\u001b[0m \u001b[38;5;66;03m# Target Variable: no_show\u001b[39;00m\n\u001b[0;32m      8\u001b[0m \u001b[38;5;66;03m# Objective: Understand the distribution of customers who show up vs. those who don’t.\u001b[39;00m\n",
      "\u001b[1;31mModuleNotFoundError\u001b[0m: No module named 'seaborn'"
     ]
    }
   ],
   "source": [
    "import matplotlib.pyplot as plt\n",
    "import seaborn as sns\n",
    "import pandas as pd\n",
    "\n",
    "# Visualization Improvements\n",
    "\n",
    "# Target Variable: no_show\n",
    "# Objective: Understand the distribution of customers who show up vs. those who don’t.\n",
    "no_show_counts = data['no_show'].value_counts()\n",
    "no_show_percentages = data['no_show'].value_counts(normalize=True) * 100\n",
    "ax = no_show_counts.plot(kind='bar', color=['blue', 'orange'])\n",
    "plt.title('Distribution of No-Show vs. Show')\n",
    "plt.xlabel('No-Show (0 = Show, 1 = No-Show)')\n",
    "plt.ylabel('Count')\n",
    "for i, count in enumerate(no_show_counts):\n",
    "    ax.text(i, count + 100, f'{count}\\n({no_show_percentages[i]:.1f}%)', ha='center')\n",
    "plt.show()\n",
    "print(\"\\nNumber of Customers Who Showed Up vs. No-Show:\\n\", no_show_counts)\n",
    "print(\"\\nPercentage of Customers Who Showed Up vs. No-Show:\\n\", no_show_percentages)\n",
    "\n",
    "# Hotel Branch Analysis\n",
    "# Objective: Analyze how bookings are distributed across branches and their relation to no-shows.\n",
    "ax = sns.countplot(data=data, x='branch', hue='no_show', palette='Set2')\n",
    "plt.title('Branch vs No-Show Rate')\n",
    "plt.xlabel('Hotel Branch')\n",
    "plt.ylabel('Count')\n",
    "for container in ax.containers:\n",
    "    ax.bar_label(container, fmt='%d', label_type='edge')\n",
    "plt.show()\n",
    "branch_stats = data.groupby(['branch', 'no_show']).size().unstack()\n",
    "print(\"\\nBranch No-Show Counts:\\n\", branch_stats)\n",
    "\n",
    "# Booking Month\n",
    "# Objective: Understand if the month of booking affects no-shows.\n",
    "ax = sns.countplot(data=data, x='booking_month', hue='no_show', order=[\n",
    "    'january', 'february', 'march', 'april', 'may', 'june', 'july',\n",
    "    'august', 'september', 'october', 'november', 'december'\n",
    "])\n",
    "plt.title('Booking Month vs No-Show')\n",
    "plt.xlabel('Month')\n",
    "plt.ylabel('Count')\n",
    "plt.xticks(rotation=45)\n",
    "for container in ax.containers:\n",
    "    ax.bar_label(container, fmt='%d', label_type='edge')\n",
    "plt.show()\n",
    "booking_month_stats = data.groupby(['booking_month', 'no_show']).size().unstack()\n",
    "print(\"\\nBooking Month vs No-Show:\\n\", booking_month_stats)\n",
    "\n",
    "# Arrival and Checkout Days\n",
    "# Arrival Days Visualization\n",
    "arrival_day = pd.to_numeric(data['arrival_day'], errors='coerce').dropna()\n",
    "sns.histplot(arrival_day, kde=False, bins=31, color='green')\n",
    "plt.title('Arrival Day Distribution')\n",
    "plt.xlabel('Day of the Month')\n",
    "plt.ylabel('Frequency')\n",
    "plt.show()\n",
    "# no real stats for this\n",
    "\n",
    "# Checkout Days Visualization\n",
    "checkout_day = pd.to_numeric(data['checkout_day'], errors='coerce').dropna()\n",
    "sns.histplot(checkout_day, kde=False, bins=31, color='purple')\n",
    "plt.title('Checkout Day Distribution')\n",
    "plt.xlabel('Day of the Month')\n",
    "plt.ylabel('Frequency')\n",
    "plt.show()\n",
    "# no real stats for this\n",
    "\n",
    "\n",
    "# Price Analysis\n",
    "plot_data = data.dropna(subset=['price'])\n",
    "plot_data['price'] = pd.to_numeric(plot_data['price'], errors='coerce')\n",
    "sns.boxplot(x='no_show', y='price', data=plot_data)\n",
    "plt.title('Room Price vs No-Show')\n",
    "plt.xlabel('No-Show (0 = Show, 1 = No-Show)')\n",
    "plt.ylabel('Room Price')\n",
    "plt.show()\n",
    "\n",
    "# Group by `no_show` and compute IQR for each group\n",
    "def calculate_iqr(group):\n",
    "    q1 = group.quantile(0.25)  # 25th percentile (Q1)\n",
    "    q3 = group.quantile(0.75)  # 75th percentile (Q3)\n",
    "    iqr = q3 - q1  # Interquartile Range\n",
    "    return q1, q3, iqr\n",
    "\n",
    "# Apply the IQR calculation for each no_show group\n",
    "iqr_stats = plot_data.groupby('no_show')['price'].apply(calculate_iqr)\n",
    "# Convert results into a more readable DataFrame\n",
    "iqr_df = pd.DataFrame(iqr_stats.tolist(), columns=['Q1', 'Q3', 'IQR'], index=iqr_stats.index)\n",
    "# Print the IQR DataFrame\n",
    "print(\"\\nInterquartile Ranges (IQR) for Room Price by No-Show:\")\n",
    "print(iqr_df)\n",
    "\n",
    "\n",
    "\n",
    "# Room Type Analysis\n",
    "ax = sns.countplot(data=data, x='room', hue='no_show', palette='Set1')\n",
    "plt.title('Room Type vs No-Show')\n",
    "plt.xlabel('Room Type')\n",
    "plt.ylabel('Count')\n",
    "plt.xticks(rotation=45)\n",
    "for container in ax.containers:\n",
    "    ax.bar_label(container, fmt='%d', label_type='edge')\n",
    "plt.show()\n",
    "room_type_stats = data.groupby(['room', 'no_show']).size().unstack()\n",
    "print(\"\\nRoom Type vs No-Show Counts:\\n\", room_type_stats)\n",
    "\n",
    "# Platform Analysis\n",
    "ax = sns.countplot(data=data, x='platform', hue='no_show', palette='coolwarm')\n",
    "plt.title('Platform vs No-Show')\n",
    "plt.xlabel('Platform')\n",
    "plt.ylabel('Count')\n",
    "plt.xticks(rotation=45)\n",
    "for container in ax.containers:\n",
    "    ax.bar_label(container, fmt='%d', label_type='edge')\n",
    "plt.show()\n",
    "platform_stats = data.groupby(['platform', 'no_show']).size().unstack()\n",
    "print(\"\\nPlatform vs No-Show Counts:\\n\", platform_stats)\n",
    "\n",
    "# Correlation Heatmap\n",
    "numeric_data = data.select_dtypes(include=['float64', 'int64'])\n",
    "corr = numeric_data.corr()\n",
    "sns.heatmap(corr, annot=True, cmap='coolwarm', fmt='.2f')\n",
    "plt.title('Correlation Heatmap')\n",
    "plt.show()\n",
    "print(\"\\nCorrelation Matrix:\\n\", corr)\n",
    "\n",
    "# Group Size (Adults and Children)\n",
    "ax = sns.countplot(data=data, x='num_adults', hue='no_show', palette='mako')\n",
    "plt.title('Number of Adults vs No-Show')\n",
    "plt.xlabel('Number of Adults')\n",
    "plt.ylabel('Count')\n",
    "for container in ax.containers:\n",
    "    ax.bar_label(container, fmt='%d', label_type='edge')\n",
    "plt.show()\n",
    "\n",
    "ax = sns.countplot(data=data, x='num_children', hue='no_show', palette='magma')\n",
    "plt.title('Number of Children vs No-Show')\n",
    "plt.xlabel('Number of Children')\n",
    "plt.ylabel('Count')\n",
    "for container in ax.containers:\n",
    "    ax.bar_label(container, fmt='%d', label_type='edge')\n",
    "plt.show()\n",
    "\n",
    "adults_stats = data.groupby(['num_adults', 'no_show']).size().unstack()\n",
    "children_stats = data.groupby(['num_children', 'no_show']).size().unstack()\n",
    "print(\"\\nAdults Stats:\\n\", adults_stats)\n",
    "print(\"\\nChildren Stats:\\n\", children_stats)"
   ]
  },
  {
   "cell_type": "code",
   "execution_count": null,
   "metadata": {},
   "outputs": [
    {
     "name": "stdout",
     "output_type": "stream",
     "text": [
      "  no_show   branch  booking_month  arrival_month  arrival_day  checkout_month  \\\n",
      "0     0.0   Changi              9              6     1.047942               6   \n",
      "1     0.0  Orchard              1              9     1.389597               9   \n",
      "2     0.0   Changi              7              3    -1.001987               3   \n",
      "3     1.0  Orchard             11             10    -1.685297              10   \n",
      "4     0.0  Orchard              7              6     0.478517               6   \n",
      "\n",
      "   checkout_day    country first_time    room     price platform  num_adults  \\\n",
      "0      1.280535  Singapore        Yes  Single -1.828520  Website         1.0   \n",
      "1      1.508455  Indonesia        Yes    King  1.867676  Website         2.0   \n",
      "2     -0.542817      India        Yes  Single -0.122583    Agent         1.0   \n",
      "3     -1.454494      China        Yes  Single -1.083250  Website         1.0   \n",
      "4      0.938657  Australia        Yes   Queen -0.225974  Website         1.0   \n",
      "\n",
      "  num_children   z_price  z_num_adults  \n",
      "0          0.0 -1.828520     -0.853411  \n",
      "1          0.0  1.867676      1.171768  \n",
      "2          0.0 -0.122583     -0.853411  \n",
      "3          0.0 -1.083250     -0.853411  \n",
      "4          0.0 -0.225974     -0.853411  \n"
     ]
    }
   ],
   "source": []
  },
  {
   "cell_type": "code",
   "execution_count": 106,
   "metadata": {},
   "outputs": [
    {
     "ename": "ModuleNotFoundError",
     "evalue": "No module named 'seaborn'",
     "output_type": "error",
     "traceback": [
      "\u001b[1;31m---------------------------------------------------------------------------\u001b[0m",
      "\u001b[1;31mModuleNotFoundError\u001b[0m                       Traceback (most recent call last)",
      "Cell \u001b[1;32mIn[106], line 7\u001b[0m\n\u001b[0;32m      1\u001b[0m \u001b[38;5;66;03m# To do Change for this\u001b[39;00m\n\u001b[0;32m      2\u001b[0m \u001b[38;5;66;03m# Example: Analyze room type and no-show rate\u001b[39;00m\n\u001b[0;32m      3\u001b[0m \u001b[38;5;66;03m# sns.countplot(data=data, x='Single', hue='no_show')\u001b[39;00m\n\u001b[0;32m      4\u001b[0m \u001b[38;5;66;03m# plt.title('King Room vs No-Show')\u001b[39;00m\n\u001b[0;32m      5\u001b[0m \u001b[38;5;66;03m# plt.show()\u001b[39;00m\n\u001b[1;32m----> 7\u001b[0m \u001b[38;5;28;01mimport\u001b[39;00m \u001b[38;5;21;01mseaborn\u001b[39;00m \u001b[38;5;28;01mas\u001b[39;00m \u001b[38;5;21;01msns\u001b[39;00m\n\u001b[0;32m      8\u001b[0m \u001b[38;5;28;01mimport\u001b[39;00m \u001b[38;5;21;01mmatplotlib\u001b[39;00m\u001b[38;5;21;01m.\u001b[39;00m\u001b[38;5;21;01mpyplot\u001b[39;00m \u001b[38;5;28;01mas\u001b[39;00m \u001b[38;5;21;01mplt\u001b[39;00m\n\u001b[0;32m     10\u001b[0m \u001b[38;5;66;03m# Create a new column for King room identification\u001b[39;00m\n",
      "\u001b[1;31mModuleNotFoundError\u001b[0m: No module named 'seaborn'"
     ]
    }
   ],
   "source": [
    "# To do Change for this\n",
    "# Example: Analyze room type and no-show rate\n",
    "# sns.countplot(data=data, x='Single', hue='no_show')\n",
    "# plt.title('King Room vs No-Show')\n",
    "# plt.show()\n",
    "\n",
    "import seaborn as sns\n",
    "import matplotlib.pyplot as plt\n",
    "\n",
    "# Create a new column for King room identification\n",
    "data['is_king_room'] = data['room'] == \"King\"\n",
    "\n",
    "# Plot using the new column\n",
    "sns.countplot(data=data, x='is_king_room', hue='no_show')\n",
    "plt.title('King Room vs No-Show')\n",
    "plt.xlabel('Is King Room')\n",
    "plt.ylabel('Count')\n",
    "plt.show()\n",
    "\n",
    "\n",
    "# Create a new column for King room identification\n",
    "data['is_queen_room'] = data['room'] == \"Queen\"\n",
    "\n",
    "# Plot using the new column\n",
    "sns.countplot(data=data, x='is_queen_room', hue='no_show')\n",
    "plt.title('Queen Room vs No-Show')\n",
    "plt.xlabel('Is Queen Room')\n",
    "plt.ylabel('Count')\n",
    "plt.show()\n",
    "\n",
    "\n",
    "# Create a new column for King room identification\n",
    "data['is_single_room'] = data['room'] == \"Single\"\n",
    "\n",
    "# Plot using the new column\n",
    "sns.countplot(data=data, x='is_single_room', hue='no_show')\n",
    "plt.title('Single Room vs No-Show')\n",
    "plt.xlabel('Is Single Room')\n",
    "plt.ylabel('Count')\n",
    "plt.show()"
   ]
  },
  {
   "cell_type": "code",
   "execution_count": null,
   "metadata": {},
   "outputs": [
    {
     "data": {
      "image/png": "[encoded data removed]",
      "text/plain": [
       "<Figure size 800x600 with 1 Axes>"
      ]
     },
     "metadata": {},
     "output_type": "display_data"
    },
    {
     "name": "stdout",
     "output_type": "stream",
     "text": [
      "\n"
     ]
    }
   ],
   "source": [
    "# More plots\n",
    "\n",
    "import matplotlib.pyplot as plt\n",
    "\n",
    "# Ensure 'price' and 'num_adults' are numeric\n",
    "plot_data = data.dropna(subset=['price', 'num_adults'])\n",
    "plot_data['price'] = pd.to_numeric(plot_data['price'], errors='coerce')\n",
    "plot_data['num_adults'] = pd.to_numeric(plot_data['num_adults'], errors='coerce')\n",
    "\n",
    "# Create the scatter plot\n",
    "plt.figure(figsize=(8, 6))\n",
    "plt.scatter(plot_data['num_adults'], plot_data['price'], alpha=0.5, c='blue')\n",
    "plt.title('Scatter Plot: Number of Adults vs Room Price')\n",
    "plt.xlabel('Number of Adults')\n",
    "plt.ylabel('Room Price')\n",
    "plt.grid(True)\n",
    "plt.show()\n",
    "\n",
    "print()\n"
   ]
  },
  {
   "cell_type": "code",
   "execution_count": null,
   "metadata": {},
   "outputs": [
    {
     "name": "stdout",
     "output_type": "stream",
     "text": [
      "No-Show Distribution (%):\n",
      " no_show\n",
      "0.0    62.958372\n",
      "1.0    37.041628\n",
      "Name: proportion, dtype: float64\n"
     ]
    }
   ],
   "source": [
    "# 1. No-Show Distribution\n",
    "no_show_stats = data['no_show'].value_counts(normalize=True) * 100\n",
    "print(\"No-Show Distribution (%):\\n\", no_show_stats)"
   ]
  },
  {
   "cell_type": "code",
   "execution_count": null,
   "metadata": {},
   "outputs": [
    {
     "name": "stdout",
     "output_type": "stream",
     "text": [
      "Branch No-Show Counts:\n",
      " branch   no_show\n",
      "Changi   0.0        46228\n",
      "         1.0        33102\n",
      "Orchard  0.0        28938\n",
      "         1.0        11122\n",
      "dtype: int64\n"
     ]
    }
   ],
   "source": [
    "# 2. Branch Analysis\n",
    "branch_stats = data.groupby(['branch', 'no_show']).size()\n",
    "print(\"Branch No-Show Counts:\\n\", branch_stats)\n"
   ]
  },
  {
   "cell_type": "code",
   "execution_count": null,
   "metadata": {},
   "outputs": [
    {
     "name": "stdout",
     "output_type": "stream",
     "text": [
      "Booking Month vs No-Show:\n",
      " no_show         0.0   1.0\n",
      "booking_month            \n",
      "april          5821  3750\n",
      "august         6456  3678\n",
      "december       5982  3579\n",
      "february       6339  3249\n",
      "january        6634  3580\n",
      "july           6037  3956\n",
      "june           6099  4225\n",
      "march          6201  3553\n",
      "may            6200  3388\n",
      "november       6603  3677\n",
      "october        6428  3640\n",
      "september      6366  3949\n"
     ]
    }
   ],
   "source": [
    "# 3. Booking Month Analysis\n",
    "booking_month_stats = data.groupby(['booking_month', 'no_show']).size().unstack()\n",
    "print(\"Booking Month vs No-Show:\\n\", booking_month_stats)\n"
   ]
  },
  {
   "cell_type": "code",
   "execution_count": null,
   "metadata": {},
   "outputs": [
    {
     "name": "stdout",
     "output_type": "stream",
     "text": [
      "Arrival Day - Mean: 15.798241058715135, Median: 16.0\n"
     ]
    }
   ],
   "source": [
    "\n",
    "# 4. Arrival Day Analysis\n",
    "arrival_mean = pd.to_numeric(data['arrival_day'], errors='coerce').mean()\n",
    "arrival_median = pd.to_numeric(data['arrival_day'], errors='coerce').median()\n",
    "print(f\"Arrival Day - Mean: {arrival_mean}, Median: {arrival_median}\")\n"
   ]
  },
  {
   "cell_type": "code",
   "execution_count": null,
   "metadata": {},
   "outputs": [
    {
     "name": "stdout",
     "output_type": "stream",
     "text": [
      "Price Analysis:\n",
      "            count      mean       std       min       25%       50%       75%  \\\n",
      "no_show                                                                        \n",
      "0.0      75166.0  0.040378  1.049230 -2.315315 -0.398290 -0.122583  0.243590   \n",
      "1.0      44224.0 -0.068630  0.906142 -2.315315 -0.393982 -0.122583  0.079889   \n",
      "\n",
      "              max  \n",
      "no_show            \n",
      "0.0      5.094308  \n",
      "1.0      5.085693  \n",
      "\n",
      "Difference (Max - Min):\n",
      "no_show\n",
      "0.0    7.409623\n",
      "1.0    7.401008\n",
      "dtype: float64\n"
     ]
    }
   ],
   "source": [
    "\n",
    "# 5. Price Analysis\n",
    "price_stats = data.groupby('no_show')['price'].describe()\n",
    "print(\"Price Analysis:\\n\", price_stats)\n",
    "\n",
    "# Calculate the difference between max and min values\n",
    "price_diff = price_stats['max'] - price_stats['min']\n",
    "\n",
    "print(\"\\nDifference (Max - Min):\")\n",
    "print(price_diff)\n",
    "\n"
   ]
  },
  {
   "cell_type": "code",
   "execution_count": null,
   "metadata": {},
   "outputs": [
    {
     "name": "stdout",
     "output_type": "stream",
     "text": [
      "Room Type vs No-Show Counts:\n",
      " room             no_show\n",
      "King             0.0        42879\n",
      "                 1.0        27617\n",
      "NA               0.0        13665\n",
      "                 1.0         7947\n",
      "President Suite  0.0          500\n",
      "                 1.0          261\n",
      "Queen            0.0         7430\n",
      "                 1.0         3394\n",
      "Single           0.0        10692\n",
      "                 1.0         5005\n",
      "dtype: int64\n"
     ]
    }
   ],
   "source": [
    "\n",
    "# 6. Room Type Analysis\n",
    "room_type_stats = data.groupby(['room', 'no_show']).size()\n",
    "print(\"Room Type vs No-Show Counts:\\n\", room_type_stats)\n"
   ]
  },
  {
   "cell_type": "code",
   "execution_count": null,
   "metadata": {},
   "outputs": [
    {
     "name": "stdout",
     "output_type": "stream",
     "text": [
      "Platform vs No-Show Counts:\n",
      " platform  no_show\n",
      "Agent     0.0        13696\n",
      "          1.0         8039\n",
      "Email     0.0        20394\n",
      "          1.0        12214\n",
      "Phone     0.0         6892\n",
      "          1.0         3921\n",
      "Website   0.0        34184\n",
      "          1.0        20050\n",
      "dtype: int64\n"
     ]
    }
   ],
   "source": [
    "\n",
    "# 7. Platform Analysis\n",
    "platform_stats = data.groupby(['platform', 'no_show']).size()\n",
    "print(\"Platform vs No-Show Counts:\\n\", platform_stats)\n"
   ]
  },
  {
   "cell_type": "code",
   "execution_count": null,
   "metadata": {},
   "outputs": [
    {
     "name": "stdout",
     "output_type": "stream",
     "text": [
      "Correlation Matrix:\n",
      "                price  num_adults\n",
      "price       1.000000    0.190304\n",
      "num_adults  0.190304    1.000000\n"
     ]
    }
   ],
   "source": [
    "\n",
    "# 8. Correlation Matrix\n",
    "numeric_data = data.select_dtypes(include=['float64', 'int64'])\n",
    "corr = numeric_data.corr()\n",
    "print(\"Correlation Matrix:\\n\", corr)\n"
   ]
  },
  {
   "cell_type": "code",
   "execution_count": null,
   "metadata": {},
   "outputs": [
    {
     "name": "stdout",
     "output_type": "stream",
     "text": [
      "Adults Stats:\n",
      " num_adults  no_show\n",
      "1.0         0.0        43904\n",
      "            1.0        25175\n",
      "2.0         0.0        31262\n",
      "            1.0        19049\n",
      "dtype: int64\n",
      "Children Stats:\n",
      " num_children  no_show\n",
      "0.0           0.0        28464\n",
      "              1.0        16264\n",
      "1.0           0.0        28932\n",
      "              1.0        16624\n",
      "2.0           0.0        17608\n",
      "              1.0        11250\n",
      "3.0           0.0          162\n",
      "              1.0           86\n",
      "dtype: int64\n"
     ]
    }
   ],
   "source": [
    "# 9. Group Size\n",
    "adults_stats = data.groupby(['num_adults', 'no_show']).size()\n",
    "children_stats = data.groupby(['num_children', 'no_show']).size()\n",
    "print(\"Adults Stats:\\n\", adults_stats)\n",
    "print(\"Children Stats:\\n\", children_stats)"
   ]
  },
  {
   "cell_type": "code",
   "execution_count": null,
   "metadata": {},
   "outputs": [],
   "source": []
  },
  {
   "cell_type": "code",
   "execution_count": null,
   "metadata": {},
   "outputs": [
    {
     "name": "stdout",
     "output_type": "stream",
     "text": [
      "  no_show   branch booking_month arrival_month arrival_day checkout_month  \\\n",
      "0     0.0   Changi      november          june        25.0           June   \n",
      "1     0.0  Orchard        august      november        28.0       November   \n",
      "2     0.0   Changi         march      february         7.0       February   \n",
      "3     1.0  Orchard     september       october         1.0        October   \n",
      "4     0.0  Orchard         march          june        20.0           June   \n",
      "\n",
      "  checkout_day    country first_time    room   price platform  num_adults  \\\n",
      "0         27.0  Singapore        Yes  Single   493.0  Website         1.0   \n",
      "1         29.0  Indonesia        Yes    King  1351.0  Website         2.0   \n",
      "2         11.0      India        Yes  Single   889.0    Agent         1.0   \n",
      "3          3.0      China        Yes  Single   666.0  Website         1.0   \n",
      "4         24.0  Australia        Yes   Queen   865.0  Website         1.0   \n",
      "\n",
      "  num_children  \n",
      "0          0.0  \n",
      "1          0.0  \n",
      "2          0.0  \n",
      "3          0.0  \n",
      "4          0.0  \n"
     ]
    }
   ],
   "source": [
    "print(data.head())"
   ]
  },
  {
   "cell_type": "code",
   "execution_count": 171,
   "metadata": {},
   "outputs": [
    {
     "name": "stdout",
     "output_type": "stream",
     "text": [
      "numberical column\n",
      "Index(['price', 'num_adults'], dtype='object')\n",
      "\n",
      "\n",
      "Processing Column: price\n",
      "\n",
      "Z-Score Outliers in price (Threshold=3): 711\n",
      "         price   z_price\n",
      "20      1725.0  3.478838\n",
      "145     1736.0  3.526225\n",
      "248     2003.0  4.676440\n",
      "250     2059.0  4.917684\n",
      "656     2036.0  4.818602\n",
      "...        ...       ...\n",
      "117426  1820.0  3.888091\n",
      "117583  1740.0  3.543457\n",
      "117831  1811.0  3.849319\n",
      "117865  2050.0  4.878912\n",
      "117964  1856.0  4.043176\n",
      "\n",
      "[711 rows x 2 columns]\n",
      "\n",
      "IQR Outliers in price: 30851\n",
      "         price\n",
      "0        493.0\n",
      "1       1351.0\n",
      "5       1500.0\n",
      "6       1375.0\n",
      "9       1252.0\n",
      "...        ...\n",
      "119361  1161.0\n",
      "119371   420.0\n",
      "119378  1331.0\n",
      "119381   432.0\n",
      "119387  1354.0\n",
      "\n",
      "[30851 rows x 1 columns]\n"
     ]
    },
    {
     "data": {
      "image/png": "[encoded data removed]",
      "text/plain": [
       "<Figure size 800x400 with 1 Axes>"
      ]
     },
     "metadata": {},
     "output_type": "display_data"
    },
    {
     "name": "stdout",
     "output_type": "stream",
     "text": [
      "\n",
      "Processing Column: num_adults\n",
      "\n",
      "Z-Score Outliers in num_adults (Threshold=3): 0\n",
      "Empty DataFrame\n",
      "Columns: [num_adults, z_num_adults]\n",
      "Index: []\n",
      "\n",
      "IQR Outliers in num_adults: 0\n",
      "Empty DataFrame\n",
      "Columns: [num_adults]\n",
      "Index: []\n"
     ]
    },
    {
     "data": {
      "image/png": "[encoded data removed]",
      "text/plain": [
       "<Figure size 800x400 with 1 Axes>"
      ]
     },
     "metadata": {},
     "output_type": "display_data"
    }
   ],
   "source": [
    "# to do1 and investigate more. \n",
    "\n",
    "import pandas as pd\n",
    "import numpy as np\n",
    "from scipy.stats import zscore\n",
    "import matplotlib.pyplot as plt\n",
    "import seaborn as sns\n",
    "\n",
    "# Function for Z-Score Outlier Detection\n",
    "def detect_outliers_zscore(data, column, threshold=3):\n",
    "    data[f'z_{column}'] = zscore(data[column])\n",
    "    outliers = data[(data[f'z_{column}'] > threshold) | (data[f'z_{column}'] < -threshold)]\n",
    "    print(f\"\\nZ-Score Outliers in {column} (Threshold={threshold}): {len(outliers)}\")\n",
    "    print(outliers[[column, f'z_{column}']])\n",
    "    return outliers\n",
    "\n",
    "# Function for IQR Outlier Detection\n",
    "def detect_outliers_iqr(data, column):\n",
    "    Q1 = data[column].quantile(0.25)\n",
    "    Q3 = data[column].quantile(0.75)\n",
    "    IQR = Q3 - Q1\n",
    "    lower_bound = Q1 - 1.5 * IQR\n",
    "    upper_bound = Q3 + 1.5 * IQR\n",
    "    outliers = data[(data[column] < lower_bound) | (data[column] > upper_bound)]\n",
    "    print(f\"\\nIQR Outliers in {column}: {len(outliers)}\")\n",
    "    print(outliers[[column]])\n",
    "    return outliers\n",
    "\n",
    "# Apply Outlier Detection Methods to All Numerical Columns\n",
    "numerical_columns = data.select_dtypes(include=['float64', 'int64']).columns\n",
    "print(\"numberical column\")\n",
    "print(numerical_columns)\n",
    "print()\n",
    "for col in numerical_columns:\n",
    "    print(f\"\\nProcessing Column: {col}\")\n",
    "    z_outliers = detect_outliers_zscore(data, col)  # Z-Score Method\n",
    "    iqr_outliers = detect_outliers_iqr(data, col)  # IQR Method\n",
    "\n",
    "    # Visualize outliers with a boxplot\n",
    "    plt.figure(figsize=(8, 4))\n",
    "    sns.boxplot(data=data, x=col, color='skyblue')\n",
    "    plt.title(f'Outlier Detection for {col}')\n",
    "    plt.xlabel(col.capitalize())\n",
    "    plt.show()\n",
    "    \n",
    "# to do 2\n",
    "# # # Outlier Detection:\n",
    "\n",
    "# # example of stat method\n",
    "# # from scipy.stats import zscore\n",
    "# # data['z_score'] = zscore(data['numeric_column'])\n",
    "# # data = data[data['z_score'].abs() < 3]  # Keep data within 3 standard deviations\n",
    "\n",
    "# # #IQR\n",
    "# # Q1 = data.quantile(0.25)\n",
    "# # Q3 = data.quantile(0.75)\n",
    "# # IQR = Q3 - Q1\n",
    "# # outliers = data[(data < Q1 - 1.5 * IQR) | (data > Q3 + 1.5 * IQR)]\n",
    "\n",
    "# from scipy.stats import zscore\n",
    "\n",
    "# # Select numerical columns\n",
    "# numerical_columns = ['price', 'num_adults', 'num_children']\n",
    "\n",
    "# # Process each numerical column\n",
    "# for col in numerical_columns:\n",
    "#     # Convert to numeric and handle non-numeric values\n",
    "#     data[col] = pd.to_numeric(data[col], errors='coerce')  # Convert to numeric, replace non-numeric with NaN\n",
    "    \n",
    "#     # Handle missing values\n",
    "#     data[col].fillna(data[col].mean(), inplace=True)  # Replace NaNs with the mean of the column\n",
    "\n",
    "#     # Calculate Z-scores\n",
    "#     data[f'z_{col}'] = zscore(data[col])  # Compute Z-scores\n",
    "\n",
    "#     # Find outliers\n",
    "#     outliers = data[(data[f'z_{col}'] > 3) | (data[f'z_{col}'] < -3)]  # Z-scores beyond 3 or -3\n",
    "#     print(f\"Outliers in {col}:\")\n",
    "#     print(outliers[[col, f'z_{col}']])\n",
    "    \n",
    "# # Function to detect outliers using IQR\n",
    "# def detect_outliers_iqr(column):\n",
    "#     Q1 = data[column].quantile(0.25)  # First quartile (25th percentile)\n",
    "#     Q3 = data[column].quantile(0.75)  # Third quartile (75th percentile)\n",
    "#     IQR = Q3 - Q1  # Interquartile range\n",
    "#     lower_bound = Q1 - 1.5 * IQR\n",
    "#     upper_bound = Q3 + 1.5 * IQR\n",
    "    \n",
    "#     outliers = data[(data[column] < lower_bound) | (data[column] > upper_bound)]\n",
    "#     print(f\"Outliers in {column}:\")\n",
    "#     print(outliers[[column]])\n",
    "#     return outliers\n",
    "\n",
    "# # Apply the function to numerical columns\n",
    "# for col in numerical_columns:\n",
    "#     detect_outliers_iqr(col)"
   ]
  },
  {
   "cell_type": "code",
   "execution_count": null,
   "metadata": {},
   "outputs": [],
   "source": []
  },
  {
   "cell_type": "code",
   "execution_count": null,
   "metadata": {},
   "outputs": [],
   "source": []
  },
  {
   "cell_type": "code",
   "execution_count": null,
   "metadata": {},
   "outputs": [],
   "source": []
  },
  {
   "cell_type": "code",
   "execution_count": 172,
   "metadata": {},
   "outputs": [
    {
     "name": "stdout",
     "output_type": "stream",
     "text": [
      "  no_show   branch booking_month arrival_month arrival_day checkout_month  \\\n",
      "0     0.0   Changi      november          june        25.0           June   \n",
      "1     0.0  Orchard        august      november        28.0       November   \n",
      "2     0.0   Changi         march      february         7.0       February   \n",
      "3     1.0  Orchard     september       october         1.0        October   \n",
      "4     0.0  Orchard         march          june        20.0           June   \n",
      "\n",
      "  checkout_day    country first_time    room   price platform  num_adults  \\\n",
      "0         27.0  Singapore        Yes  Single   493.0  Website         1.0   \n",
      "1         29.0  Indonesia        Yes    King  1351.0  Website         2.0   \n",
      "2         11.0      India        Yes  Single   889.0    Agent         1.0   \n",
      "3          3.0      China        Yes  Single   666.0  Website         1.0   \n",
      "4         24.0  Australia        Yes   Queen   865.0  Website         1.0   \n",
      "\n",
      "  num_children   z_price  z_num_adults  \n",
      "0          0.0 -1.828520     -0.853411  \n",
      "1          0.0  1.867676      1.171768  \n",
      "2          0.0 -0.122583     -0.853411  \n",
      "3          0.0 -1.083250     -0.853411  \n",
      "4          0.0 -0.225974     -0.853411  \n"
     ]
    }
   ],
   "source": [
    "print(data.head(5))"
   ]
  },
  {
   "cell_type": "markdown",
   "metadata": {},
   "source": [
    "# Feature engineering section\n",
    "\n",
    "## Handle missing value [done]\n",
    "\n",
    "## Binning [not done]:Group continuous variables into bins to simplify relationships or reduce noise.\n",
    "#Create bins for price\n",
    "bins = [0, 200, 500, 1000, 5000]\n",
    "labels = ['Low', 'Medium', 'High', 'Very High']\n",
    "data['price_bin'] = pd.cut(data['price'], bins=bins, labels=labels)\n",
    "\n",
    "\n",
    "\n",
    "## Encoding categorical variable [not done] (labe lencoding, one-hot encoding):Machine learning models require numerical inputs.\n",
    "#One-Hot Encoding:: Assign unique integers to each category.\n",
    "data = pd.get_dummies(data, columns=['branch', 'platform'], drop_first=True)\n",
    "\n",
    "#Label Encoding:Create binary (0/1) columns for each category.\n",
    "from sklearn.preprocessing import LabelEncoder\n",
    "le = LabelEncoder()\n",
    "data['room_encoded'] = le.fit_transform(data['room'])\n",
    "\n",
    "\n",
    "## Interaction features [not done]:Combining features can reveal relationships that individual features may not capture.\n",
    "data['total_people'] = data['num_adults'] + data['num_children']\n",
    "\n",
    "## scaling and normalization:Features on different scales (e.g., price vs. num_adults) can mislead models.\n",
    "#z-scale\n",
    "from sklearn.preprocessing import StandardScaler, MinMaxScaler\n",
    "\n",
    "scaler = StandardScaler()\n",
    "data[numerical_columns] = scaler.fit_transform(data[numerical_columns])\n",
    "\n",
    "\n",
    "## feature transformation: Nonlinear relationships can be addressed by transforming features.\n",
    "###Log transformation\n",
    "data['log_price'] = np.log1p(data['price'])\n",
    "\n",
    "###Polynomial features\n",
    "from sklearn.preprocessing import PolynomialFeatures\n",
    "poly = PolynomialFeatures(degree=2, interaction_only=True, include_bias=False)\n",
    "poly_features = poly.fit_transform(data[['price', 'num_adults']])\n",
    "\n",
    "\n",
    "## Target encoding\n",
    "target_means = data.groupby('room')['no_show'].mean()\n",
    "data['room_encoded'] = data['room'].map(target_means)"
   ]
  },
  {
   "cell_type": "code",
   "execution_count": null,
   "metadata": {},
   "outputs": [],
   "source": [
    "#encoding categorical variable [label encoding / one-hot]\n",
    "\n",
    "# Use One-Hot Encoding for categorical features like branch, platform, room, etc.\n",
    "# Use Label Encoding if the categories are ordinal (e.g., first_time).\n",
    "\n",
    "from sklearn.preprocessing import LabelEncoder\n",
    "\n",
    "# Label Encoding for room and first_time\n",
    "le = LabelEncoder()\n",
    "data['room'] = le.fit_transform(data['room'])  # Encode room (e.g., Single -> 0)\n",
    "data['first_time'] = data['first_time'].map({'Yes': 1, 'No': 0})  # Encode first_time (Yes -> 1)\n",
    "\n",
    "# One-Hot Encoding for categorical columns\n",
    "data = pd.get_dummies(data, columns=['branch', 'platform', 'country'], drop_first=True)\n",
    "\n"
   ]
  },
  {
   "cell_type": "code",
   "execution_count": null,
   "metadata": {},
   "outputs": [],
   "source": [
    "# Z-score outlier removal for 'price'\n",
    "# from scipy.stats import zscore\n",
    "# data['z_price'] = zscore(data['price'])\n",
    "# data = data[(data['z_price'].abs() < 3)]"
   ]
  },
  {
   "cell_type": "code",
   "execution_count": null,
   "metadata": {},
   "outputs": [],
   "source": [
    "# Intearction feature\n",
    "data['length_of_stay'] = data['checkout_day'] - data['arrival_day']\n",
    "\n",
    "# Feature engineering\n",
    "data['peak_season'] = data['arrival_month'].apply(lambda x: 1 if x in ['june', 'july', 'august'] else 0)\n",
    "\n",
    "# Create total people feature\n",
    "data['total_people'] = data['num_adults'] + data['num_children']\n",
    "\n",
    "# Example: Convert months to numeric\n",
    "month_map = {'january': 1, 'february': 2, 'march': 3, 'april': 4, 'may': 5, 'jun\te': 6,\n",
    "             'july': 7, 'august': 8, 'september': 9, 'october': 10, 'november': 11, 'december': 12}\n",
    "data['booking_month'] = data['booking_month'].map(month_map)\n",
    "data['arrival_month'] = data['arrival_month'].map(month_map)\n",
    "\n"
   ]
  },
  {
   "cell_type": "code",
   "execution_count": null,
   "metadata": {},
   "outputs": [],
   "source": [
    "#scaling and normalization\n",
    "from sklearn.preprocessing import StandardScaler\n",
    "scaler = StandardScaler()\n",
    "data[['price', 'total_people']] = scaler.fit_transform(data[['price', 'total_people']])"
   ]
  },
  {
   "cell_type": "code",
   "execution_count": 197,
   "metadata": {},
   "outputs": [],
   "source": [
    "# Feature transformation\n",
    "# standardization (Z-Score Scaling)/ Min-Max Scaling\n"
   ]
  },
  {
   "cell_type": "markdown",
   "metadata": {},
   "source": [
    "To REVIEw\n",
    "\n",
    "# Encode Categorical Features:\n",
    "from sklearn.preprocessing import OneHotEncoder, LabelEncoder\n",
    "\n",
    "'''# Example columns to encode\n",
    "categorical_columns = ['branch', 'platform', 'room']\n",
    "\n",
    "# One-Hot Encoding for nominal variables\n",
    "data = pd.get_dummies(data, columns=categorical_columns)\n",
    "\n",
    "# Label Encoding for ordinal variables\n",
    "# Example: If you have ordinal data like `Low`, `Medium`, `High`\n",
    "label_encoder = LabelEncoder()\n",
    "data['booking_month'] = label_encoder.fit_transform(data['booking_month'])\n",
    "'''\n",
    "\n",
    "#encoding 2\n",
    "from sklearn.preprocessing import StandardScaler\n",
    "\n",
    "scaler = StandardScaler()\n",
    "data[['price', 'arrival_day', 'checkout_day']] = scaler.fit_transform(data[['price', 'arrival_day', 'checkout_day']])\n",
    "\n",
    "label_encoder = LabelEncoder()\n",
    "\n",
    "# Encoding Categorical Columns\n",
    "# Encode month columns\n",
    "data['booking_month'] = label_encoder.fit_transform(data['booking_month'])\n",
    "data['arrival_month'] = label_encoder.fit_transform(data['arrival_month'])\n",
    "data['checkout_month'] = label_encoder.fit_transform(data['checkout_month'])\n",
    "\n",
    "#if requried\n",
    "# data = pd.get_dummies(data, columns=['country'], drop_first=True)  # One-hot encoding\n"
   ]
  },
  {
   "cell_type": "code",
   "execution_count": null,
   "metadata": {},
   "outputs": [],
   "source": []
  },
  {
   "cell_type": "code",
   "execution_count": null,
   "metadata": {},
   "outputs": [
    {
     "ename": "NameError",
     "evalue": "name 'X' is not defined",
     "output_type": "error",
     "traceback": [
      "\u001b[0;31m---------------------------------------------------------------------------\u001b[0m",
      "\u001b[0;31mNameError\u001b[0m                                 Traceback (most recent call last)",
      "Cell \u001b[0;32mIn[178], line 41\u001b[0m\n\u001b[1;32m     38\u001b[0m \u001b[38;5;66;03m# X = data.drop(columns=['no_show', 'booking_id'])  # Features\u001b[39;00m\n\u001b[1;32m     39\u001b[0m y \u001b[38;5;241m=\u001b[39m data[\u001b[38;5;124m'\u001b[39m\u001b[38;5;124mno_show\u001b[39m\u001b[38;5;124m'\u001b[39m]  \u001b[38;5;66;03m# Target variable\u001b[39;00m\n\u001b[0;32m---> 41\u001b[0m X_train, X_test, y_train, y_test \u001b[38;5;241m=\u001b[39m train_test_split(\u001b[43mX\u001b[49m, y, test_size\u001b[38;5;241m=\u001b[39m\u001b[38;5;241m0.2\u001b[39m, random_state\u001b[38;5;241m=\u001b[39m\u001b[38;5;241m42\u001b[39m)\n\u001b[1;32m     43\u001b[0m \u001b[38;5;66;03m#EDA\u001b[39;00m\n\u001b[1;32m     44\u001b[0m \n\u001b[1;32m     45\u001b[0m \u001b[38;5;66;03m# Example: Analyze room type and no-show rate\u001b[39;00m\n\u001b[0;32m   (...)\u001b[0m\n\u001b[1;32m     49\u001b[0m \n\u001b[1;32m     50\u001b[0m \u001b[38;5;66;03m# Feature engineering\u001b[39;00m\n\u001b[1;32m     51\u001b[0m data[\u001b[38;5;124m'\u001b[39m\u001b[38;5;124mlength_of_stay\u001b[39m\u001b[38;5;124m'\u001b[39m] \u001b[38;5;241m=\u001b[39m data[\u001b[38;5;124m'\u001b[39m\u001b[38;5;124mcheckout_day\u001b[39m\u001b[38;5;124m'\u001b[39m] \u001b[38;5;241m-\u001b[39m data[\u001b[38;5;124m'\u001b[39m\u001b[38;5;124marrival_day\u001b[39m\u001b[38;5;124m'\u001b[39m]\n",
      "\u001b[0;31mNameError\u001b[0m: name 'X' is not defined"
     ]
    }
   ],
   "source": [
    "# to do for binary classification~\n",
    "\n",
    "# train split\n",
    "from sklearn.model_selection import train_test_split\n",
    "\n",
    "# X = data.drop(columns=['no_show', 'booking_id'])  # Features\n",
    "y = data['no_show']  # Target variable\n",
    "\n",
    "X_train, X_test, y_train, y_test = train_test_split(X, y, test_size=0.2, random_state=42)\n",
    "\n",
    "#EDA\n",
    "\n",
    "\n",
    "\n",
    "from sklearn.ensemble import RandomForestClassifier\n",
    "from sklearn.metrics import classification_report, confusion_matrix\n",
    "\n",
    "\n",
    "\n",
    "model = RandomForestClassifier(random_state=42)\n",
    "model.fit(X_train, y_train)\n",
    "\n",
    "y_pred = model.predict(X_test)\n",
    "print(confusion_matrix(y_test, y_pred))\n",
    "print(classification_report(y_test, y_pred))\n",
    "\n"
   ]
  },
  {
   "cell_type": "markdown",
   "metadata": {},
   "source": []
  }
 ],
 "metadata": {
  "kernelspec": {
   "display_name": "Python 3",
   "language": "python",
   "name": "python3"
  },
  "language_info": {
   "codemirror_mode": {
    "name": "ipython",
    "version": 3
   },
   "file_extension": ".py",
   "mimetype": "text/x-python",
   "name": "python",
   "nbconvert_exporter": "python",
   "pygments_lexer": "ipython3",
   "version": "3.12.9"
  }
 },
 "nbformat": 4,
 "nbformat_minor": 2
}
